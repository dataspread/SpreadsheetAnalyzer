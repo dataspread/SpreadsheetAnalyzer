{
 "cells": [
  {
   "cell_type": "code",
   "execution_count": 1,
   "id": "d476ad8e",
   "metadata": {},
   "outputs": [],
   "source": [
    "import pandas as pd\n",
    "import numpy as np\n",
    "import os\n",
    "import matplotlib.pyplot as plt\n",
    "import matplotlib.cm as cm\n",
    "from matplotlib import rcParams"
   ]
  },
  {
   "cell_type": "code",
   "execution_count": 2,
   "id": "39c04664-2f07-4845-99ed-4e11aa8971ba",
   "metadata": {},
   "outputs": [],
   "source": [
    "IS_GAP = False"
   ]
  },
  {
   "cell_type": "code",
   "execution_count": 3,
   "id": "4e4e9f94-999a-4a82-a370-4ee7f64457bf",
   "metadata": {},
   "outputs": [],
   "source": [
    "notebook_home = os.path.abspath('')\n",
    "stat_results = os.path.join(notebook_home, \"stat_results\") if IS_GAP else os.path.join(notebook_home, \"stat_results_nogap\")\n",
    "lookup_results = os.path.join(notebook_home, \"lookup_results\") if IS_GAP else os.path.join(notebook_home, \"lookup_results_nogap\")\n",
    "modify_results = os.path.join(notebook_home, \"modify_results\") if IS_GAP else os.path.join(notebook_home, \"modify_results_nogap\")\n",
    "enron_stat, github_stat = os.path.join(stat_results, \"enron\", \"output\"), os.path.join(stat_results, \"github\", \"output\")\n",
    "enron_lookup, github_lookup = os.path.join(lookup_results, \"enron\", \"output\"), os.path.join(lookup_results, \"github\", \"output\")\n",
    "enron_modify, github_modify = os.path.join(modify_results, \"enron\", \"output\"), os.path.join(modify_results, \"github\", \"output\")"
   ]
  },
  {
   "cell_type": "code",
   "execution_count": 4,
   "id": "2afb9795-96bc-446e-a5d5-c52eca177354",
   "metadata": {},
   "outputs": [],
   "source": [
    "GRAPH_COLOR = cm.YlGnBu\n",
    "color_dict = {\n",
    "    \"TACO\": GRAPH_COLOR(90),\n",
    "    \"NoComp\": GRAPH_COLOR(190)\n",
    "}\n",
    "rcParams['font.family'] = 'Serif'\n",
    "legend_size = 15\n",
    "label_size = 20\n",
    "tick_size = 20\n",
    "fig_width = 8\n",
    "fig_height = 5"
   ]
  },
  {
   "cell_type": "code",
   "execution_count": 5,
   "id": "c3a8b18d",
   "metadata": {},
   "outputs": [],
   "source": [
    "def get_pdf_df(df, column_name, is_log=True):\n",
    "    ls = [x for x in df[column_name] if x > 10]\n",
    "    length = len(ls)\n",
    "    if is_log:\n",
    "        data = pd.Series(np.log10(ls))\n",
    "    else:\n",
    "        data = pd.Series(ls)\n",
    "    freq = data.value_counts().sort_index(axis=0, ascending=True).reset_index() \n",
    "    freq[0] = freq[0] / length\n",
    "    freq['cumsum'] = np.cumsum(freq[0])\n",
    "    return freq"
   ]
  },
  {
   "cell_type": "code",
   "execution_count": 6,
   "id": "bd2136ce-5b67-4832-a18e-453714e92275",
   "metadata": {},
   "outputs": [],
   "source": [
    "def convert_upper_str(num):\n",
    "    upper_ls = '⁰¹²³⁴⁵⁶⁷⁸⁹'\n",
    "    index = int(np.log10(num))\n",
    "    return str(10) + upper_ls[int(np.log10(num))]"
   ]
  },
  {
   "cell_type": "code",
   "execution_count": 7,
   "id": "a40480da-6df9-47f3-b5dd-bb46e87cd97d",
   "metadata": {},
   "outputs": [],
   "source": [
    "def plot_percentile(df_ls, \n",
    "                    legend_ls, \n",
    "                    xlabel, \n",
    "                    ylabel, \n",
    "                    x_tick_min,\n",
    "                    x_tick_max,\n",
    "                    x_tick_num,\n",
    "                    fig_size=(fig_width, fig_height),\n",
    "                    legend_size=legend_size,\n",
    "                    tick_size=tick_size,\n",
    "                    label_size=label_size,\n",
    "                    color_dict=color_dict,\n",
    "                    save_path=None):\n",
    "    assert len(df_ls) == len(legend_ls)\n",
    "    fig, ax = plt.subplots(figsize=fig_size)\n",
    "    for i in range(len(df_ls)):\n",
    "        df, label = df_ls[i], legend_ls[i]\n",
    "        ax.plot(df['index'], df['cumsum'], label=label, color=color_dict[label])\n",
    "    \n",
    "    ax.set_xlabel(xlabel, fontsize=label_size)\n",
    "    ax.set_ylabel(ylabel, fontsize=label_size)\n",
    "    x_ticks = np.arange(x_tick_min, x_tick_max+0.1, step=(x_tick_max - x_tick_min)/x_tick_num).astype(int)\n",
    "    ax.set_xticks(x_ticks)\n",
    "    ax.set_xticklabels([convert_upper_str(10**x) for x in x_ticks], fontsize=tick_size)\n",
    "    ax.legend(fontsize=legend_size)\n",
    "    fig.tight_layout()\n",
    "    \n",
    "    if save_path is not None:\n",
    "        plt.savefig(save_path)\n",
    "    plt.show()"
   ]
  },
  {
   "cell_type": "code",
   "execution_count": 8,
   "id": "b893fbf6-907a-41d0-8220-fc767b73b6ef",
   "metadata": {},
   "outputs": [],
   "source": [
    "def plot_percentile_transpose(df_ls, \n",
    "                    legend_ls, \n",
    "                    xlabel, \n",
    "                    ylabel, \n",
    "                    y_tick_min,\n",
    "                    y_tick_max,\n",
    "                    y_tick_num,\n",
    "                    fig_size=(fig_width, fig_height),\n",
    "                    legend_size=legend_size,\n",
    "                    tick_size=tick_size,\n",
    "                    label_size=label_size,\n",
    "                    color_dict=color_dict,\n",
    "                    save_path=None):\n",
    "    \n",
    "    assert len(df_ls) == len(legend_ls)\n",
    "    fig, ax = plt.subplots(figsize=fig_size)\n",
    "    for i in range(len(df_ls)):\n",
    "        df, label = df_ls[i], legend_ls[i]\n",
    "        ax.plot(df['cumsum'], df['index'], label=label, color=color_dict[label])\n",
    "    \n",
    "    ax.set_xlabel(xlabel, fontsize=label_size)\n",
    "    ax.set_ylabel(ylabel, fontsize=label_size)\n",
    "    y_ticks = np.arange(y_tick_min, y_tick_max+0.1, step=(y_tick_max - y_tick_min)/y_tick_num).astype(int)\n",
    "    ax.set_yticks(y_ticks)\n",
    "    ax.set_yticklabels([convert_upper_str(10**x) for x in y_ticks], fontsize=tick_size)\n",
    "    ax.legend(fontsize=legend_size)\n",
    "    fig.tight_layout()\n",
    "    \n",
    "    if save_path is not None:\n",
    "        plt.savefig(save_path)\n",
    "    plt.show()"
   ]
  },
  {
   "cell_type": "markdown",
   "id": "06cf9717",
   "metadata": {},
   "source": [
    "# 1. Compressed Formula Graph Sizes"
   ]
  },
  {
   "cell_type": "code",
   "execution_count": 9,
   "id": "2c8d8fdf",
   "metadata": {},
   "outputs": [],
   "source": [
    "def graph_compare_preprocess(df, is_inrow=False):\n",
    "    df['Edges_Diff'] = df['numEdges'] - df['numCompEdges']\n",
    "    df['Edges_Prec'] = df['numCompEdges'] / df['numEdges']\n",
    "    if not is_inrow and IS_GAP:\n",
    "        pattern_type = ['RR', 'RF', 'FR', 'FF', 'RR-Chain', 'RRGap']\n",
    "        for pattern in pattern_type:\n",
    "            if pattern != 'RRGap':\n",
    "                df[pattern + \"_Diff\"] = df[pattern + \"_NoComp\"] - df[pattern + \"_Comp\"]\n",
    "            else:\n",
    "                df[pattern + \"_Diff\"] = 0\n",
    "                gaps = ['One', 'Two', 'Three', 'Four', 'Five', 'Six', 'Seven']\n",
    "                for gap in gaps:\n",
    "                    pattern_name = pattern + gap\n",
    "                    df[pattern + \"_Diff\"] += (df[pattern_name + \"_NoComp\"] - df[pattern_name + \"_Comp\"])\n",
    "    return df"
   ]
  },
  {
   "cell_type": "code",
   "execution_count": 10,
   "id": "389c1e62",
   "metadata": {},
   "outputs": [],
   "source": [
    "df_enron_stat = graph_compare_preprocess(pd.read_csv(enron_stat + \"/\" + \"enron_taco_dollar_stat.csv\"))\n",
    "df_github_stat = graph_compare_preprocess(pd.read_csv(github_stat + \"/\" + \"github_taco_dollar_stat.csv\"))\n",
    "df_enron_inrow_stat = graph_compare_preprocess(pd.read_csv(enron_stat + \"/\" + \"enron_taco_inrow_stat.csv\"), True)\n",
    "df_github_inrow_stat = graph_compare_preprocess(pd.read_csv(github_stat + \"/\" + \"github_taco_inrow_stat.csv\"), True)"
   ]
  },
  {
   "cell_type": "code",
   "execution_count": 11,
   "id": "3a0197d4",
   "metadata": {},
   "outputs": [
    {
     "data": {
      "text/html": [
       "<div>\n",
       "<style scoped>\n",
       "    .dataframe tbody tr th:only-of-type {\n",
       "        vertical-align: middle;\n",
       "    }\n",
       "\n",
       "    .dataframe tbody tr th {\n",
       "        vertical-align: top;\n",
       "    }\n",
       "\n",
       "    .dataframe thead th {\n",
       "        text-align: right;\n",
       "    }\n",
       "</style>\n",
       "<table border=\"1\" class=\"dataframe\">\n",
       "  <thead>\n",
       "    <tr style=\"text-align: right;\">\n",
       "      <th></th>\n",
       "      <th>fileName</th>\n",
       "      <th>numFormulae</th>\n",
       "      <th>numVertices</th>\n",
       "      <th>numEdges</th>\n",
       "      <th>numCompVertices</th>\n",
       "      <th>numCompEdges</th>\n",
       "      <th>graphBuildTime</th>\n",
       "      <th>RR-Chain_Comp</th>\n",
       "      <th>RR-Chain_NoComp</th>\n",
       "      <th>RR_Comp</th>\n",
       "      <th>...</th>\n",
       "      <th>RRGapFive_Comp</th>\n",
       "      <th>RRGapFive_NoComp</th>\n",
       "      <th>RRGapSix_Comp</th>\n",
       "      <th>RRGapSix_NoComp</th>\n",
       "      <th>RRGapSeven_Comp</th>\n",
       "      <th>RRGapSeven_NoComp</th>\n",
       "      <th>NoComp_Comp</th>\n",
       "      <th>NoComp_NoComp</th>\n",
       "      <th>Edges_Diff</th>\n",
       "      <th>Edges_Prec</th>\n",
       "    </tr>\n",
       "  </thead>\n",
       "  <tbody>\n",
       "    <tr>\n",
       "      <th>0</th>\n",
       "      <td>chris_germany_000_1_2.pst.1111.xls</td>\n",
       "      <td>8270</td>\n",
       "      <td>27200</td>\n",
       "      <td>26350</td>\n",
       "      <td>11520</td>\n",
       "      <td>11160</td>\n",
       "      <td>1967</td>\n",
       "      <td>0</td>\n",
       "      <td>0</td>\n",
       "      <td>11160</td>\n",
       "      <td>...</td>\n",
       "      <td>0</td>\n",
       "      <td>0</td>\n",
       "      <td>0</td>\n",
       "      <td>0</td>\n",
       "      <td>0</td>\n",
       "      <td>0</td>\n",
       "      <td>0</td>\n",
       "      <td>0</td>\n",
       "      <td>15190</td>\n",
       "      <td>0.423529</td>\n",
       "    </tr>\n",
       "    <tr>\n",
       "      <th>1</th>\n",
       "      <td>chris_germany_000_1_2.pst.1136.xls</td>\n",
       "      <td>1707</td>\n",
       "      <td>54464</td>\n",
       "      <td>52762</td>\n",
       "      <td>23055</td>\n",
       "      <td>22325</td>\n",
       "      <td>2254</td>\n",
       "      <td>0</td>\n",
       "      <td>0</td>\n",
       "      <td>22315</td>\n",
       "      <td>...</td>\n",
       "      <td>0</td>\n",
       "      <td>0</td>\n",
       "      <td>0</td>\n",
       "      <td>0</td>\n",
       "      <td>0</td>\n",
       "      <td>0</td>\n",
       "      <td>10</td>\n",
       "      <td>10</td>\n",
       "      <td>30437</td>\n",
       "      <td>0.423126</td>\n",
       "    </tr>\n",
       "    <tr>\n",
       "      <th>2</th>\n",
       "      <td>kevin_ruscitti_000_1_1.pst.100.xls</td>\n",
       "      <td>8268</td>\n",
       "      <td>27200</td>\n",
       "      <td>26350</td>\n",
       "      <td>11520</td>\n",
       "      <td>11160</td>\n",
       "      <td>1151</td>\n",
       "      <td>0</td>\n",
       "      <td>0</td>\n",
       "      <td>11160</td>\n",
       "      <td>...</td>\n",
       "      <td>0</td>\n",
       "      <td>0</td>\n",
       "      <td>0</td>\n",
       "      <td>0</td>\n",
       "      <td>0</td>\n",
       "      <td>0</td>\n",
       "      <td>0</td>\n",
       "      <td>0</td>\n",
       "      <td>15190</td>\n",
       "      <td>0.423529</td>\n",
       "    </tr>\n",
       "    <tr>\n",
       "      <th>3</th>\n",
       "      <td>kevin_ruscitti_000_1_1.pst.101.xls</td>\n",
       "      <td>8268</td>\n",
       "      <td>27200</td>\n",
       "      <td>26350</td>\n",
       "      <td>11520</td>\n",
       "      <td>11160</td>\n",
       "      <td>1043</td>\n",
       "      <td>0</td>\n",
       "      <td>0</td>\n",
       "      <td>11160</td>\n",
       "      <td>...</td>\n",
       "      <td>0</td>\n",
       "      <td>0</td>\n",
       "      <td>0</td>\n",
       "      <td>0</td>\n",
       "      <td>0</td>\n",
       "      <td>0</td>\n",
       "      <td>0</td>\n",
       "      <td>0</td>\n",
       "      <td>15190</td>\n",
       "      <td>0.423529</td>\n",
       "    </tr>\n",
       "    <tr>\n",
       "      <th>4</th>\n",
       "      <td>kevin_ruscitti_000_1_1.pst.152.xls</td>\n",
       "      <td>12398</td>\n",
       "      <td>27200</td>\n",
       "      <td>26350</td>\n",
       "      <td>11520</td>\n",
       "      <td>11160</td>\n",
       "      <td>1175</td>\n",
       "      <td>0</td>\n",
       "      <td>0</td>\n",
       "      <td>11160</td>\n",
       "      <td>...</td>\n",
       "      <td>0</td>\n",
       "      <td>0</td>\n",
       "      <td>0</td>\n",
       "      <td>0</td>\n",
       "      <td>0</td>\n",
       "      <td>0</td>\n",
       "      <td>0</td>\n",
       "      <td>0</td>\n",
       "      <td>15190</td>\n",
       "      <td>0.423529</td>\n",
       "    </tr>\n",
       "  </tbody>\n",
       "</table>\n",
       "<p>5 rows × 35 columns</p>\n",
       "</div>"
      ],
      "text/plain": [
       "                             fileName  numFormulae  numVertices  numEdges  \\\n",
       "0  chris_germany_000_1_2.pst.1111.xls         8270        27200     26350   \n",
       "1  chris_germany_000_1_2.pst.1136.xls         1707        54464     52762   \n",
       "2  kevin_ruscitti_000_1_1.pst.100.xls         8268        27200     26350   \n",
       "3  kevin_ruscitti_000_1_1.pst.101.xls         8268        27200     26350   \n",
       "4  kevin_ruscitti_000_1_1.pst.152.xls        12398        27200     26350   \n",
       "\n",
       "   numCompVertices  numCompEdges  graphBuildTime  RR-Chain_Comp  \\\n",
       "0            11520         11160            1967              0   \n",
       "1            23055         22325            2254              0   \n",
       "2            11520         11160            1151              0   \n",
       "3            11520         11160            1043              0   \n",
       "4            11520         11160            1175              0   \n",
       "\n",
       "   RR-Chain_NoComp  RR_Comp  ...  RRGapFive_Comp  RRGapFive_NoComp  \\\n",
       "0                0    11160  ...               0                 0   \n",
       "1                0    22315  ...               0                 0   \n",
       "2                0    11160  ...               0                 0   \n",
       "3                0    11160  ...               0                 0   \n",
       "4                0    11160  ...               0                 0   \n",
       "\n",
       "   RRGapSix_Comp  RRGapSix_NoComp  RRGapSeven_Comp  RRGapSeven_NoComp  \\\n",
       "0              0                0                0                  0   \n",
       "1              0                0                0                  0   \n",
       "2              0                0                0                  0   \n",
       "3              0                0                0                  0   \n",
       "4              0                0                0                  0   \n",
       "\n",
       "   NoComp_Comp  NoComp_NoComp  Edges_Diff  Edges_Prec  \n",
       "0            0              0       15190    0.423529  \n",
       "1           10             10       30437    0.423126  \n",
       "2            0              0       15190    0.423529  \n",
       "3            0              0       15190    0.423529  \n",
       "4            0              0       15190    0.423529  \n",
       "\n",
       "[5 rows x 35 columns]"
      ]
     },
     "execution_count": 11,
     "metadata": {},
     "output_type": "execute_result"
    }
   ],
   "source": [
    "df_enron_stat.head()"
   ]
  },
  {
   "cell_type": "markdown",
   "id": "fa576052",
   "metadata": {},
   "source": [
    "## 1.1 Formula graph sizes after TACO compression (low is better)"
   ]
  },
  {
   "cell_type": "code",
   "execution_count": 12,
   "id": "d3ea39db",
   "metadata": {},
   "outputs": [
    {
     "data": {
      "text/html": [
       "<div>\n",
       "<style scoped>\n",
       "    .dataframe tbody tr th:only-of-type {\n",
       "        vertical-align: middle;\n",
       "    }\n",
       "\n",
       "    .dataframe tbody tr th {\n",
       "        vertical-align: top;\n",
       "    }\n",
       "\n",
       "    .dataframe thead th {\n",
       "        text-align: right;\n",
       "    }\n",
       "</style>\n",
       "<table border=\"1\" class=\"dataframe\">\n",
       "  <thead>\n",
       "    <tr style=\"text-align: right;\">\n",
       "      <th></th>\n",
       "      <th>Vertices</th>\n",
       "      <th>Edges</th>\n",
       "      <th>Vertices_Percentage</th>\n",
       "      <th>Edges_Percentage</th>\n",
       "    </tr>\n",
       "  </thead>\n",
       "  <tbody>\n",
       "    <tr>\n",
       "      <th>NoComp</th>\n",
       "      <td>18467065</td>\n",
       "      <td>23032538</td>\n",
       "      <td>1.000000</td>\n",
       "      <td>1.000000</td>\n",
       "    </tr>\n",
       "    <tr>\n",
       "      <th>TACO-Inrow</th>\n",
       "      <td>7501421</td>\n",
       "      <td>11820157</td>\n",
       "      <td>0.406205</td>\n",
       "      <td>0.513194</td>\n",
       "    </tr>\n",
       "    <tr>\n",
       "      <th>TACO</th>\n",
       "      <td>1172585</td>\n",
       "      <td>1182874</td>\n",
       "      <td>0.063496</td>\n",
       "      <td>0.051357</td>\n",
       "    </tr>\n",
       "  </tbody>\n",
       "</table>\n",
       "</div>"
      ],
      "text/plain": [
       "            Vertices     Edges  Vertices_Percentage  Edges_Percentage\n",
       "NoComp      18467065  23032538             1.000000          1.000000\n",
       "TACO-Inrow   7501421  11820157             0.406205          0.513194\n",
       "TACO         1172585   1182874             0.063496          0.051357"
      ]
     },
     "execution_count": 12,
     "metadata": {},
     "output_type": "execute_result"
    }
   ],
   "source": [
    "df_graph_enron_compare = pd.DataFrame()\n",
    "df_graph_enron_compare.index = ['NoComp', 'TACO-Inrow', 'TACO']\n",
    "df_graph_enron_compare['Vertices'] = [df_enron_stat['numVertices'].sum(), df_enron_inrow_stat['numCompVertices'].sum(), df_enron_stat['numCompVertices'].sum()]\n",
    "df_graph_enron_compare['Edges'] = [df_enron_stat['numEdges'].sum(), df_enron_inrow_stat['numCompEdges'].sum(), df_enron_stat['numCompEdges'].sum()]\n",
    "df_graph_enron_compare['Vertices_Percentage'] = df_graph_enron_compare['Vertices'] / df_graph_enron_compare['Vertices'].max()\n",
    "df_graph_enron_compare['Edges_Percentage'] = df_graph_enron_compare['Edges'] / df_graph_enron_compare['Edges'].max()\n",
    "df_graph_enron_compare"
   ]
  },
  {
   "cell_type": "code",
   "execution_count": 13,
   "id": "69e297a4",
   "metadata": {},
   "outputs": [
    {
     "data": {
      "text/html": [
       "<div>\n",
       "<style scoped>\n",
       "    .dataframe tbody tr th:only-of-type {\n",
       "        vertical-align: middle;\n",
       "    }\n",
       "\n",
       "    .dataframe tbody tr th {\n",
       "        vertical-align: top;\n",
       "    }\n",
       "\n",
       "    .dataframe thead th {\n",
       "        text-align: right;\n",
       "    }\n",
       "</style>\n",
       "<table border=\"1\" class=\"dataframe\">\n",
       "  <thead>\n",
       "    <tr style=\"text-align: right;\">\n",
       "      <th></th>\n",
       "      <th>Vertices</th>\n",
       "      <th>Edges</th>\n",
       "      <th>Vertices_Percentage</th>\n",
       "      <th>Edges_Percentage</th>\n",
       "    </tr>\n",
       "  </thead>\n",
       "  <tbody>\n",
       "    <tr>\n",
       "      <th>NoComp</th>\n",
       "      <td>118366859</td>\n",
       "      <td>142266425</td>\n",
       "      <td>1.000000</td>\n",
       "      <td>1.000000</td>\n",
       "    </tr>\n",
       "    <tr>\n",
       "      <th>TACO-Inrow</th>\n",
       "      <td>55202070</td>\n",
       "      <td>55202070</td>\n",
       "      <td>0.466364</td>\n",
       "      <td>0.388019</td>\n",
       "    </tr>\n",
       "    <tr>\n",
       "      <th>TACO</th>\n",
       "      <td>3423708</td>\n",
       "      <td>3044112</td>\n",
       "      <td>0.028925</td>\n",
       "      <td>0.021397</td>\n",
       "    </tr>\n",
       "  </tbody>\n",
       "</table>\n",
       "</div>"
      ],
      "text/plain": [
       "             Vertices      Edges  Vertices_Percentage  Edges_Percentage\n",
       "NoComp      118366859  142266425             1.000000          1.000000\n",
       "TACO-Inrow   55202070   55202070             0.466364          0.388019\n",
       "TACO          3423708    3044112             0.028925          0.021397"
      ]
     },
     "execution_count": 13,
     "metadata": {},
     "output_type": "execute_result"
    }
   ],
   "source": [
    "df_graph_github_compare = pd.DataFrame()\n",
    "df_graph_github_compare.index = ['NoComp', 'TACO-Inrow', 'TACO']\n",
    "df_graph_github_compare['Vertices'] = [df_github_stat['numVertices'].sum(), df_github_inrow_stat['numCompVertices'].sum(), df_github_stat['numCompVertices'].sum()]\n",
    "df_graph_github_compare['Edges'] = [df_github_stat['numEdges'].sum(), df_github_inrow_stat['numCompVertices'].sum(), df_github_stat['numCompEdges'].sum()]\n",
    "df_graph_github_compare['Vertices_Percentage'] = df_graph_github_compare['Vertices'] / df_graph_github_compare['Vertices'].max()\n",
    "df_graph_github_compare['Edges_Percentage'] = df_graph_github_compare['Edges'] / df_graph_github_compare['Edges'].max()\n",
    "df_graph_github_compare"
   ]
  },
  {
   "cell_type": "markdown",
   "id": "21b08414",
   "metadata": {},
   "source": [
    "## 1.2 The number of edges reduced by TACO (high is better)"
   ]
  },
  {
   "cell_type": "code",
   "execution_count": 14,
   "id": "ea040611",
   "metadata": {},
   "outputs": [
    {
     "data": {
      "text/html": [
       "<div>\n",
       "<style scoped>\n",
       "    .dataframe tbody tr th:only-of-type {\n",
       "        vertical-align: middle;\n",
       "    }\n",
       "\n",
       "    .dataframe tbody tr th {\n",
       "        vertical-align: top;\n",
       "    }\n",
       "\n",
       "    .dataframe thead th {\n",
       "        text-align: right;\n",
       "    }\n",
       "</style>\n",
       "<table border=\"1\" class=\"dataframe\">\n",
       "  <thead>\n",
       "    <tr style=\"text-align: right;\">\n",
       "      <th></th>\n",
       "      <th>max</th>\n",
       "      <th>75%</th>\n",
       "      <th>50%</th>\n",
       "      <th>mean</th>\n",
       "    </tr>\n",
       "  </thead>\n",
       "  <tbody>\n",
       "    <tr>\n",
       "      <th>TACO-Inrow</th>\n",
       "      <td>142396.0</td>\n",
       "      <td>18200.0</td>\n",
       "      <td>12518.0</td>\n",
       "      <td>18907.893761</td>\n",
       "    </tr>\n",
       "    <tr>\n",
       "      <th>TACO</th>\n",
       "      <td>303220.0</td>\n",
       "      <td>36654.0</td>\n",
       "      <td>18317.0</td>\n",
       "      <td>36845.976391</td>\n",
       "    </tr>\n",
       "  </tbody>\n",
       "</table>\n",
       "</div>"
      ],
      "text/plain": [
       "                 max      75%      50%          mean\n",
       "TACO-Inrow  142396.0  18200.0  12518.0  18907.893761\n",
       "TACO        303220.0  36654.0  18317.0  36845.976391"
      ]
     },
     "execution_count": 14,
     "metadata": {},
     "output_type": "execute_result"
    }
   ],
   "source": [
    "df_enron_edge_reduce = pd.DataFrame()\n",
    "df_enron_edge_reduce['TACO-Inrow'] = df_enron_inrow_stat['Edges_Diff']\n",
    "df_enron_edge_reduce['TACO'] = df_enron_stat['Edges_Diff']\n",
    "df_enron_edge_reduce.describe().T[['max', '75%', '50%', 'mean']]"
   ]
  },
  {
   "cell_type": "code",
   "execution_count": 15,
   "id": "b27f7397",
   "metadata": {},
   "outputs": [
    {
     "data": {
      "text/html": [
       "<div>\n",
       "<style scoped>\n",
       "    .dataframe tbody tr th:only-of-type {\n",
       "        vertical-align: middle;\n",
       "    }\n",
       "\n",
       "    .dataframe tbody tr th {\n",
       "        vertical-align: top;\n",
       "    }\n",
       "\n",
       "    .dataframe thead th {\n",
       "        text-align: right;\n",
       "    }\n",
       "</style>\n",
       "<table border=\"1\" class=\"dataframe\">\n",
       "  <thead>\n",
       "    <tr style=\"text-align: right;\">\n",
       "      <th></th>\n",
       "      <th>max</th>\n",
       "      <th>75%</th>\n",
       "      <th>50%</th>\n",
       "      <th>mean</th>\n",
       "    </tr>\n",
       "  </thead>\n",
       "  <tbody>\n",
       "    <tr>\n",
       "      <th>TACO-Inrow</th>\n",
       "      <td>1693698.0</td>\n",
       "      <td>42760.0</td>\n",
       "      <td>19706.0</td>\n",
       "      <td>45315.060687</td>\n",
       "    </tr>\n",
       "    <tr>\n",
       "      <th>TACO</th>\n",
       "      <td>3139011.0</td>\n",
       "      <td>81192.0</td>\n",
       "      <td>33970.0</td>\n",
       "      <td>88171.192527</td>\n",
       "    </tr>\n",
       "  </tbody>\n",
       "</table>\n",
       "</div>"
      ],
      "text/plain": [
       "                  max      75%      50%          mean\n",
       "TACO-Inrow  1693698.0  42760.0  19706.0  45315.060687\n",
       "TACO        3139011.0  81192.0  33970.0  88171.192527"
      ]
     },
     "execution_count": 15,
     "metadata": {},
     "output_type": "execute_result"
    }
   ],
   "source": [
    "df_github_edge_reduce = pd.DataFrame()\n",
    "df_github_edge_reduce['TACO-Inrow'] = df_github_inrow_stat['Edges_Diff']\n",
    "df_github_edge_reduce['TACO'] = df_github_stat['Edges_Diff']\n",
    "df_github_edge_reduce.describe().T[['max', '75%', '50%', 'mean']]"
   ]
  },
  {
   "cell_type": "markdown",
   "id": "19d66c1a",
   "metadata": {},
   "source": [
    "## 1.3 Remaining edge fractions after compression (low is better)"
   ]
  },
  {
   "cell_type": "code",
   "execution_count": 16,
   "id": "560e81dd",
   "metadata": {},
   "outputs": [
    {
     "data": {
      "text/html": [
       "<div>\n",
       "<style scoped>\n",
       "    .dataframe tbody tr th:only-of-type {\n",
       "        vertical-align: middle;\n",
       "    }\n",
       "\n",
       "    .dataframe tbody tr th {\n",
       "        vertical-align: top;\n",
       "    }\n",
       "\n",
       "    .dataframe thead th {\n",
       "        text-align: right;\n",
       "    }\n",
       "</style>\n",
       "<table border=\"1\" class=\"dataframe\">\n",
       "  <thead>\n",
       "    <tr style=\"text-align: right;\">\n",
       "      <th></th>\n",
       "      <th>min</th>\n",
       "      <th>25%</th>\n",
       "      <th>50%</th>\n",
       "      <th>mean</th>\n",
       "    </tr>\n",
       "  </thead>\n",
       "  <tbody>\n",
       "    <tr>\n",
       "      <th>TACO-Inrow</th>\n",
       "      <td>0.000042</td>\n",
       "      <td>0.063182</td>\n",
       "      <td>0.395909</td>\n",
       "      <td>0.421758</td>\n",
       "    </tr>\n",
       "    <tr>\n",
       "      <th>TACO</th>\n",
       "      <td>0.000042</td>\n",
       "      <td>0.004786</td>\n",
       "      <td>0.019305</td>\n",
       "      <td>0.073779</td>\n",
       "    </tr>\n",
       "  </tbody>\n",
       "</table>\n",
       "</div>"
      ],
      "text/plain": [
       "                 min       25%       50%      mean\n",
       "TACO-Inrow  0.000042  0.063182  0.395909  0.421758\n",
       "TACO        0.000042  0.004786  0.019305  0.073779"
      ]
     },
     "execution_count": 16,
     "metadata": {},
     "output_type": "execute_result"
    }
   ],
   "source": [
    "df_enron_edge_prec = pd.DataFrame()\n",
    "df_enron_edge_prec['TACO-Inrow'] = df_enron_inrow_stat['Edges_Prec']\n",
    "df_enron_edge_prec['TACO'] = df_enron_stat['Edges_Prec']\n",
    "df_enron_edge_prec.describe().T[['min', '25%', '50%', 'mean']]"
   ]
  },
  {
   "cell_type": "code",
   "execution_count": 17,
   "id": "23a5e3b7",
   "metadata": {},
   "outputs": [
    {
     "data": {
      "text/html": [
       "<div>\n",
       "<style scoped>\n",
       "    .dataframe tbody tr th:only-of-type {\n",
       "        vertical-align: middle;\n",
       "    }\n",
       "\n",
       "    .dataframe tbody tr th {\n",
       "        vertical-align: top;\n",
       "    }\n",
       "\n",
       "    .dataframe thead th {\n",
       "        text-align: right;\n",
       "    }\n",
       "</style>\n",
       "<table border=\"1\" class=\"dataframe\">\n",
       "  <thead>\n",
       "    <tr style=\"text-align: right;\">\n",
       "      <th></th>\n",
       "      <th>min</th>\n",
       "      <th>25%</th>\n",
       "      <th>50%</th>\n",
       "      <th>mean</th>\n",
       "    </tr>\n",
       "  </thead>\n",
       "  <tbody>\n",
       "    <tr>\n",
       "      <th>TACO-Inrow</th>\n",
       "      <td>0.000005</td>\n",
       "      <td>0.000994</td>\n",
       "      <td>0.175731</td>\n",
       "      <td>0.364964</td>\n",
       "    </tr>\n",
       "    <tr>\n",
       "      <th>TACO</th>\n",
       "      <td>0.000008</td>\n",
       "      <td>0.000667</td>\n",
       "      <td>0.003516</td>\n",
       "      <td>0.034203</td>\n",
       "    </tr>\n",
       "  </tbody>\n",
       "</table>\n",
       "</div>"
      ],
      "text/plain": [
       "                 min       25%       50%      mean\n",
       "TACO-Inrow  0.000005  0.000994  0.175731  0.364964\n",
       "TACO        0.000008  0.000667  0.003516  0.034203"
      ]
     },
     "execution_count": 17,
     "metadata": {},
     "output_type": "execute_result"
    }
   ],
   "source": [
    "df_github_edge_prec = pd.DataFrame()\n",
    "df_github_edge_prec['TACO-Inrow'] = df_github_inrow_stat['Edges_Prec']\n",
    "df_github_edge_prec['TACO'] = df_github_stat['Edges_Prec']\n",
    "df_github_edge_prec.describe().T[['min', '25%', '50%', 'mean']]"
   ]
  },
  {
   "cell_type": "markdown",
   "id": "857dd3df",
   "metadata": {},
   "source": [
    "## 1.4 Number of edges reduced by each pattern (high is better)"
   ]
  },
  {
   "cell_type": "code",
   "execution_count": 18,
   "id": "8b5dad39",
   "metadata": {},
   "outputs": [],
   "source": [
    "if IS_GAP:\n",
    "    df_enron_pattern_reduce = pd.DataFrame()\n",
    "    pattern_type = ['RR', 'RF', 'FR', 'FF', 'RR-Chain', 'RRGap']\n",
    "    for pattern in pattern_type:\n",
    "        df_enron_pattern_reduce[pattern] = df_enron_stat[pattern + \"_Diff\"]\n",
    "    df_enron_pattern_stat = pd.DataFrame()\n",
    "    df_enron_pattern_stat.index = df_enron_pattern_reduce.T.index\n",
    "    df_enron_pattern_stat['Sum'] = df_enron_pattern_reduce.sum()\n",
    "    df_enron_pattern_stat['Max'] = df_enron_pattern_reduce.max()\n",
    "    df_enron_pattern_stat"
   ]
  },
  {
   "cell_type": "code",
   "execution_count": 19,
   "id": "f3cd52c9",
   "metadata": {},
   "outputs": [],
   "source": [
    "if IS_GAP:\n",
    "    df_github_pattern_reduce = pd.DataFrame()\n",
    "    pattern_type = ['RR', 'RF', 'FR', 'FF', 'RR-Chain', 'RRGap']\n",
    "    for pattern in pattern_type:\n",
    "        df_github_pattern_reduce[pattern] = df_github_stat[pattern + \"_Diff\"]\n",
    "    df_github_pattern_stat = pd.DataFrame()\n",
    "    df_github_pattern_stat.index = df_github_pattern_reduce.T.index\n",
    "    df_github_pattern_stat['Sum'] = df_github_pattern_reduce.sum()\n",
    "    df_github_pattern_stat['Max'] = df_github_pattern_reduce.max()\n",
    "    df_github_pattern_stat"
   ]
  },
  {
   "cell_type": "markdown",
   "id": "26dad6a0",
   "metadata": {},
   "source": [
    "# 2. Building Graphs"
   ]
  },
  {
   "cell_type": "code",
   "execution_count": 20,
   "id": "82ce0683",
   "metadata": {},
   "outputs": [],
   "source": [
    "column_list = ['fileName', 'GraphBuildTime']\n",
    "df_enron_taco_max = pd.read_csv(f\"{enron_lookup}/enron_max_taco_10k_1.csv\")[column_list]\n",
    "df_enron_taco_long = pd.read_csv(f\"{enron_lookup}/enron_long_taco_10k_1.csv\")[column_list]\n",
    "df_enron_nocomp_max = pd.read_csv(f\"{enron_lookup}/enron_max_nocomp_10k_1.csv\")[column_list]\n",
    "df_enron_nocomp_long = pd.read_csv(f\"{enron_lookup}/enron_long_nocomp_10k_1.csv\")[column_list]\n",
    "df_github_taco_max =  pd.read_csv(f\"{github_lookup}/github_max_taco_10k_1.csv\")[column_list]\n",
    "df_github_taco_long = pd.read_csv(f\"{github_lookup}/github_long_taco_10k_1.csv\")[column_list]\n",
    "df_github_nocomp_max = pd.read_csv(f\"{github_lookup}/github_max_nocomp_10k_1.csv\")[column_list]\n",
    "df_github_nocomp_long = pd.read_csv(f\"{github_lookup}/github_long_nocomp_10k_1.csv\")[column_list]"
   ]
  },
  {
   "cell_type": "code",
   "execution_count": 21,
   "id": "ee4cf761",
   "metadata": {},
   "outputs": [],
   "source": [
    "df_enron_taco = pd.merge(df_enron_taco_max, df_enron_taco_long, how=\"inner\", on=[\"fileName\"])\n",
    "df_enron_nocomp = pd.merge(df_enron_nocomp_max, df_enron_nocomp_long, how=\"inner\", on=[\"fileName\"])\n",
    "df_enron_taco['TACO_GraphBuildTime'] = (df_enron_taco['GraphBuildTime_x'] + df_enron_taco['GraphBuildTime_y']) / 2.\n",
    "df_enron_nocomp['NoComp_GraphBuildTime'] = (df_enron_nocomp['GraphBuildTime_x'] + df_enron_nocomp['GraphBuildTime_y']) / 2."
   ]
  },
  {
   "cell_type": "code",
   "execution_count": 22,
   "id": "76229e85",
   "metadata": {},
   "outputs": [],
   "source": [
    "enron_graph_result = pd.merge(df_enron_taco, df_enron_nocomp, how=\"inner\", on=['fileName'])[['fileName', 'TACO_GraphBuildTime', 'NoComp_GraphBuildTime']]"
   ]
  },
  {
   "cell_type": "code",
   "execution_count": 23,
   "id": "4715f59c",
   "metadata": {},
   "outputs": [
    {
     "data": {
      "text/html": [
       "<div>\n",
       "<style scoped>\n",
       "    .dataframe tbody tr th:only-of-type {\n",
       "        vertical-align: middle;\n",
       "    }\n",
       "\n",
       "    .dataframe tbody tr th {\n",
       "        vertical-align: top;\n",
       "    }\n",
       "\n",
       "    .dataframe thead th {\n",
       "        text-align: right;\n",
       "    }\n",
       "</style>\n",
       "<table border=\"1\" class=\"dataframe\">\n",
       "  <thead>\n",
       "    <tr style=\"text-align: right;\">\n",
       "      <th></th>\n",
       "      <th>fileName</th>\n",
       "      <th>TACO_GraphBuildTime</th>\n",
       "      <th>NoComp_GraphBuildTime</th>\n",
       "    </tr>\n",
       "  </thead>\n",
       "  <tbody>\n",
       "    <tr>\n",
       "      <th>0</th>\n",
       "      <td>stacey_white_000_1_1.pst.254.xls</td>\n",
       "      <td>1754.5</td>\n",
       "      <td>981.0</td>\n",
       "    </tr>\n",
       "    <tr>\n",
       "      <th>1</th>\n",
       "      <td>darron_c_giron_002_1_1_1.pst.177.xls</td>\n",
       "      <td>650.0</td>\n",
       "      <td>263.0</td>\n",
       "    </tr>\n",
       "    <tr>\n",
       "      <th>2</th>\n",
       "      <td>stacey_white_000_1_1.pst.262.xls</td>\n",
       "      <td>3257.0</td>\n",
       "      <td>1883.0</td>\n",
       "    </tr>\n",
       "    <tr>\n",
       "      <th>3</th>\n",
       "      <td>mike_grigsby_000_1_1_1.pst.248.xls</td>\n",
       "      <td>150.0</td>\n",
       "      <td>157.5</td>\n",
       "    </tr>\n",
       "    <tr>\n",
       "      <th>4</th>\n",
       "      <td>kevin_ruscitti_000_1_1.pst.156.xls</td>\n",
       "      <td>1123.5</td>\n",
       "      <td>218.0</td>\n",
       "    </tr>\n",
       "  </tbody>\n",
       "</table>\n",
       "</div>"
      ],
      "text/plain": [
       "                               fileName  TACO_GraphBuildTime  \\\n",
       "0      stacey_white_000_1_1.pst.254.xls               1754.5   \n",
       "1  darron_c_giron_002_1_1_1.pst.177.xls                650.0   \n",
       "2      stacey_white_000_1_1.pst.262.xls               3257.0   \n",
       "3    mike_grigsby_000_1_1_1.pst.248.xls                150.0   \n",
       "4    kevin_ruscitti_000_1_1.pst.156.xls               1123.5   \n",
       "\n",
       "   NoComp_GraphBuildTime  \n",
       "0                  981.0  \n",
       "1                  263.0  \n",
       "2                 1883.0  \n",
       "3                  157.5  \n",
       "4                  218.0  "
      ]
     },
     "execution_count": 23,
     "metadata": {},
     "output_type": "execute_result"
    }
   ],
   "source": [
    "enron_graph_result.head()"
   ]
  },
  {
   "cell_type": "code",
   "execution_count": 24,
   "id": "6e799c17",
   "metadata": {},
   "outputs": [
    {
     "data": {
      "text/plain": [
       "(793.4543918918919, 315.1722972972973)"
      ]
     },
     "execution_count": 24,
     "metadata": {},
     "output_type": "execute_result"
    }
   ],
   "source": [
    "enron_graph_result['TACO_GraphBuildTime'].mean(), enron_graph_result['NoComp_GraphBuildTime'].mean()"
   ]
  },
  {
   "cell_type": "code",
   "execution_count": 25,
   "id": "be8d3127",
   "metadata": {},
   "outputs": [
    {
     "data": {
      "text/html": [
       "<div>\n",
       "<style scoped>\n",
       "    .dataframe tbody tr th:only-of-type {\n",
       "        vertical-align: middle;\n",
       "    }\n",
       "\n",
       "    .dataframe tbody tr th {\n",
       "        vertical-align: top;\n",
       "    }\n",
       "\n",
       "    .dataframe thead th {\n",
       "        text-align: right;\n",
       "    }\n",
       "</style>\n",
       "<table border=\"1\" class=\"dataframe\">\n",
       "  <thead>\n",
       "    <tr style=\"text-align: right;\">\n",
       "      <th></th>\n",
       "      <th>fileName</th>\n",
       "      <th>TACO_GraphBuildTime</th>\n",
       "      <th>NoComp_GraphBuildTime</th>\n",
       "    </tr>\n",
       "  </thead>\n",
       "  <tbody>\n",
       "    <tr>\n",
       "      <th>280</th>\n",
       "      <td>vkaminski_001_1_2_1.pst.62.xls</td>\n",
       "      <td>13329.0</td>\n",
       "      <td>1544.0</td>\n",
       "    </tr>\n",
       "    <tr>\n",
       "      <th>220</th>\n",
       "      <td>mark_haedicke_000_1_2.pst.31.xls</td>\n",
       "      <td>5973.0</td>\n",
       "      <td>1659.5</td>\n",
       "    </tr>\n",
       "    <tr>\n",
       "      <th>151</th>\n",
       "      <td>gstorey_000_1_1.pst.116.xls</td>\n",
       "      <td>5715.5</td>\n",
       "      <td>2368.0</td>\n",
       "    </tr>\n",
       "    <tr>\n",
       "      <th>38</th>\n",
       "      <td>john_lavorato_000_1_1_1.pst.57.xls</td>\n",
       "      <td>5485.5</td>\n",
       "      <td>1695.5</td>\n",
       "    </tr>\n",
       "    <tr>\n",
       "      <th>126</th>\n",
       "      <td>phillip_m_love_000_1_1.pst.476.xls</td>\n",
       "      <td>5211.5</td>\n",
       "      <td>1543.5</td>\n",
       "    </tr>\n",
       "    <tr>\n",
       "      <th>...</th>\n",
       "      <td>...</td>\n",
       "      <td>...</td>\n",
       "      <td>...</td>\n",
       "    </tr>\n",
       "    <tr>\n",
       "      <th>131</th>\n",
       "      <td>richard_shapiro_001_1_2.pst.124.xls</td>\n",
       "      <td>68.5</td>\n",
       "      <td>69.5</td>\n",
       "    </tr>\n",
       "    <tr>\n",
       "      <th>298</th>\n",
       "      <td>cooper_richey_000_1_1.pst.30.xls</td>\n",
       "      <td>62.0</td>\n",
       "      <td>66.0</td>\n",
       "    </tr>\n",
       "    <tr>\n",
       "      <th>53</th>\n",
       "      <td>john_zufferli_000_1_1.pst.54.xls</td>\n",
       "      <td>61.5</td>\n",
       "      <td>61.5</td>\n",
       "    </tr>\n",
       "    <tr>\n",
       "      <th>249</th>\n",
       "      <td>joe_stepenovitch_000_1_1.pst.15.xls</td>\n",
       "      <td>36.0</td>\n",
       "      <td>37.0</td>\n",
       "    </tr>\n",
       "    <tr>\n",
       "      <th>334</th>\n",
       "      <td>joe_quenet_000_1_1.pst.17.xls</td>\n",
       "      <td>35.5</td>\n",
       "      <td>37.5</td>\n",
       "    </tr>\n",
       "  </tbody>\n",
       "</table>\n",
       "<p>592 rows × 3 columns</p>\n",
       "</div>"
      ],
      "text/plain": [
       "                                fileName  TACO_GraphBuildTime  \\\n",
       "280       vkaminski_001_1_2_1.pst.62.xls              13329.0   \n",
       "220     mark_haedicke_000_1_2.pst.31.xls               5973.0   \n",
       "151          gstorey_000_1_1.pst.116.xls               5715.5   \n",
       "38    john_lavorato_000_1_1_1.pst.57.xls               5485.5   \n",
       "126   phillip_m_love_000_1_1.pst.476.xls               5211.5   \n",
       "..                                   ...                  ...   \n",
       "131  richard_shapiro_001_1_2.pst.124.xls                 68.5   \n",
       "298     cooper_richey_000_1_1.pst.30.xls                 62.0   \n",
       "53      john_zufferli_000_1_1.pst.54.xls                 61.5   \n",
       "249  joe_stepenovitch_000_1_1.pst.15.xls                 36.0   \n",
       "334        joe_quenet_000_1_1.pst.17.xls                 35.5   \n",
       "\n",
       "     NoComp_GraphBuildTime  \n",
       "280                 1544.0  \n",
       "220                 1659.5  \n",
       "151                 2368.0  \n",
       "38                  1695.5  \n",
       "126                 1543.5  \n",
       "..                     ...  \n",
       "131                   69.5  \n",
       "298                   66.0  \n",
       "53                    61.5  \n",
       "249                   37.0  \n",
       "334                   37.5  \n",
       "\n",
       "[592 rows x 3 columns]"
      ]
     },
     "execution_count": 25,
     "metadata": {},
     "output_type": "execute_result"
    }
   ],
   "source": [
    "enron_graph_result.sort_values(by=\"TACO_GraphBuildTime\", ascending=False)"
   ]
  },
  {
   "cell_type": "code",
   "execution_count": 26,
   "id": "ecade5e2",
   "metadata": {},
   "outputs": [],
   "source": [
    "freq_enron_taco = get_pdf_df(enron_graph_result, 'TACO_GraphBuildTime')\n",
    "freq_enron_nocomp = get_pdf_df(enron_graph_result, 'NoComp_GraphBuildTime')"
   ]
  },
  {
   "cell_type": "code",
   "execution_count": 27,
   "id": "f8189ffc-1381-40c9-8f23-401de03d2670",
   "metadata": {},
   "outputs": [
    {
     "data": {
      "image/png": "[encoded data removed]",
      "text/plain": [
       "<Figure size 576x360 with 1 Axes>"
      ]
     },
     "metadata": {
      "needs_background": "light"
     },
     "output_type": "display_data"
    }
   ],
   "source": [
    "plot_percentile_transpose([freq_enron_taco, freq_enron_nocomp], \n",
    "                          [\"TACO\", \"NoComp\"],\n",
    "                          xlabel=\"Percentile\",\n",
    "                          ylabel=\"GraphBuildTime\",\n",
    "                          y_tick_min=1,\n",
    "                          y_tick_max=5,\n",
    "                          y_tick_num=4\n",
    "                         )"
   ]
  },
  {
   "cell_type": "code",
   "execution_count": 28,
   "id": "aa8f29af-7def-4bb3-9aad-4c34eb1c993a",
   "metadata": {},
   "outputs": [
    {
     "data": {
      "image/png": "[encoded data removed]",
      "text/plain": [
       "<Figure size 576x360 with 1 Axes>"
      ]
     },
     "metadata": {
      "needs_background": "light"
     },
     "output_type": "display_data"
    }
   ],
   "source": [
    "plot_percentile([freq_enron_taco, freq_enron_nocomp], \n",
    "                [\"TACO\", \"NoComp\"],\n",
    "                xlabel=\"GraphBuildTime\",\n",
    "                ylabel=\"Percentile\",\n",
    "                x_tick_min=1,\n",
    "                x_tick_max=4,\n",
    "                x_tick_num=3\n",
    "               )"
   ]
  },
  {
   "cell_type": "code",
   "execution_count": 29,
   "id": "5daf5a2a",
   "metadata": {},
   "outputs": [],
   "source": [
    "df_github_taco = pd.merge(df_github_taco_max, df_github_taco_long, how=\"inner\", on=[\"fileName\"])\n",
    "df_github_nocomp = pd.merge(df_github_nocomp_max, df_github_nocomp_long, how=\"inner\", on=[\"fileName\"])\n",
    "df_github_taco['TACO_GraphBuildTime'] = (df_github_taco['GraphBuildTime_x'] + df_github_taco['GraphBuildTime_y']) / 2.\n",
    "df_github_nocomp['NoComp_GraphBuildTime'] = (df_github_nocomp['GraphBuildTime_x'] + df_github_nocomp['GraphBuildTime_y']) / 2."
   ]
  },
  {
   "cell_type": "code",
   "execution_count": 30,
   "id": "f7d46d2e",
   "metadata": {},
   "outputs": [],
   "source": [
    "github_graph_result = pd.merge(df_github_taco, df_github_nocomp, how=\"inner\", on=['fileName'])[['fileName', 'TACO_GraphBuildTime', 'NoComp_GraphBuildTime']]"
   ]
  },
  {
   "cell_type": "code",
   "execution_count": 31,
   "id": "d12a2aef-46c8-4428-910f-6e813ee30ab3",
   "metadata": {},
   "outputs": [
    {
     "data": {
      "text/plain": [
       "(1450.3174709562109, 827.2459785522789)"
      ]
     },
     "execution_count": 31,
     "metadata": {},
     "output_type": "execute_result"
    }
   ],
   "source": [
    "github_graph_result['TACO_GraphBuildTime'].mean(), github_graph_result['NoComp_GraphBuildTime'].mean()"
   ]
  },
  {
   "cell_type": "code",
   "execution_count": 32,
   "id": "29fc1f63",
   "metadata": {},
   "outputs": [
    {
     "data": {
      "text/html": [
       "<div>\n",
       "<style scoped>\n",
       "    .dataframe tbody tr th:only-of-type {\n",
       "        vertical-align: middle;\n",
       "    }\n",
       "\n",
       "    .dataframe tbody tr th {\n",
       "        vertical-align: top;\n",
       "    }\n",
       "\n",
       "    .dataframe thead th {\n",
       "        text-align: right;\n",
       "    }\n",
       "</style>\n",
       "<table border=\"1\" class=\"dataframe\">\n",
       "  <thead>\n",
       "    <tr style=\"text-align: right;\">\n",
       "      <th></th>\n",
       "      <th>fileName</th>\n",
       "      <th>TACO_GraphBuildTime</th>\n",
       "      <th>NoComp_GraphBuildTime</th>\n",
       "    </tr>\n",
       "  </thead>\n",
       "  <tbody>\n",
       "    <tr>\n",
       "      <th>685</th>\n",
       "      <td>BBG_Security_Application_User_List_v5_46.xlsx</td>\n",
       "      <td>85978.5</td>\n",
       "      <td>41261.5</td>\n",
       "    </tr>\n",
       "    <tr>\n",
       "      <th>1643</th>\n",
       "      <td>Master-Calculations-Global-WASH-CBA_GLOBAL_PUB...</td>\n",
       "      <td>70217.5</td>\n",
       "      <td>25956.0</td>\n",
       "    </tr>\n",
       "    <tr>\n",
       "      <th>1847</th>\n",
       "      <td>DINAS PENDIDIKAN GABUNG BOS OK BANGET.xlsx</td>\n",
       "      <td>69836.0</td>\n",
       "      <td>24380.0</td>\n",
       "    </tr>\n",
       "    <tr>\n",
       "      <th>502</th>\n",
       "      <td>BBG_Security_Application_User_List_v5_34.xlsx</td>\n",
       "      <td>59080.5</td>\n",
       "      <td>27391.5</td>\n",
       "    </tr>\n",
       "    <tr>\n",
       "      <th>1431</th>\n",
       "      <td>monte.xlsx</td>\n",
       "      <td>52977.5</td>\n",
       "      <td>1614.5</td>\n",
       "    </tr>\n",
       "    <tr>\n",
       "      <th>...</th>\n",
       "      <td>...</td>\n",
       "      <td>...</td>\n",
       "      <td>...</td>\n",
       "    </tr>\n",
       "    <tr>\n",
       "      <th>1405</th>\n",
       "      <td>eCwEItsHZq6n07bp1B7JRR4nqHLhroEVLzef5SMlmRwQvw...</td>\n",
       "      <td>31.0</td>\n",
       "      <td>24.0</td>\n",
       "    </tr>\n",
       "    <tr>\n",
       "      <th>579</th>\n",
       "      <td>maoyanMovies.xlsx</td>\n",
       "      <td>30.5</td>\n",
       "      <td>34.5</td>\n",
       "    </tr>\n",
       "    <tr>\n",
       "      <th>2020</th>\n",
       "      <td>DLT.xlsx</td>\n",
       "      <td>26.0</td>\n",
       "      <td>22.5</td>\n",
       "    </tr>\n",
       "    <tr>\n",
       "      <th>719</th>\n",
       "      <td>925_listener_data.xlsx</td>\n",
       "      <td>22.0</td>\n",
       "      <td>28.0</td>\n",
       "    </tr>\n",
       "    <tr>\n",
       "      <th>1292</th>\n",
       "      <td>xid可复制.xlsx</td>\n",
       "      <td>16.5</td>\n",
       "      <td>47.0</td>\n",
       "    </tr>\n",
       "  </tbody>\n",
       "</table>\n",
       "<p>2238 rows × 3 columns</p>\n",
       "</div>"
      ],
      "text/plain": [
       "                                               fileName  TACO_GraphBuildTime  \\\n",
       "685       BBG_Security_Application_User_List_v5_46.xlsx              85978.5   \n",
       "1643  Master-Calculations-Global-WASH-CBA_GLOBAL_PUB...              70217.5   \n",
       "1847         DINAS PENDIDIKAN GABUNG BOS OK BANGET.xlsx              69836.0   \n",
       "502       BBG_Security_Application_User_List_v5_34.xlsx              59080.5   \n",
       "1431                                         monte.xlsx              52977.5   \n",
       "...                                                 ...                  ...   \n",
       "1405  eCwEItsHZq6n07bp1B7JRR4nqHLhroEVLzef5SMlmRwQvw...                 31.0   \n",
       "579                                   maoyanMovies.xlsx                 30.5   \n",
       "2020                                           DLT.xlsx                 26.0   \n",
       "719                              925_listener_data.xlsx                 22.0   \n",
       "1292                                        xid可复制.xlsx                 16.5   \n",
       "\n",
       "      NoComp_GraphBuildTime  \n",
       "685                 41261.5  \n",
       "1643                25956.0  \n",
       "1847                24380.0  \n",
       "502                 27391.5  \n",
       "1431                 1614.5  \n",
       "...                     ...  \n",
       "1405                   24.0  \n",
       "579                    34.5  \n",
       "2020                   22.5  \n",
       "719                    28.0  \n",
       "1292                   47.0  \n",
       "\n",
       "[2238 rows x 3 columns]"
      ]
     },
     "execution_count": 32,
     "metadata": {},
     "output_type": "execute_result"
    }
   ],
   "source": [
    "github_graph_result.sort_values(by=\"TACO_GraphBuildTime\", ascending=False)"
   ]
  },
  {
   "cell_type": "code",
   "execution_count": 33,
   "id": "8fd53507",
   "metadata": {},
   "outputs": [],
   "source": [
    "freq_github_taco = get_pdf_df(github_graph_result, 'TACO_GraphBuildTime')\n",
    "freq_github_nocomp = get_pdf_df(github_graph_result, 'NoComp_GraphBuildTime')"
   ]
  },
  {
   "cell_type": "code",
   "execution_count": 34,
   "id": "595f0187-16b5-4789-bc7b-53ab0c78bd29",
   "metadata": {},
   "outputs": [
    {
     "data": {
      "image/png": "[encoded data removed]",
      "text/plain": [
       "<Figure size 576x360 with 1 Axes>"
      ]
     },
     "metadata": {
      "needs_background": "light"
     },
     "output_type": "display_data"
    }
   ],
   "source": [
    "plot_percentile_transpose([freq_github_taco, freq_github_nocomp], \n",
    "                          [\"TACO\", \"NoComp\"],\n",
    "                          xlabel=\"Percentile\",\n",
    "                          ylabel=\"GraphBuildTime\",\n",
    "                          y_tick_min=1,\n",
    "                          y_tick_max=5,\n",
    "                          y_tick_num=4\n",
    "                         )"
   ]
  },
  {
   "cell_type": "code",
   "execution_count": 35,
   "id": "ad9a7708-3ea0-4c44-9a2f-49deca9e91c1",
   "metadata": {},
   "outputs": [
    {
     "data": {
      "image/png": "[encoded data removed]",
      "text/plain": [
       "<Figure size 576x360 with 1 Axes>"
      ]
     },
     "metadata": {
      "needs_background": "light"
     },
     "output_type": "display_data"
    }
   ],
   "source": [
    "plot_percentile([freq_github_taco, freq_github_nocomp], \n",
    "                [\"TACO\", \"NoComp\"],\n",
    "                xlabel=\"GraphBuildTime\",\n",
    "                ylabel=\"Percentile\",\n",
    "                x_tick_min=1,\n",
    "                x_tick_max=5,\n",
    "                x_tick_num=4\n",
    "               )"
   ]
  },
  {
   "cell_type": "markdown",
   "id": "065ddaa9",
   "metadata": {},
   "source": [
    "# 3. Returning Control to Users"
   ]
  },
  {
   "cell_type": "code",
   "execution_count": 36,
   "id": "d67b46b1",
   "metadata": {},
   "outputs": [],
   "source": [
    "def rename_columns(df, is_long=False):\n",
    "    rename_map = {\n",
    "        \"TACOLookupSize\": \"taco_size\",\n",
    "        \"TACOLookupTime\": \"taco_time\",\n",
    "        \"TACOPostProcessedLookupSize\": \"taco_post_size\",\n",
    "        \"TACOPostProcessedLookupTime\": \"taco_post_time\",\n",
    "        \"NoCompLookupSize\": \"nocomp_size\",\n",
    "        \"NoCompLookupTime\": \"nocomp_time\",\n",
    "        \"NoCompPostProcessedLookupSize\": \"nocomp_post_size\",\n",
    "        \"NoCompPostProcessedLookupTime\": \"nocomp_post_time\",\n",
    "    }\n",
    "    \n",
    "    if is_long:\n",
    "        for key in rename_map:\n",
    "            rename_map[key] = \"long_\" + rename_map[key]\n",
    "    else:\n",
    "        for key in rename_map:\n",
    "            rename_map[key] = \"max_\" + rename_map[key]\n",
    "            \n",
    "    df = df.rename(columns=rename_map)\n",
    "    if \"GraphBuildTime\" in list(df.columns):\n",
    "        df = df.drop(['GraphBuildTime'], axis=1)\n",
    "    \n",
    "    remain_cols = [x for x in list(df.columns) if \"post\" not in x]\n",
    "    return df[remain_cols]"
   ]
  },
  {
   "cell_type": "code",
   "execution_count": 37,
   "id": "d568d511",
   "metadata": {},
   "outputs": [],
   "source": [
    "def read_and_average_files(dir_path, fileName, is_long=False):\n",
    "    df = rename_columns(pd.read_csv(dir_path + \"/\" + fileName + \"_1.csv\"), is_long)\n",
    "    df2 = rename_columns(pd.read_csv(dir_path + \"/\" + fileName + \"_2.csv\"), is_long)\n",
    "    df3 = rename_columns(pd.read_csv(dir_path + \"/\" + fileName + \"_3.csv\"), is_long)\n",
    "    column_list = list(df.columns)\n",
    "    df_merged = pd.merge(df, df2, how=\"inner\", on=[column_list[0], column_list[1]])\n",
    "    df_merged = pd.merge(df_merged, df3, how=\"inner\", on=[column_list[0], column_list[1]])\n",
    "    list1, list2 = [], []\n",
    "    for i in range(len(df_merged)):\n",
    "        ls = [df_merged.loc[i, col_name] for col_name in list(df_merged.columns) if column_list[2] in col_name]\n",
    "        ls2 = [df_merged.loc[i, col_name] for col_name in list(df_merged.columns) if column_list[3] in col_name]\n",
    "        list1.append(np.mean(ls))\n",
    "        list2.append(np.mean(ls2))\n",
    "    df_merged[column_list[2]] = list1\n",
    "    df_merged[column_list[3]] = list2\n",
    "    return df_merged[column_list]"
   ]
  },
  {
   "cell_type": "code",
   "execution_count": 38,
   "id": "8a1d9853",
   "metadata": {},
   "outputs": [],
   "source": [
    "df_enron_taco_max = read_and_average_files(enron_lookup, \"enron_max_taco_10k\", False)\n",
    "df_enron_taco_long = read_and_average_files(enron_lookup, \"enron_long_taco_10k\", True)\n",
    "df_enron_nocomp_max = read_and_average_files(enron_lookup, \"enron_max_nocomp_10k\", False)\n",
    "df_enron_nocomp_long = read_and_average_files(enron_lookup, \"enron_long_nocomp_10k\", True)\n",
    "df_github_taco_max = read_and_average_files(github_lookup, \"github_max_taco_10k\", False)\n",
    "df_github_taco_long = read_and_average_files(github_lookup, \"github_long_taco_10k\", True)\n",
    "df_github_nocomp_max = read_and_average_files(github_lookup, \"github_max_nocomp_10k\", False)\n",
    "df_github_nocomp_long = read_and_average_files(github_lookup, \"github_long_nocomp_10k\", True)"
   ]
  },
  {
   "cell_type": "code",
   "execution_count": 39,
   "id": "7751898a",
   "metadata": {},
   "outputs": [
    {
     "data": {
      "text/html": [
       "<div>\n",
       "<style scoped>\n",
       "    .dataframe tbody tr th:only-of-type {\n",
       "        vertical-align: middle;\n",
       "    }\n",
       "\n",
       "    .dataframe tbody tr th {\n",
       "        vertical-align: top;\n",
       "    }\n",
       "\n",
       "    .dataframe thead th {\n",
       "        text-align: right;\n",
       "    }\n",
       "</style>\n",
       "<table border=\"1\" class=\"dataframe\">\n",
       "  <thead>\n",
       "    <tr style=\"text-align: right;\">\n",
       "      <th></th>\n",
       "      <th>fileName</th>\n",
       "      <th>Longest Dep Ref</th>\n",
       "      <th>long_nocomp_size</th>\n",
       "      <th>long_nocomp_time</th>\n",
       "    </tr>\n",
       "  </thead>\n",
       "  <tbody>\n",
       "    <tr>\n",
       "      <th>0</th>\n",
       "      <td>1. Excel Homework.xlsx</td>\n",
       "      <td>Sheet1:J3248</td>\n",
       "      <td>1.0</td>\n",
       "      <td>25.000000</td>\n",
       "    </tr>\n",
       "    <tr>\n",
       "      <th>1</th>\n",
       "      <td>2019-05-23-0936_empty_racir.xlsx</td>\n",
       "      <td>Measurements:C11</td>\n",
       "      <td>5610.0</td>\n",
       "      <td>207.666667</td>\n",
       "    </tr>\n",
       "    <tr>\n",
       "      <th>2</th>\n",
       "      <td>NIRISS_SIAF.xlsx</td>\n",
       "      <td>DDC:C20</td>\n",
       "      <td>22.0</td>\n",
       "      <td>0.666667</td>\n",
       "    </tr>\n",
       "    <tr>\n",
       "      <th>3</th>\n",
       "      <td>工作簿1-20181122170204822.xlsx</td>\n",
       "      <td>不良明细:CEA5</td>\n",
       "      <td>2.0</td>\n",
       "      <td>0.000000</td>\n",
       "    </tr>\n",
       "    <tr>\n",
       "      <th>4</th>\n",
       "      <td>W22704-181.xlsx</td>\n",
       "      <td>Sheet1:D2</td>\n",
       "      <td>14196.0</td>\n",
       "      <td>233.666667</td>\n",
       "    </tr>\n",
       "  </tbody>\n",
       "</table>\n",
       "</div>"
      ],
      "text/plain": [
       "                           fileName   Longest Dep Ref  long_nocomp_size  \\\n",
       "0            1. Excel Homework.xlsx      Sheet1:J3248               1.0   \n",
       "1  2019-05-23-0936_empty_racir.xlsx  Measurements:C11            5610.0   \n",
       "2                  NIRISS_SIAF.xlsx           DDC:C20              22.0   \n",
       "3       工作簿1-20181122170204822.xlsx         不良明细:CEA5               2.0   \n",
       "4                   W22704-181.xlsx         Sheet1:D2           14196.0   \n",
       "\n",
       "   long_nocomp_time  \n",
       "0         25.000000  \n",
       "1        207.666667  \n",
       "2          0.666667  \n",
       "3          0.000000  \n",
       "4        233.666667  "
      ]
     },
     "execution_count": 39,
     "metadata": {},
     "output_type": "execute_result"
    }
   ],
   "source": [
    "df_github_nocomp_long.head()"
   ]
  },
  {
   "cell_type": "code",
   "execution_count": 40,
   "id": "3953a56f",
   "metadata": {},
   "outputs": [],
   "source": [
    "df_enron_max = pd.merge(df_enron_taco_max, df_enron_nocomp_max, how=\"inner\", on=[\"fileName\", \"Max Dep Ref\"])\n",
    "df_enron_long = pd.merge(df_enron_taco_long, df_enron_nocomp_long, how=\"inner\", on=[\"fileName\", \"Longest Dep Ref\"])"
   ]
  },
  {
   "cell_type": "code",
   "execution_count": 41,
   "id": "03e19233",
   "metadata": {},
   "outputs": [],
   "source": [
    "df_enron_merged = pd.merge(df_enron_max, df_enron_long, how=\"inner\", on=[\"fileName\"])\n",
    "# df_enron_merged.to_csv(\"./enron_result_merged.csv\", index=False)"
   ]
  },
  {
   "cell_type": "code",
   "execution_count": 42,
   "id": "10b8d80c",
   "metadata": {},
   "outputs": [
    {
     "data": {
      "text/html": [
       "<div>\n",
       "<style scoped>\n",
       "    .dataframe tbody tr th:only-of-type {\n",
       "        vertical-align: middle;\n",
       "    }\n",
       "\n",
       "    .dataframe tbody tr th {\n",
       "        vertical-align: top;\n",
       "    }\n",
       "\n",
       "    .dataframe thead th {\n",
       "        text-align: right;\n",
       "    }\n",
       "</style>\n",
       "<table border=\"1\" class=\"dataframe\">\n",
       "  <thead>\n",
       "    <tr style=\"text-align: right;\">\n",
       "      <th></th>\n",
       "      <th>fileName</th>\n",
       "      <th>Max Dep Ref</th>\n",
       "      <th>max_taco_size</th>\n",
       "      <th>max_taco_time</th>\n",
       "      <th>max_nocomp_size</th>\n",
       "      <th>max_nocomp_time</th>\n",
       "      <th>Longest Dep Ref</th>\n",
       "      <th>long_taco_size</th>\n",
       "      <th>long_taco_time</th>\n",
       "      <th>long_nocomp_size</th>\n",
       "      <th>long_nocomp_time</th>\n",
       "    </tr>\n",
       "  </thead>\n",
       "  <tbody>\n",
       "    <tr>\n",
       "      <th>0</th>\n",
       "      <td>stacey_white_000_1_1.pst.254.xls</td>\n",
       "      <td>AlphaSort:F6836</td>\n",
       "      <td>3.0</td>\n",
       "      <td>9.333333</td>\n",
       "      <td>3.0</td>\n",
       "      <td>26.000000</td>\n",
       "      <td>AlphaSort:F4400</td>\n",
       "      <td>3.0</td>\n",
       "      <td>9.000000</td>\n",
       "      <td>3.0</td>\n",
       "      <td>26.000000</td>\n",
       "    </tr>\n",
       "    <tr>\n",
       "      <th>1</th>\n",
       "      <td>darron_c_giron_002_1_1_1.pst.177.xls</td>\n",
       "      <td>Darron:E5</td>\n",
       "      <td>205.0</td>\n",
       "      <td>8.333333</td>\n",
       "      <td>2978.0</td>\n",
       "      <td>157.333333</td>\n",
       "      <td>Darron:J4</td>\n",
       "      <td>205.0</td>\n",
       "      <td>8.000000</td>\n",
       "      <td>2978.0</td>\n",
       "      <td>144.000000</td>\n",
       "    </tr>\n",
       "    <tr>\n",
       "      <th>2</th>\n",
       "      <td>stacey_white_000_1_1.pst.262.xls</td>\n",
       "      <td>BRA Power:A6</td>\n",
       "      <td>28.0</td>\n",
       "      <td>1.000000</td>\n",
       "      <td>4385.0</td>\n",
       "      <td>495.000000</td>\n",
       "      <td>BRA Power:A6</td>\n",
       "      <td>28.0</td>\n",
       "      <td>0.333333</td>\n",
       "      <td>4385.0</td>\n",
       "      <td>478.000000</td>\n",
       "    </tr>\n",
       "    <tr>\n",
       "      <th>3</th>\n",
       "      <td>mike_grigsby_000_1_1_1.pst.248.xls</td>\n",
       "      <td>Months:F4</td>\n",
       "      <td>4.0</td>\n",
       "      <td>0.000000</td>\n",
       "      <td>306.0</td>\n",
       "      <td>2.666667</td>\n",
       "      <td>Months:F4</td>\n",
       "      <td>4.0</td>\n",
       "      <td>0.000000</td>\n",
       "      <td>306.0</td>\n",
       "      <td>3.333333</td>\n",
       "    </tr>\n",
       "    <tr>\n",
       "      <th>4</th>\n",
       "      <td>kevin_ruscitti_000_1_1.pst.156.xls</td>\n",
       "      <td>03-21-00AM:BT499</td>\n",
       "      <td>0.0</td>\n",
       "      <td>0.000000</td>\n",
       "      <td>0.0</td>\n",
       "      <td>0.000000</td>\n",
       "      <td>03-21-00AM:X531</td>\n",
       "      <td>1.0</td>\n",
       "      <td>0.000000</td>\n",
       "      <td>1.0</td>\n",
       "      <td>0.000000</td>\n",
       "    </tr>\n",
       "  </tbody>\n",
       "</table>\n",
       "</div>"
      ],
      "text/plain": [
       "                               fileName       Max Dep Ref  max_taco_size  \\\n",
       "0      stacey_white_000_1_1.pst.254.xls   AlphaSort:F6836            3.0   \n",
       "1  darron_c_giron_002_1_1_1.pst.177.xls         Darron:E5          205.0   \n",
       "2      stacey_white_000_1_1.pst.262.xls      BRA Power:A6           28.0   \n",
       "3    mike_grigsby_000_1_1_1.pst.248.xls         Months:F4            4.0   \n",
       "4    kevin_ruscitti_000_1_1.pst.156.xls  03-21-00AM:BT499            0.0   \n",
       "\n",
       "   max_taco_time  max_nocomp_size  max_nocomp_time  Longest Dep Ref  \\\n",
       "0       9.333333              3.0        26.000000  AlphaSort:F4400   \n",
       "1       8.333333           2978.0       157.333333        Darron:J4   \n",
       "2       1.000000           4385.0       495.000000     BRA Power:A6   \n",
       "3       0.000000            306.0         2.666667        Months:F4   \n",
       "4       0.000000              0.0         0.000000  03-21-00AM:X531   \n",
       "\n",
       "   long_taco_size  long_taco_time  long_nocomp_size  long_nocomp_time  \n",
       "0             3.0        9.000000               3.0         26.000000  \n",
       "1           205.0        8.000000            2978.0        144.000000  \n",
       "2            28.0        0.333333            4385.0        478.000000  \n",
       "3             4.0        0.000000             306.0          3.333333  \n",
       "4             1.0        0.000000               1.0          0.000000  "
      ]
     },
     "execution_count": 42,
     "metadata": {},
     "output_type": "execute_result"
    }
   ],
   "source": [
    "df_enron_merged.head()"
   ]
  },
  {
   "cell_type": "code",
   "execution_count": 43,
   "id": "3c17d6c6",
   "metadata": {},
   "outputs": [],
   "source": [
    "df_github_max = pd.merge(df_github_taco_max, df_github_nocomp_max, how=\"inner\", on=[\"fileName\", \"Max Dep Ref\"])\n",
    "df_github_long = pd.merge(df_github_taco_long, df_github_nocomp_long, how=\"inner\", on=[\"fileName\", \"Longest Dep Ref\"])"
   ]
  },
  {
   "cell_type": "code",
   "execution_count": 44,
   "id": "1f4ac7f0",
   "metadata": {},
   "outputs": [],
   "source": [
    "df_github_merged = pd.merge(df_github_max, df_github_long, how=\"inner\", on=[\"fileName\"])\n",
    "# df_github_merged.to_csv(\"./github_result_merged.csv\", index=False)"
   ]
  },
  {
   "cell_type": "code",
   "execution_count": 45,
   "id": "d8cf53bd",
   "metadata": {},
   "outputs": [
    {
     "data": {
      "text/html": [
       "<div>\n",
       "<style scoped>\n",
       "    .dataframe tbody tr th:only-of-type {\n",
       "        vertical-align: middle;\n",
       "    }\n",
       "\n",
       "    .dataframe tbody tr th {\n",
       "        vertical-align: top;\n",
       "    }\n",
       "\n",
       "    .dataframe thead th {\n",
       "        text-align: right;\n",
       "    }\n",
       "</style>\n",
       "<table border=\"1\" class=\"dataframe\">\n",
       "  <thead>\n",
       "    <tr style=\"text-align: right;\">\n",
       "      <th></th>\n",
       "      <th>fileName</th>\n",
       "      <th>Max Dep Ref</th>\n",
       "      <th>max_taco_size</th>\n",
       "      <th>max_taco_time</th>\n",
       "      <th>max_nocomp_size</th>\n",
       "      <th>max_nocomp_time</th>\n",
       "      <th>Longest Dep Ref</th>\n",
       "      <th>long_taco_size</th>\n",
       "      <th>long_taco_time</th>\n",
       "      <th>long_nocomp_size</th>\n",
       "      <th>long_nocomp_time</th>\n",
       "    </tr>\n",
       "  </thead>\n",
       "  <tbody>\n",
       "    <tr>\n",
       "      <th>0</th>\n",
       "      <td>1. Excel Homework.xlsx</td>\n",
       "      <td>Sheet1:E4030</td>\n",
       "      <td>2.0</td>\n",
       "      <td>9.666667</td>\n",
       "      <td>2.0</td>\n",
       "      <td>26.000000</td>\n",
       "      <td>Sheet1:J3248</td>\n",
       "      <td>1.0</td>\n",
       "      <td>8.666667</td>\n",
       "      <td>1.0</td>\n",
       "      <td>25.000000</td>\n",
       "    </tr>\n",
       "    <tr>\n",
       "      <th>1</th>\n",
       "      <td>2019-05-23-0936_empty_racir.xlsx</td>\n",
       "      <td>Measurements:E13</td>\n",
       "      <td>20.0</td>\n",
       "      <td>2.000000</td>\n",
       "      <td>6600.0</td>\n",
       "      <td>285.666667</td>\n",
       "      <td>Measurements:C11</td>\n",
       "      <td>17.0</td>\n",
       "      <td>1.333333</td>\n",
       "      <td>5610.0</td>\n",
       "      <td>207.666667</td>\n",
       "    </tr>\n",
       "    <tr>\n",
       "      <th>2</th>\n",
       "      <td>NIRISS_SIAF.xlsx</td>\n",
       "      <td>Calc:AE3</td>\n",
       "      <td>23.0</td>\n",
       "      <td>1.000000</td>\n",
       "      <td>690.0</td>\n",
       "      <td>13.000000</td>\n",
       "      <td>DDC:C20</td>\n",
       "      <td>6.0</td>\n",
       "      <td>0.666667</td>\n",
       "      <td>22.0</td>\n",
       "      <td>0.666667</td>\n",
       "    </tr>\n",
       "    <tr>\n",
       "      <th>3</th>\n",
       "      <td>工作簿1-20181122170204822.xlsx</td>\n",
       "      <td>不良明细:CBJ5</td>\n",
       "      <td>1.0</td>\n",
       "      <td>0.333333</td>\n",
       "      <td>2.0</td>\n",
       "      <td>0.000000</td>\n",
       "      <td>不良明细:CEA5</td>\n",
       "      <td>1.0</td>\n",
       "      <td>0.333333</td>\n",
       "      <td>2.0</td>\n",
       "      <td>0.000000</td>\n",
       "    </tr>\n",
       "    <tr>\n",
       "      <th>4</th>\n",
       "      <td>W22704-181.xlsx</td>\n",
       "      <td>Sheet1:E2</td>\n",
       "      <td>4.0</td>\n",
       "      <td>0.333333</td>\n",
       "      <td>14196.0</td>\n",
       "      <td>211.000000</td>\n",
       "      <td>Sheet1:D2</td>\n",
       "      <td>4.0</td>\n",
       "      <td>0.666667</td>\n",
       "      <td>14196.0</td>\n",
       "      <td>233.666667</td>\n",
       "    </tr>\n",
       "  </tbody>\n",
       "</table>\n",
       "</div>"
      ],
      "text/plain": [
       "                           fileName       Max Dep Ref  max_taco_size  \\\n",
       "0            1. Excel Homework.xlsx      Sheet1:E4030            2.0   \n",
       "1  2019-05-23-0936_empty_racir.xlsx  Measurements:E13           20.0   \n",
       "2                  NIRISS_SIAF.xlsx          Calc:AE3           23.0   \n",
       "3       工作簿1-20181122170204822.xlsx         不良明细:CBJ5            1.0   \n",
       "4                   W22704-181.xlsx         Sheet1:E2            4.0   \n",
       "\n",
       "   max_taco_time  max_nocomp_size  max_nocomp_time   Longest Dep Ref  \\\n",
       "0       9.666667              2.0        26.000000      Sheet1:J3248   \n",
       "1       2.000000           6600.0       285.666667  Measurements:C11   \n",
       "2       1.000000            690.0        13.000000           DDC:C20   \n",
       "3       0.333333              2.0         0.000000         不良明细:CEA5   \n",
       "4       0.333333          14196.0       211.000000         Sheet1:D2   \n",
       "\n",
       "   long_taco_size  long_taco_time  long_nocomp_size  long_nocomp_time  \n",
       "0             1.0        8.666667               1.0         25.000000  \n",
       "1            17.0        1.333333            5610.0        207.666667  \n",
       "2             6.0        0.666667              22.0          0.666667  \n",
       "3             1.0        0.333333               2.0          0.000000  \n",
       "4             4.0        0.666667           14196.0        233.666667  "
      ]
     },
     "execution_count": 45,
     "metadata": {},
     "output_type": "execute_result"
    }
   ],
   "source": [
    "df_github_merged.head()"
   ]
  },
  {
   "cell_type": "markdown",
   "id": "f6d92b61",
   "metadata": {},
   "source": [
    "### CDF Plot"
   ]
  },
  {
   "cell_type": "code",
   "execution_count": 46,
   "id": "7f987de7",
   "metadata": {},
   "outputs": [],
   "source": [
    "freq_enron_max_taco_size = get_pdf_df(df_enron_merged, 'max_taco_size', True)\n",
    "freq_enron_max_nocomp_size = get_pdf_df(df_enron_merged, 'max_nocomp_size', True)\n",
    "freq_enron_max_taco_time = get_pdf_df(df_enron_merged, 'max_taco_time', True)\n",
    "freq_enron_max_nocomp_time = get_pdf_df(df_enron_merged, 'max_nocomp_time', True)\n",
    "freq_enron_long_taco_size = get_pdf_df(df_enron_merged, 'long_taco_size', True)\n",
    "freq_enron_long_nocomp_size = get_pdf_df(df_enron_merged, 'long_nocomp_size', True)\n",
    "freq_enron_long_taco_time = get_pdf_df(df_enron_merged, 'long_taco_time', True)\n",
    "freq_enron_long_nocomp_time = get_pdf_df(df_enron_merged, 'long_nocomp_time', True)"
   ]
  },
  {
   "cell_type": "code",
   "execution_count": 47,
   "id": "66ea478f-a0ea-4456-a5ed-0f12cdd0887c",
   "metadata": {},
   "outputs": [
    {
     "data": {
      "image/png": "[encoded data removed]",
      "text/plain": [
       "<Figure size 576x360 with 1 Axes>"
      ]
     },
     "metadata": {
      "needs_background": "light"
     },
     "output_type": "display_data"
    }
   ],
   "source": [
    "plot_percentile_transpose([freq_enron_max_taco_size, freq_enron_max_nocomp_size], \n",
    "                          [\"TACO\", \"NoComp\"],\n",
    "                          ylabel=\"LookupSize\",\n",
    "                          xlabel=\"Percentile\",\n",
    "                          y_tick_min=1,\n",
    "                          y_tick_max=5,\n",
    "                          y_tick_num=4\n",
    "                         )"
   ]
  },
  {
   "cell_type": "code",
   "execution_count": 48,
   "id": "bb0a4d87-1450-48eb-9fa1-bba51afea001",
   "metadata": {},
   "outputs": [
    {
     "data": {
      "image/png": "[encoded data removed]",
      "text/plain": [
       "<Figure size 576x360 with 1 Axes>"
      ]
     },
     "metadata": {
      "needs_background": "light"
     },
     "output_type": "display_data"
    }
   ],
   "source": [
    "plot_percentile([freq_enron_max_taco_size, freq_enron_max_nocomp_size], \n",
    "                [\"TACO\", \"NoComp\"],\n",
    "                xlabel=\"LookupSize\",\n",
    "                ylabel=\"Percentile\",\n",
    "                x_tick_min=1,\n",
    "                x_tick_max=5,\n",
    "                x_tick_num=4\n",
    "               )"
   ]
  },
  {
   "cell_type": "code",
   "execution_count": 49,
   "id": "2d05d381-8451-4dd5-86b5-f0c4b0bdecb9",
   "metadata": {},
   "outputs": [
    {
     "data": {
      "image/png": "[encoded data removed]",
      "text/plain": [
       "<Figure size 576x360 with 1 Axes>"
      ]
     },
     "metadata": {
      "needs_background": "light"
     },
     "output_type": "display_data"
    }
   ],
   "source": [
    "plot_percentile_transpose([freq_enron_max_taco_time, freq_enron_max_nocomp_time], \n",
    "                          [\"TACO\", \"NoComp\"],\n",
    "                          ylabel=\"LookupTime\",\n",
    "                          xlabel=\"Percentile\",\n",
    "                          y_tick_min=1,\n",
    "                          y_tick_max=4,\n",
    "                          y_tick_num=3\n",
    "                         )"
   ]
  },
  {
   "cell_type": "code",
   "execution_count": 50,
   "id": "b27a9d9f-f15d-4c9f-90fd-3ecee462419b",
   "metadata": {},
   "outputs": [
    {
     "data": {
      "image/png": "[encoded data removed]",
      "text/plain": [
       "<Figure size 576x360 with 1 Axes>"
      ]
     },
     "metadata": {
      "needs_background": "light"
     },
     "output_type": "display_data"
    }
   ],
   "source": [
    "plot_percentile([freq_enron_max_taco_time, freq_enron_max_nocomp_time], \n",
    "                [\"TACO\", \"NoComp\"],\n",
    "                xlabel=\"LookupTime\",\n",
    "                ylabel=\"Percentile\",\n",
    "                x_tick_min=1,\n",
    "                x_tick_max=4,\n",
    "                x_tick_num=3\n",
    "               )"
   ]
  },
  {
   "cell_type": "code",
   "execution_count": 51,
   "id": "05976dd7-9524-4ff8-bdc6-8a70ee5b3030",
   "metadata": {},
   "outputs": [
    {
     "data": {
      "image/png": "[encoded data removed]",
      "text/plain": [
       "<Figure size 576x360 with 1 Axes>"
      ]
     },
     "metadata": {
      "needs_background": "light"
     },
     "output_type": "display_data"
    }
   ],
   "source": [
    "plot_percentile_transpose([freq_enron_long_taco_size, freq_enron_long_nocomp_size], \n",
    "                [\"TACO\", \"NoComp\"],\n",
    "                ylabel=\"LookupSize\",\n",
    "                xlabel=\"Percentile\",\n",
    "                y_tick_min=1,\n",
    "                y_tick_max=5,\n",
    "                y_tick_num=4\n",
    "               )"
   ]
  },
  {
   "cell_type": "code",
   "execution_count": 52,
   "id": "455c2407-ba4a-4e5c-879e-4891f4606e81",
   "metadata": {},
   "outputs": [
    {
     "data": {
      "image/png": "[encoded data removed]",
      "text/plain": [
       "<Figure size 576x360 with 1 Axes>"
      ]
     },
     "metadata": {
      "needs_background": "light"
     },
     "output_type": "display_data"
    }
   ],
   "source": [
    "plot_percentile([freq_enron_long_taco_size, freq_enron_long_nocomp_size], \n",
    "                [\"TACO\", \"NoComp\"],\n",
    "                xlabel=\"LookupSize\",\n",
    "                ylabel=\"Percentile\",\n",
    "                x_tick_min=1,\n",
    "                x_tick_max=5,\n",
    "                x_tick_num=4\n",
    "               )"
   ]
  },
  {
   "cell_type": "code",
   "execution_count": 53,
   "id": "14f3a0a2-c5e8-4b6a-8c72-b3b4cca93e52",
   "metadata": {},
   "outputs": [
    {
     "data": {
      "image/png": "[encoded data removed]",
      "text/plain": [
       "<Figure size 576x360 with 1 Axes>"
      ]
     },
     "metadata": {
      "needs_background": "light"
     },
     "output_type": "display_data"
    }
   ],
   "source": [
    "plot_percentile_transpose([freq_enron_long_taco_time, freq_enron_long_nocomp_time], \n",
    "                [\"TACO\", \"NoComp\"],\n",
    "                ylabel=\"LookupTime\",\n",
    "                xlabel=\"Percentile\",\n",
    "                y_tick_min=1,\n",
    "                y_tick_max=5,\n",
    "                y_tick_num=4\n",
    "               )"
   ]
  },
  {
   "cell_type": "code",
   "execution_count": 54,
   "id": "df521d36-ac6e-4d9d-a4ff-805caa7419df",
   "metadata": {},
   "outputs": [
    {
     "data": {
      "image/png": "[encoded data removed]",
      "text/plain": [
       "<Figure size 576x360 with 1 Axes>"
      ]
     },
     "metadata": {
      "needs_background": "light"
     },
     "output_type": "display_data"
    }
   ],
   "source": [
    "plot_percentile([freq_enron_long_taco_time, freq_enron_long_nocomp_time], \n",
    "                [\"TACO\", \"NoComp\"],\n",
    "                xlabel=\"LookupTime\",\n",
    "                ylabel=\"Percentile\",\n",
    "                x_tick_min=1,\n",
    "                x_tick_max=5,\n",
    "                x_tick_num=4\n",
    "               )"
   ]
  },
  {
   "cell_type": "code",
   "execution_count": 55,
   "id": "1b51d0aa",
   "metadata": {},
   "outputs": [],
   "source": [
    "freq_github_max_taco_size = get_pdf_df(df_github_merged, 'max_taco_size', True)\n",
    "freq_github_max_nocomp_size = get_pdf_df(df_github_merged, 'max_nocomp_size', True)\n",
    "freq_github_max_taco_time = get_pdf_df(df_github_merged, 'max_taco_time', True)\n",
    "freq_github_max_nocomp_time = get_pdf_df(df_github_merged, 'max_nocomp_time', True)\n",
    "freq_github_long_taco_size = get_pdf_df(df_github_merged, 'long_taco_size', True)\n",
    "freq_github_long_nocomp_size = get_pdf_df(df_github_merged, 'long_nocomp_size', True)\n",
    "freq_github_long_taco_time = get_pdf_df(df_github_merged, 'long_taco_time', True)\n",
    "freq_github_long_nocomp_time = get_pdf_df(df_github_merged, 'long_nocomp_time', True)"
   ]
  },
  {
   "cell_type": "code",
   "execution_count": 56,
   "id": "4458ed97-dadc-4f97-a4b2-10b003b8e243",
   "metadata": {},
   "outputs": [
    {
     "data": {
      "image/png": "[encoded data removed]",
      "text/plain": [
       "<Figure size 576x360 with 1 Axes>"
      ]
     },
     "metadata": {
      "needs_background": "light"
     },
     "output_type": "display_data"
    }
   ],
   "source": [
    "plot_percentile_transpose([freq_github_max_taco_size, freq_github_max_nocomp_size], \n",
    "                [\"TACO\", \"NoComp\"],\n",
    "                ylabel=\"LookupSize\",\n",
    "                xlabel=\"Percentile\",\n",
    "                y_tick_min=1,\n",
    "                y_tick_max=6,\n",
    "                y_tick_num=5\n",
    "               )"
   ]
  },
  {
   "cell_type": "code",
   "execution_count": 57,
   "id": "9b4b3013-f207-4e42-a618-e120e65bdb04",
   "metadata": {},
   "outputs": [
    {
     "data": {
      "image/png": "[encoded data removed]",
      "text/plain": [
       "<Figure size 576x360 with 1 Axes>"
      ]
     },
     "metadata": {
      "needs_background": "light"
     },
     "output_type": "display_data"
    }
   ],
   "source": [
    "plot_percentile([freq_github_max_taco_size, freq_github_max_nocomp_size], \n",
    "                [\"TACO\", \"NoComp\"],\n",
    "                xlabel=\"LookupSize\",\n",
    "                ylabel=\"Percentile\",\n",
    "                x_tick_min=1,\n",
    "                x_tick_max=6,\n",
    "                x_tick_num=5\n",
    "               )"
   ]
  },
  {
   "cell_type": "code",
   "execution_count": 58,
   "id": "50052f98-cd72-46b4-a4d2-4ea5f320f54d",
   "metadata": {},
   "outputs": [
    {
     "data": {
      "image/png": "[encoded data removed]",
      "text/plain": [
       "<Figure size 576x360 with 1 Axes>"
      ]
     },
     "metadata": {
      "needs_background": "light"
     },
     "output_type": "display_data"
    }
   ],
   "source": [
    "plot_percentile_transpose([freq_github_max_taco_time, freq_github_max_nocomp_time], \n",
    "                [\"TACO\", \"NoComp\"],\n",
    "                ylabel=\"LookupTime\",\n",
    "                xlabel=\"Percentile\",\n",
    "                y_tick_min=1,\n",
    "                y_tick_max=6,\n",
    "                y_tick_num=5\n",
    "               )"
   ]
  },
  {
   "cell_type": "code",
   "execution_count": 59,
   "id": "77aaf324-dc2e-47a9-aded-7da3feaddaba",
   "metadata": {},
   "outputs": [
    {
     "data": {
      "image/png": "[encoded data removed]",
      "text/plain": [
       "<Figure size 576x360 with 1 Axes>"
      ]
     },
     "metadata": {
      "needs_background": "light"
     },
     "output_type": "display_data"
    }
   ],
   "source": [
    "plot_percentile([freq_github_max_taco_time, freq_github_max_nocomp_time], \n",
    "                [\"TACO\", \"NoComp\"],\n",
    "                xlabel=\"LookupTime\",\n",
    "                ylabel=\"Percentile\",\n",
    "                x_tick_min=1,\n",
    "                x_tick_max=6,\n",
    "                x_tick_num=5\n",
    "               )"
   ]
  },
  {
   "cell_type": "code",
   "execution_count": 60,
   "id": "d4f420e0-4c04-4617-a3e4-6d42e112e415",
   "metadata": {},
   "outputs": [
    {
     "data": {
      "image/png": "[encoded data removed]",
      "text/plain": [
       "<Figure size 576x360 with 1 Axes>"
      ]
     },
     "metadata": {
      "needs_background": "light"
     },
     "output_type": "display_data"
    }
   ],
   "source": [
    "plot_percentile_transpose([freq_github_long_taco_size, freq_github_long_nocomp_size], \n",
    "                [\"TACO\", \"NoComp\"],\n",
    "                ylabel=\"LookupSize\",\n",
    "                xlabel=\"Percentile\",\n",
    "                y_tick_min=1,\n",
    "                y_tick_max=6,\n",
    "                y_tick_num=5\n",
    "               )"
   ]
  },
  {
   "cell_type": "code",
   "execution_count": 61,
   "id": "7a951ae1-1ba0-471e-b402-7943a6e5b95b",
   "metadata": {},
   "outputs": [
    {
     "data": {
      "image/png": "[encoded data removed]",
      "text/plain": [
       "<Figure size 576x360 with 1 Axes>"
      ]
     },
     "metadata": {
      "needs_background": "light"
     },
     "output_type": "display_data"
    }
   ],
   "source": [
    "plot_percentile([freq_github_long_taco_size, freq_github_long_nocomp_size], \n",
    "                [\"TACO\", \"NoComp\"],\n",
    "                xlabel=\"LookupSize\",\n",
    "                ylabel=\"Percentile\",\n",
    "                x_tick_min=1,\n",
    "                x_tick_max=6,\n",
    "                x_tick_num=5\n",
    "               )"
   ]
  },
  {
   "cell_type": "code",
   "execution_count": 62,
   "id": "1c68698a-3ef9-4acd-acf4-b215cc89ed2f",
   "metadata": {},
   "outputs": [
    {
     "data": {
      "image/png": "[encoded data removed]",
      "text/plain": [
       "<Figure size 576x360 with 1 Axes>"
      ]
     },
     "metadata": {
      "needs_background": "light"
     },
     "output_type": "display_data"
    }
   ],
   "source": [
    "plot_percentile_transpose([freq_github_long_taco_time, freq_github_long_nocomp_time], \n",
    "                [\"TACO\", \"NoComp\"],\n",
    "                ylabel=\"LookupTime\",\n",
    "                xlabel=\"Percentile\",\n",
    "                y_tick_min=1,\n",
    "                y_tick_max=6,\n",
    "                y_tick_num=5\n",
    "               )"
   ]
  },
  {
   "cell_type": "code",
   "execution_count": 63,
   "id": "330cf088-3214-4ea0-b0c9-fdf68c11b752",
   "metadata": {},
   "outputs": [
    {
     "data": {
      "image/png": "[encoded data removed]",
      "text/plain": [
       "<Figure size 576x360 with 1 Axes>"
      ]
     },
     "metadata": {
      "needs_background": "light"
     },
     "output_type": "display_data"
    }
   ],
   "source": [
    "plot_percentile([freq_github_long_taco_time, freq_github_long_nocomp_time], \n",
    "                [\"TACO\", \"NoComp\"],\n",
    "                xlabel=\"LookupTime\",\n",
    "                ylabel=\"Percentile\",\n",
    "                x_tick_min=1,\n",
    "                x_tick_max=6,\n",
    "                x_tick_num=5\n",
    "               )"
   ]
  },
  {
   "cell_type": "markdown",
   "id": "f4978ed9",
   "metadata": {},
   "source": [
    "### Analyze Enron results"
   ]
  },
  {
   "cell_type": "code",
   "execution_count": 64,
   "id": "a5e305c2",
   "metadata": {},
   "outputs": [
    {
     "data": {
      "text/html": [
       "<div>\n",
       "<style scoped>\n",
       "    .dataframe tbody tr th:only-of-type {\n",
       "        vertical-align: middle;\n",
       "    }\n",
       "\n",
       "    .dataframe tbody tr th {\n",
       "        vertical-align: top;\n",
       "    }\n",
       "\n",
       "    .dataframe thead th {\n",
       "        text-align: right;\n",
       "    }\n",
       "</style>\n",
       "<table border=\"1\" class=\"dataframe\">\n",
       "  <thead>\n",
       "    <tr style=\"text-align: right;\">\n",
       "      <th></th>\n",
       "      <th>fileName</th>\n",
       "      <th>Max Dep Ref</th>\n",
       "      <th>max_taco_size</th>\n",
       "      <th>max_taco_time</th>\n",
       "      <th>max_nocomp_size</th>\n",
       "      <th>max_nocomp_time</th>\n",
       "      <th>Longest Dep Ref</th>\n",
       "      <th>long_taco_size</th>\n",
       "      <th>long_taco_time</th>\n",
       "      <th>long_nocomp_size</th>\n",
       "      <th>long_nocomp_time</th>\n",
       "    </tr>\n",
       "  </thead>\n",
       "  <tbody>\n",
       "    <tr>\n",
       "      <th>0</th>\n",
       "      <td>stacey_white_000_1_1.pst.254.xls</td>\n",
       "      <td>AlphaSort:F6836</td>\n",
       "      <td>3.0</td>\n",
       "      <td>9.333333</td>\n",
       "      <td>3.0</td>\n",
       "      <td>26.000000</td>\n",
       "      <td>AlphaSort:F4400</td>\n",
       "      <td>3.0</td>\n",
       "      <td>9.000000</td>\n",
       "      <td>3.0</td>\n",
       "      <td>26.000000</td>\n",
       "    </tr>\n",
       "    <tr>\n",
       "      <th>1</th>\n",
       "      <td>darron_c_giron_002_1_1_1.pst.177.xls</td>\n",
       "      <td>Darron:E5</td>\n",
       "      <td>205.0</td>\n",
       "      <td>8.333333</td>\n",
       "      <td>2978.0</td>\n",
       "      <td>157.333333</td>\n",
       "      <td>Darron:J4</td>\n",
       "      <td>205.0</td>\n",
       "      <td>8.000000</td>\n",
       "      <td>2978.0</td>\n",
       "      <td>144.000000</td>\n",
       "    </tr>\n",
       "    <tr>\n",
       "      <th>2</th>\n",
       "      <td>stacey_white_000_1_1.pst.262.xls</td>\n",
       "      <td>BRA Power:A6</td>\n",
       "      <td>28.0</td>\n",
       "      <td>1.000000</td>\n",
       "      <td>4385.0</td>\n",
       "      <td>495.000000</td>\n",
       "      <td>BRA Power:A6</td>\n",
       "      <td>28.0</td>\n",
       "      <td>0.333333</td>\n",
       "      <td>4385.0</td>\n",
       "      <td>478.000000</td>\n",
       "    </tr>\n",
       "    <tr>\n",
       "      <th>3</th>\n",
       "      <td>mike_grigsby_000_1_1_1.pst.248.xls</td>\n",
       "      <td>Months:F4</td>\n",
       "      <td>4.0</td>\n",
       "      <td>0.000000</td>\n",
       "      <td>306.0</td>\n",
       "      <td>2.666667</td>\n",
       "      <td>Months:F4</td>\n",
       "      <td>4.0</td>\n",
       "      <td>0.000000</td>\n",
       "      <td>306.0</td>\n",
       "      <td>3.333333</td>\n",
       "    </tr>\n",
       "    <tr>\n",
       "      <th>4</th>\n",
       "      <td>kevin_ruscitti_000_1_1.pst.156.xls</td>\n",
       "      <td>03-21-00AM:BT499</td>\n",
       "      <td>0.0</td>\n",
       "      <td>0.000000</td>\n",
       "      <td>0.0</td>\n",
       "      <td>0.000000</td>\n",
       "      <td>03-21-00AM:X531</td>\n",
       "      <td>1.0</td>\n",
       "      <td>0.000000</td>\n",
       "      <td>1.0</td>\n",
       "      <td>0.000000</td>\n",
       "    </tr>\n",
       "    <tr>\n",
       "      <th>...</th>\n",
       "      <td>...</td>\n",
       "      <td>...</td>\n",
       "      <td>...</td>\n",
       "      <td>...</td>\n",
       "      <td>...</td>\n",
       "      <td>...</td>\n",
       "      <td>...</td>\n",
       "      <td>...</td>\n",
       "      <td>...</td>\n",
       "      <td>...</td>\n",
       "      <td>...</td>\n",
       "    </tr>\n",
       "    <tr>\n",
       "      <th>587</th>\n",
       "      <td>don_baughman_000_1_1.pst.127.xls</td>\n",
       "      <td>Sheet1:C47</td>\n",
       "      <td>37.0</td>\n",
       "      <td>0.333333</td>\n",
       "      <td>37.0</td>\n",
       "      <td>1.000000</td>\n",
       "      <td>Sheet1:C38</td>\n",
       "      <td>37.0</td>\n",
       "      <td>0.000000</td>\n",
       "      <td>37.0</td>\n",
       "      <td>0.000000</td>\n",
       "    </tr>\n",
       "    <tr>\n",
       "      <th>588</th>\n",
       "      <td>kevin_ruscitti_000_1_1.pst.4.xls</td>\n",
       "      <td>Swap:A8</td>\n",
       "      <td>29.0</td>\n",
       "      <td>0.333333</td>\n",
       "      <td>1159.0</td>\n",
       "      <td>16.666667</td>\n",
       "      <td>Swap:A8</td>\n",
       "      <td>29.0</td>\n",
       "      <td>0.666667</td>\n",
       "      <td>1159.0</td>\n",
       "      <td>15.666667</td>\n",
       "    </tr>\n",
       "    <tr>\n",
       "      <th>589</th>\n",
       "      <td>jane_tholt_000_1_1.pst.198.xls</td>\n",
       "      <td>Summary:B185</td>\n",
       "      <td>57.0</td>\n",
       "      <td>1.000000</td>\n",
       "      <td>1485.0</td>\n",
       "      <td>96.333333</td>\n",
       "      <td>Study 4a:A9</td>\n",
       "      <td>9.0</td>\n",
       "      <td>0.000000</td>\n",
       "      <td>82.0</td>\n",
       "      <td>1.000000</td>\n",
       "    </tr>\n",
       "    <tr>\n",
       "      <th>590</th>\n",
       "      <td>andy_zipper_000_1_1.pst.67.xls</td>\n",
       "      <td>DD-ENA:F500</td>\n",
       "      <td>4.0</td>\n",
       "      <td>0.000000</td>\n",
       "      <td>8.0</td>\n",
       "      <td>0.333333</td>\n",
       "      <td>DD-EGL:P29</td>\n",
       "      <td>3.0</td>\n",
       "      <td>0.000000</td>\n",
       "      <td>3.0</td>\n",
       "      <td>0.333333</td>\n",
       "    </tr>\n",
       "    <tr>\n",
       "      <th>591</th>\n",
       "      <td>joe_parks_000_1_1.pst.211.xls</td>\n",
       "      <td>Jan 01 trial:AW14</td>\n",
       "      <td>13.0</td>\n",
       "      <td>0.333333</td>\n",
       "      <td>13.0</td>\n",
       "      <td>0.000000</td>\n",
       "      <td>Jan 01 trial:AB14</td>\n",
       "      <td>0.0</td>\n",
       "      <td>0.000000</td>\n",
       "      <td>0.0</td>\n",
       "      <td>0.000000</td>\n",
       "    </tr>\n",
       "  </tbody>\n",
       "</table>\n",
       "<p>592 rows × 11 columns</p>\n",
       "</div>"
      ],
      "text/plain": [
       "                                 fileName        Max Dep Ref  max_taco_size  \\\n",
       "0        stacey_white_000_1_1.pst.254.xls    AlphaSort:F6836            3.0   \n",
       "1    darron_c_giron_002_1_1_1.pst.177.xls          Darron:E5          205.0   \n",
       "2        stacey_white_000_1_1.pst.262.xls       BRA Power:A6           28.0   \n",
       "3      mike_grigsby_000_1_1_1.pst.248.xls          Months:F4            4.0   \n",
       "4      kevin_ruscitti_000_1_1.pst.156.xls   03-21-00AM:BT499            0.0   \n",
       "..                                    ...                ...            ...   \n",
       "587      don_baughman_000_1_1.pst.127.xls         Sheet1:C47           37.0   \n",
       "588      kevin_ruscitti_000_1_1.pst.4.xls            Swap:A8           29.0   \n",
       "589        jane_tholt_000_1_1.pst.198.xls       Summary:B185           57.0   \n",
       "590        andy_zipper_000_1_1.pst.67.xls        DD-ENA:F500            4.0   \n",
       "591         joe_parks_000_1_1.pst.211.xls  Jan 01 trial:AW14           13.0   \n",
       "\n",
       "     max_taco_time  max_nocomp_size  max_nocomp_time    Longest Dep Ref  \\\n",
       "0         9.333333              3.0        26.000000    AlphaSort:F4400   \n",
       "1         8.333333           2978.0       157.333333          Darron:J4   \n",
       "2         1.000000           4385.0       495.000000       BRA Power:A6   \n",
       "3         0.000000            306.0         2.666667          Months:F4   \n",
       "4         0.000000              0.0         0.000000    03-21-00AM:X531   \n",
       "..             ...              ...              ...                ...   \n",
       "587       0.333333             37.0         1.000000         Sheet1:C38   \n",
       "588       0.333333           1159.0        16.666667            Swap:A8   \n",
       "589       1.000000           1485.0        96.333333        Study 4a:A9   \n",
       "590       0.000000              8.0         0.333333         DD-EGL:P29   \n",
       "591       0.333333             13.0         0.000000  Jan 01 trial:AB14   \n",
       "\n",
       "     long_taco_size  long_taco_time  long_nocomp_size  long_nocomp_time  \n",
       "0               3.0        9.000000               3.0         26.000000  \n",
       "1             205.0        8.000000            2978.0        144.000000  \n",
       "2              28.0        0.333333            4385.0        478.000000  \n",
       "3               4.0        0.000000             306.0          3.333333  \n",
       "4               1.0        0.000000               1.0          0.000000  \n",
       "..              ...             ...               ...               ...  \n",
       "587            37.0        0.000000              37.0          0.000000  \n",
       "588            29.0        0.666667            1159.0         15.666667  \n",
       "589             9.0        0.000000              82.0          1.000000  \n",
       "590             3.0        0.000000               3.0          0.333333  \n",
       "591             0.0        0.000000               0.0          0.000000  \n",
       "\n",
       "[592 rows x 11 columns]"
      ]
     },
     "execution_count": 64,
     "metadata": {},
     "output_type": "execute_result"
    }
   ],
   "source": [
    "df_enron_merged"
   ]
  },
  {
   "cell_type": "code",
   "execution_count": 65,
   "id": "63d75e08",
   "metadata": {},
   "outputs": [
    {
     "data": {
      "text/html": [
       "<div>\n",
       "<style scoped>\n",
       "    .dataframe tbody tr th:only-of-type {\n",
       "        vertical-align: middle;\n",
       "    }\n",
       "\n",
       "    .dataframe tbody tr th {\n",
       "        vertical-align: top;\n",
       "    }\n",
       "\n",
       "    .dataframe thead th {\n",
       "        text-align: right;\n",
       "    }\n",
       "</style>\n",
       "<table border=\"1\" class=\"dataframe\">\n",
       "  <thead>\n",
       "    <tr style=\"text-align: right;\">\n",
       "      <th></th>\n",
       "      <th>fileName</th>\n",
       "      <th>max_taco_time</th>\n",
       "      <th>max_nocomp_time</th>\n",
       "    </tr>\n",
       "  </thead>\n",
       "  <tbody>\n",
       "  </tbody>\n",
       "</table>\n",
       "</div>"
      ],
      "text/plain": [
       "Empty DataFrame\n",
       "Columns: [fileName, max_taco_time, max_nocomp_time]\n",
       "Index: []"
      ]
     },
     "execution_count": 65,
     "metadata": {},
     "output_type": "execute_result"
    }
   ],
   "source": [
    "df_larger_than = df_enron_merged[(df_enron_merged[\"max_taco_time\"] > df_enron_merged[\"max_nocomp_time\"]) & (df_enron_merged[\"max_nocomp_time\"] > 10)]\n",
    "df_larger_than[[\"fileName\", \"max_taco_time\", \"max_nocomp_time\"]]"
   ]
  },
  {
   "cell_type": "code",
   "execution_count": 66,
   "id": "4428efc1",
   "metadata": {},
   "outputs": [
    {
     "data": {
      "text/html": [
       "<div>\n",
       "<style scoped>\n",
       "    .dataframe tbody tr th:only-of-type {\n",
       "        vertical-align: middle;\n",
       "    }\n",
       "\n",
       "    .dataframe tbody tr th {\n",
       "        vertical-align: top;\n",
       "    }\n",
       "\n",
       "    .dataframe thead th {\n",
       "        text-align: right;\n",
       "    }\n",
       "</style>\n",
       "<table border=\"1\" class=\"dataframe\">\n",
       "  <thead>\n",
       "    <tr style=\"text-align: right;\">\n",
       "      <th></th>\n",
       "      <th>fileName</th>\n",
       "      <th>max_nocomp_time</th>\n",
       "    </tr>\n",
       "  </thead>\n",
       "  <tbody>\n",
       "    <tr>\n",
       "      <th>87</th>\n",
       "      <td>dutch_quigley_000_1_1.pst.51.xls</td>\n",
       "      <td>11267.666667</td>\n",
       "    </tr>\n",
       "    <tr>\n",
       "      <th>127</th>\n",
       "      <td>mike_grigsby_000_1_1_1.pst.106.xls</td>\n",
       "      <td>1410.666667</td>\n",
       "    </tr>\n",
       "    <tr>\n",
       "      <th>144</th>\n",
       "      <td>matthew_lenhart_000_1_1.pst.23.xls</td>\n",
       "      <td>1711.000000</td>\n",
       "    </tr>\n",
       "    <tr>\n",
       "      <th>197</th>\n",
       "      <td>matthew_lenhart_000_1_1.pst.20.xls</td>\n",
       "      <td>1488.666667</td>\n",
       "    </tr>\n",
       "    <tr>\n",
       "      <th>220</th>\n",
       "      <td>mark_haedicke_000_1_2.pst.31.xls</td>\n",
       "      <td>1150.000000</td>\n",
       "    </tr>\n",
       "    <tr>\n",
       "      <th>267</th>\n",
       "      <td>harry_arora_000_1_1.pst.130.xls</td>\n",
       "      <td>12312.333333</td>\n",
       "    </tr>\n",
       "    <tr>\n",
       "      <th>269</th>\n",
       "      <td>matthew_lenhart_000_1_1.pst.1.xls</td>\n",
       "      <td>764.333333</td>\n",
       "    </tr>\n",
       "    <tr>\n",
       "      <th>280</th>\n",
       "      <td>vkaminski_001_1_2_1.pst.62.xls</td>\n",
       "      <td>659.333333</td>\n",
       "    </tr>\n",
       "    <tr>\n",
       "      <th>290</th>\n",
       "      <td>john_lavorato_001_1_1_1.pst.94.xls</td>\n",
       "      <td>615.000000</td>\n",
       "    </tr>\n",
       "    <tr>\n",
       "      <th>301</th>\n",
       "      <td>mike_grigsby_000_1_1_1.pst.108.xls</td>\n",
       "      <td>1700.000000</td>\n",
       "    </tr>\n",
       "    <tr>\n",
       "      <th>344</th>\n",
       "      <td>vkaminski_000_1_1_1.pst.26.xls</td>\n",
       "      <td>1603.000000</td>\n",
       "    </tr>\n",
       "    <tr>\n",
       "      <th>375</th>\n",
       "      <td>jim_schwieger_000_1_1.pst.100.xls</td>\n",
       "      <td>11618.000000</td>\n",
       "    </tr>\n",
       "    <tr>\n",
       "      <th>407</th>\n",
       "      <td>phillip_allen_000_1_1.pst.102.xls</td>\n",
       "      <td>1471.333333</td>\n",
       "    </tr>\n",
       "    <tr>\n",
       "      <th>469</th>\n",
       "      <td>rick_buy_000_1_1_1_1.pst.186.xls</td>\n",
       "      <td>962.000000</td>\n",
       "    </tr>\n",
       "    <tr>\n",
       "      <th>522</th>\n",
       "      <td>phillip_allen_000_1_1.pst.253.xls</td>\n",
       "      <td>1528.333333</td>\n",
       "    </tr>\n",
       "    <tr>\n",
       "      <th>561</th>\n",
       "      <td>matthew_lenhart_000_1_1.pst.19.xls</td>\n",
       "      <td>1434.333333</td>\n",
       "    </tr>\n",
       "    <tr>\n",
       "      <th>563</th>\n",
       "      <td>jim_schwieger_000_1_1.pst.71.xls</td>\n",
       "      <td>11248.000000</td>\n",
       "    </tr>\n",
       "    <tr>\n",
       "      <th>576</th>\n",
       "      <td>kevin_presto_000_1_1.pst.16.xls</td>\n",
       "      <td>6677.666667</td>\n",
       "    </tr>\n",
       "    <tr>\n",
       "      <th>580</th>\n",
       "      <td>jonathan_mckay_000_1_1.pst.122.xls</td>\n",
       "      <td>514.333333</td>\n",
       "    </tr>\n",
       "    <tr>\n",
       "      <th>585</th>\n",
       "      <td>jim_schwieger_000_1_1.pst.106.xls</td>\n",
       "      <td>11390.333333</td>\n",
       "    </tr>\n",
       "  </tbody>\n",
       "</table>\n",
       "</div>"
      ],
      "text/plain": [
       "                               fileName  max_nocomp_time\n",
       "87     dutch_quigley_000_1_1.pst.51.xls     11267.666667\n",
       "127  mike_grigsby_000_1_1_1.pst.106.xls      1410.666667\n",
       "144  matthew_lenhart_000_1_1.pst.23.xls      1711.000000\n",
       "197  matthew_lenhart_000_1_1.pst.20.xls      1488.666667\n",
       "220    mark_haedicke_000_1_2.pst.31.xls      1150.000000\n",
       "267     harry_arora_000_1_1.pst.130.xls     12312.333333\n",
       "269   matthew_lenhart_000_1_1.pst.1.xls       764.333333\n",
       "280      vkaminski_001_1_2_1.pst.62.xls       659.333333\n",
       "290  john_lavorato_001_1_1_1.pst.94.xls       615.000000\n",
       "301  mike_grigsby_000_1_1_1.pst.108.xls      1700.000000\n",
       "344      vkaminski_000_1_1_1.pst.26.xls      1603.000000\n",
       "375   jim_schwieger_000_1_1.pst.100.xls     11618.000000\n",
       "407   phillip_allen_000_1_1.pst.102.xls      1471.333333\n",
       "469    rick_buy_000_1_1_1_1.pst.186.xls       962.000000\n",
       "522   phillip_allen_000_1_1.pst.253.xls      1528.333333\n",
       "561  matthew_lenhart_000_1_1.pst.19.xls      1434.333333\n",
       "563    jim_schwieger_000_1_1.pst.71.xls     11248.000000\n",
       "576     kevin_presto_000_1_1.pst.16.xls      6677.666667\n",
       "580  jonathan_mckay_000_1_1.pst.122.xls       514.333333\n",
       "585   jim_schwieger_000_1_1.pst.106.xls     11390.333333"
      ]
     },
     "execution_count": 66,
     "metadata": {},
     "output_type": "execute_result"
    }
   ],
   "source": [
    "threshold=500\n",
    "df_enron_merged[df_enron_merged[\"max_nocomp_time\"] > threshold][[\"fileName\", \"max_nocomp_time\"]]"
   ]
  },
  {
   "cell_type": "code",
   "execution_count": 67,
   "id": "6fb30e88",
   "metadata": {},
   "outputs": [
    {
     "data": {
      "text/html": [
       "<div>\n",
       "<style scoped>\n",
       "    .dataframe tbody tr th:only-of-type {\n",
       "        vertical-align: middle;\n",
       "    }\n",
       "\n",
       "    .dataframe tbody tr th {\n",
       "        vertical-align: top;\n",
       "    }\n",
       "\n",
       "    .dataframe thead th {\n",
       "        text-align: right;\n",
       "    }\n",
       "</style>\n",
       "<table border=\"1\" class=\"dataframe\">\n",
       "  <thead>\n",
       "    <tr style=\"text-align: right;\">\n",
       "      <th></th>\n",
       "      <th>fileName</th>\n",
       "      <th>long_nocomp_time</th>\n",
       "    </tr>\n",
       "  </thead>\n",
       "  <tbody>\n",
       "    <tr>\n",
       "      <th>87</th>\n",
       "      <td>dutch_quigley_000_1_1.pst.51.xls</td>\n",
       "      <td>11465.666667</td>\n",
       "    </tr>\n",
       "    <tr>\n",
       "      <th>220</th>\n",
       "      <td>mark_haedicke_000_1_2.pst.31.xls</td>\n",
       "      <td>961.333333</td>\n",
       "    </tr>\n",
       "    <tr>\n",
       "      <th>267</th>\n",
       "      <td>harry_arora_000_1_1.pst.130.xls</td>\n",
       "      <td>12297.333333</td>\n",
       "    </tr>\n",
       "    <tr>\n",
       "      <th>280</th>\n",
       "      <td>vkaminski_001_1_2_1.pst.62.xls</td>\n",
       "      <td>683.333333</td>\n",
       "    </tr>\n",
       "    <tr>\n",
       "      <th>375</th>\n",
       "      <td>jim_schwieger_000_1_1.pst.100.xls</td>\n",
       "      <td>11307.000000</td>\n",
       "    </tr>\n",
       "    <tr>\n",
       "      <th>526</th>\n",
       "      <td>john_griffith_000_1_1.pst.185.xls</td>\n",
       "      <td>7498.666667</td>\n",
       "    </tr>\n",
       "    <tr>\n",
       "      <th>563</th>\n",
       "      <td>jim_schwieger_000_1_1.pst.71.xls</td>\n",
       "      <td>11325.333333</td>\n",
       "    </tr>\n",
       "    <tr>\n",
       "      <th>576</th>\n",
       "      <td>kevin_presto_000_1_1.pst.16.xls</td>\n",
       "      <td>6575.666667</td>\n",
       "    </tr>\n",
       "    <tr>\n",
       "      <th>585</th>\n",
       "      <td>jim_schwieger_000_1_1.pst.106.xls</td>\n",
       "      <td>11015.333333</td>\n",
       "    </tr>\n",
       "  </tbody>\n",
       "</table>\n",
       "</div>"
      ],
      "text/plain": [
       "                              fileName  long_nocomp_time\n",
       "87    dutch_quigley_000_1_1.pst.51.xls      11465.666667\n",
       "220   mark_haedicke_000_1_2.pst.31.xls        961.333333\n",
       "267    harry_arora_000_1_1.pst.130.xls      12297.333333\n",
       "280     vkaminski_001_1_2_1.pst.62.xls        683.333333\n",
       "375  jim_schwieger_000_1_1.pst.100.xls      11307.000000\n",
       "526  john_griffith_000_1_1.pst.185.xls       7498.666667\n",
       "563   jim_schwieger_000_1_1.pst.71.xls      11325.333333\n",
       "576    kevin_presto_000_1_1.pst.16.xls       6575.666667\n",
       "585  jim_schwieger_000_1_1.pst.106.xls      11015.333333"
      ]
     },
     "execution_count": 67,
     "metadata": {},
     "output_type": "execute_result"
    }
   ],
   "source": [
    "df_enron_merged[df_enron_merged[\"long_nocomp_time\"] > threshold][[\"fileName\", \"long_nocomp_time\"]]"
   ]
  },
  {
   "cell_type": "code",
   "execution_count": 68,
   "id": "6d660bdb",
   "metadata": {
    "scrolled": true
   },
   "outputs": [
    {
     "data": {
      "text/html": [
       "<div>\n",
       "<style scoped>\n",
       "    .dataframe tbody tr th:only-of-type {\n",
       "        vertical-align: middle;\n",
       "    }\n",
       "\n",
       "    .dataframe tbody tr th {\n",
       "        vertical-align: top;\n",
       "    }\n",
       "\n",
       "    .dataframe thead th {\n",
       "        text-align: right;\n",
       "    }\n",
       "</style>\n",
       "<table border=\"1\" class=\"dataframe\">\n",
       "  <thead>\n",
       "    <tr style=\"text-align: right;\">\n",
       "      <th></th>\n",
       "      <th>fileName</th>\n",
       "      <th>max_taco_time</th>\n",
       "    </tr>\n",
       "  </thead>\n",
       "  <tbody>\n",
       "  </tbody>\n",
       "</table>\n",
       "</div>"
      ],
      "text/plain": [
       "Empty DataFrame\n",
       "Columns: [fileName, max_taco_time]\n",
       "Index: []"
      ]
     },
     "execution_count": 68,
     "metadata": {},
     "output_type": "execute_result"
    }
   ],
   "source": [
    "df_enron_merged[df_enron_merged[\"max_taco_time\"] > threshold][[\"fileName\", \"max_taco_time\"]]"
   ]
  },
  {
   "cell_type": "code",
   "execution_count": 69,
   "id": "302df1b0",
   "metadata": {
    "scrolled": true
   },
   "outputs": [
    {
     "data": {
      "text/html": [
       "<div>\n",
       "<style scoped>\n",
       "    .dataframe tbody tr th:only-of-type {\n",
       "        vertical-align: middle;\n",
       "    }\n",
       "\n",
       "    .dataframe tbody tr th {\n",
       "        vertical-align: top;\n",
       "    }\n",
       "\n",
       "    .dataframe thead th {\n",
       "        text-align: right;\n",
       "    }\n",
       "</style>\n",
       "<table border=\"1\" class=\"dataframe\">\n",
       "  <thead>\n",
       "    <tr style=\"text-align: right;\">\n",
       "      <th></th>\n",
       "      <th>fileName</th>\n",
       "      <th>long_taco_time</th>\n",
       "    </tr>\n",
       "  </thead>\n",
       "  <tbody>\n",
       "  </tbody>\n",
       "</table>\n",
       "</div>"
      ],
      "text/plain": [
       "Empty DataFrame\n",
       "Columns: [fileName, long_taco_time]\n",
       "Index: []"
      ]
     },
     "execution_count": 69,
     "metadata": {},
     "output_type": "execute_result"
    }
   ],
   "source": [
    "df_enron_merged[df_enron_merged[\"long_taco_time\"] > threshold][[\"fileName\", \"long_taco_time\"]]"
   ]
  },
  {
   "cell_type": "markdown",
   "id": "4c67066c",
   "metadata": {},
   "source": [
    "### Analyze github dataset"
   ]
  },
  {
   "cell_type": "code",
   "execution_count": 70,
   "id": "e328516d",
   "metadata": {},
   "outputs": [
    {
     "data": {
      "text/html": [
       "<div>\n",
       "<style scoped>\n",
       "    .dataframe tbody tr th:only-of-type {\n",
       "        vertical-align: middle;\n",
       "    }\n",
       "\n",
       "    .dataframe tbody tr th {\n",
       "        vertical-align: top;\n",
       "    }\n",
       "\n",
       "    .dataframe thead th {\n",
       "        text-align: right;\n",
       "    }\n",
       "</style>\n",
       "<table border=\"1\" class=\"dataframe\">\n",
       "  <thead>\n",
       "    <tr style=\"text-align: right;\">\n",
       "      <th></th>\n",
       "      <th>fileName</th>\n",
       "      <th>max_taco_time</th>\n",
       "      <th>max_nocomp_time</th>\n",
       "    </tr>\n",
       "  </thead>\n",
       "  <tbody>\n",
       "  </tbody>\n",
       "</table>\n",
       "</div>"
      ],
      "text/plain": [
       "Empty DataFrame\n",
       "Columns: [fileName, max_taco_time, max_nocomp_time]\n",
       "Index: []"
      ]
     },
     "execution_count": 70,
     "metadata": {},
     "output_type": "execute_result"
    }
   ],
   "source": [
    "df_larger_than = df_github_merged[(df_github_merged[\"max_taco_time\"] > df_github_merged[\"max_nocomp_time\"]) & (df_github_merged[\"max_nocomp_time\"] > 10)]\n",
    "df_larger_than[[\"fileName\", \"max_taco_time\", \"max_nocomp_time\"]]"
   ]
  },
  {
   "cell_type": "code",
   "execution_count": 71,
   "id": "5fd0960e",
   "metadata": {},
   "outputs": [
    {
     "data": {
      "text/html": [
       "<div>\n",
       "<style scoped>\n",
       "    .dataframe tbody tr th:only-of-type {\n",
       "        vertical-align: middle;\n",
       "    }\n",
       "\n",
       "    .dataframe tbody tr th {\n",
       "        vertical-align: top;\n",
       "    }\n",
       "\n",
       "    .dataframe thead th {\n",
       "        text-align: right;\n",
       "    }\n",
       "</style>\n",
       "<table border=\"1\" class=\"dataframe\">\n",
       "  <thead>\n",
       "    <tr style=\"text-align: right;\">\n",
       "      <th></th>\n",
       "      <th>fileName</th>\n",
       "      <th>max_nocomp_time</th>\n",
       "    </tr>\n",
       "  </thead>\n",
       "  <tbody>\n",
       "    <tr>\n",
       "      <th>10</th>\n",
       "      <td>Fact2Sheet_Corona_20200607.xlsx</td>\n",
       "      <td>5079.000000</td>\n",
       "    </tr>\n",
       "    <tr>\n",
       "      <th>53</th>\n",
       "      <td>aws-messages-uc-001.xlsx</td>\n",
       "      <td>612.666667</td>\n",
       "    </tr>\n",
       "    <tr>\n",
       "      <th>59</th>\n",
       "      <td>地方政府债券整理-hs.xlsx</td>\n",
       "      <td>689.000000</td>\n",
       "    </tr>\n",
       "    <tr>\n",
       "      <th>65</th>\n",
       "      <td>Kraken_BTCEUR_1h.xlsx</td>\n",
       "      <td>610.000000</td>\n",
       "    </tr>\n",
       "    <tr>\n",
       "      <th>90</th>\n",
       "      <td>crime_v3.xlsx</td>\n",
       "      <td>912.333333</td>\n",
       "    </tr>\n",
       "    <tr>\n",
       "      <th>...</th>\n",
       "      <td>...</td>\n",
       "      <td>...</td>\n",
       "    </tr>\n",
       "    <tr>\n",
       "      <th>2183</th>\n",
       "      <td>经济总表.xlsx</td>\n",
       "      <td>44456.333333</td>\n",
       "    </tr>\n",
       "    <tr>\n",
       "      <th>2199</th>\n",
       "      <td>최경묵_퍼셉트론엑셀.xlsx</td>\n",
       "      <td>1618.000000</td>\n",
       "    </tr>\n",
       "    <tr>\n",
       "      <th>2229</th>\n",
       "      <td>aero_test.xlsx</td>\n",
       "      <td>1463.666667</td>\n",
       "    </tr>\n",
       "    <tr>\n",
       "      <th>2232</th>\n",
       "      <td>Ventas 2.0 exceldiario.xlsx</td>\n",
       "      <td>2211.000000</td>\n",
       "    </tr>\n",
       "    <tr>\n",
       "      <th>2235</th>\n",
       "      <td>Outer size Code.xlsx</td>\n",
       "      <td>698.666667</td>\n",
       "    </tr>\n",
       "  </tbody>\n",
       "</table>\n",
       "<p>126 rows × 2 columns</p>\n",
       "</div>"
      ],
      "text/plain": [
       "                             fileName  max_nocomp_time\n",
       "10    Fact2Sheet_Corona_20200607.xlsx      5079.000000\n",
       "53           aws-messages-uc-001.xlsx       612.666667\n",
       "59                   地方政府债券整理-hs.xlsx       689.000000\n",
       "65              Kraken_BTCEUR_1h.xlsx       610.000000\n",
       "90                      crime_v3.xlsx       912.333333\n",
       "...                               ...              ...\n",
       "2183                        经济总表.xlsx     44456.333333\n",
       "2199                  최경묵_퍼셉트론엑셀.xlsx      1618.000000\n",
       "2229                   aero_test.xlsx      1463.666667\n",
       "2232      Ventas 2.0 exceldiario.xlsx      2211.000000\n",
       "2235             Outer size Code.xlsx       698.666667\n",
       "\n",
       "[126 rows x 2 columns]"
      ]
     },
     "execution_count": 71,
     "metadata": {},
     "output_type": "execute_result"
    }
   ],
   "source": [
    "threshold=500\n",
    "df_github_merged[df_github_merged[\"max_nocomp_time\"] > threshold][[\"fileName\", \"max_nocomp_time\"]]"
   ]
  },
  {
   "cell_type": "code",
   "execution_count": 72,
   "id": "d48d1124",
   "metadata": {},
   "outputs": [
    {
     "data": {
      "text/html": [
       "<div>\n",
       "<style scoped>\n",
       "    .dataframe tbody tr th:only-of-type {\n",
       "        vertical-align: middle;\n",
       "    }\n",
       "\n",
       "    .dataframe tbody tr th {\n",
       "        vertical-align: top;\n",
       "    }\n",
       "\n",
       "    .dataframe thead th {\n",
       "        text-align: right;\n",
       "    }\n",
       "</style>\n",
       "<table border=\"1\" class=\"dataframe\">\n",
       "  <thead>\n",
       "    <tr style=\"text-align: right;\">\n",
       "      <th></th>\n",
       "      <th>fileName</th>\n",
       "      <th>long_nocomp_time</th>\n",
       "    </tr>\n",
       "  </thead>\n",
       "  <tbody>\n",
       "    <tr>\n",
       "      <th>59</th>\n",
       "      <td>地方政府债券整理-hs.xlsx</td>\n",
       "      <td>6.913333e+02</td>\n",
       "    </tr>\n",
       "    <tr>\n",
       "      <th>65</th>\n",
       "      <td>Kraken_BTCEUR_1h.xlsx</td>\n",
       "      <td>6.030000e+02</td>\n",
       "    </tr>\n",
       "    <tr>\n",
       "      <th>90</th>\n",
       "      <td>crime_v3.xlsx</td>\n",
       "      <td>9.223333e+02</td>\n",
       "    </tr>\n",
       "    <tr>\n",
       "      <th>131</th>\n",
       "      <td>DMD_PRJ.xlsx</td>\n",
       "      <td>1.377667e+03</td>\n",
       "    </tr>\n",
       "    <tr>\n",
       "      <th>152</th>\n",
       "      <td>gaslines_model_public.xlsx</td>\n",
       "      <td>1.248690e+06</td>\n",
       "    </tr>\n",
       "    <tr>\n",
       "      <th>...</th>\n",
       "      <td>...</td>\n",
       "      <td>...</td>\n",
       "    </tr>\n",
       "    <tr>\n",
       "      <th>2153</th>\n",
       "      <td>Office Energy Usage_Workbook.xlsx</td>\n",
       "      <td>5.053333e+02</td>\n",
       "    </tr>\n",
       "    <tr>\n",
       "      <th>2163</th>\n",
       "      <td>homework7_ducharme_h.xlsx</td>\n",
       "      <td>6.913333e+02</td>\n",
       "    </tr>\n",
       "    <tr>\n",
       "      <th>2199</th>\n",
       "      <td>최경묵_퍼셉트론엑셀.xlsx</td>\n",
       "      <td>1.653333e+03</td>\n",
       "    </tr>\n",
       "    <tr>\n",
       "      <th>2229</th>\n",
       "      <td>aero_test.xlsx</td>\n",
       "      <td>1.458333e+03</td>\n",
       "    </tr>\n",
       "    <tr>\n",
       "      <th>2235</th>\n",
       "      <td>Outer size Code.xlsx</td>\n",
       "      <td>6.096667e+02</td>\n",
       "    </tr>\n",
       "  </tbody>\n",
       "</table>\n",
       "<p>86 rows × 2 columns</p>\n",
       "</div>"
      ],
      "text/plain": [
       "                               fileName  long_nocomp_time\n",
       "59                     地方政府债券整理-hs.xlsx      6.913333e+02\n",
       "65                Kraken_BTCEUR_1h.xlsx      6.030000e+02\n",
       "90                        crime_v3.xlsx      9.223333e+02\n",
       "131                        DMD_PRJ.xlsx      1.377667e+03\n",
       "152          gaslines_model_public.xlsx      1.248690e+06\n",
       "...                                 ...               ...\n",
       "2153  Office Energy Usage_Workbook.xlsx      5.053333e+02\n",
       "2163          homework7_ducharme_h.xlsx      6.913333e+02\n",
       "2199                    최경묵_퍼셉트론엑셀.xlsx      1.653333e+03\n",
       "2229                     aero_test.xlsx      1.458333e+03\n",
       "2235               Outer size Code.xlsx      6.096667e+02\n",
       "\n",
       "[86 rows x 2 columns]"
      ]
     },
     "execution_count": 72,
     "metadata": {},
     "output_type": "execute_result"
    }
   ],
   "source": [
    "df_github_merged[df_github_merged[\"long_nocomp_time\"] > threshold][[\"fileName\", \"long_nocomp_time\"]]"
   ]
  },
  {
   "cell_type": "code",
   "execution_count": 73,
   "id": "760ee5ae",
   "metadata": {},
   "outputs": [
    {
     "data": {
      "text/html": [
       "<div>\n",
       "<style scoped>\n",
       "    .dataframe tbody tr th:only-of-type {\n",
       "        vertical-align: middle;\n",
       "    }\n",
       "\n",
       "    .dataframe tbody tr th {\n",
       "        vertical-align: top;\n",
       "    }\n",
       "\n",
       "    .dataframe thead th {\n",
       "        text-align: right;\n",
       "    }\n",
       "</style>\n",
       "<table border=\"1\" class=\"dataframe\">\n",
       "  <thead>\n",
       "    <tr style=\"text-align: right;\">\n",
       "      <th></th>\n",
       "      <th>fileName</th>\n",
       "      <th>max_taco_time</th>\n",
       "    </tr>\n",
       "  </thead>\n",
       "  <tbody>\n",
       "  </tbody>\n",
       "</table>\n",
       "</div>"
      ],
      "text/plain": [
       "Empty DataFrame\n",
       "Columns: [fileName, max_taco_time]\n",
       "Index: []"
      ]
     },
     "execution_count": 73,
     "metadata": {},
     "output_type": "execute_result"
    }
   ],
   "source": [
    "df_github_merged[df_github_merged[\"max_taco_time\"] > threshold][[\"fileName\", \"max_taco_time\"]]"
   ]
  },
  {
   "cell_type": "code",
   "execution_count": 74,
   "id": "812365ab",
   "metadata": {},
   "outputs": [
    {
     "data": {
      "text/html": [
       "<div>\n",
       "<style scoped>\n",
       "    .dataframe tbody tr th:only-of-type {\n",
       "        vertical-align: middle;\n",
       "    }\n",
       "\n",
       "    .dataframe tbody tr th {\n",
       "        vertical-align: top;\n",
       "    }\n",
       "\n",
       "    .dataframe thead th {\n",
       "        text-align: right;\n",
       "    }\n",
       "</style>\n",
       "<table border=\"1\" class=\"dataframe\">\n",
       "  <thead>\n",
       "    <tr style=\"text-align: right;\">\n",
       "      <th></th>\n",
       "      <th>fileName</th>\n",
       "      <th>long_taco_time</th>\n",
       "    </tr>\n",
       "  </thead>\n",
       "  <tbody>\n",
       "  </tbody>\n",
       "</table>\n",
       "</div>"
      ],
      "text/plain": [
       "Empty DataFrame\n",
       "Columns: [fileName, long_taco_time]\n",
       "Index: []"
      ]
     },
     "execution_count": 74,
     "metadata": {},
     "output_type": "execute_result"
    }
   ],
   "source": [
    "df_github_merged[df_github_merged[\"long_taco_time\"] > threshold][[\"fileName\", \"long_taco_time\"]]"
   ]
  },
  {
   "cell_type": "markdown",
   "id": "a2aba922",
   "metadata": {},
   "source": [
    "# 4. Modify Formula Graph"
   ]
  },
  {
   "cell_type": "code",
   "execution_count": 75,
   "id": "27f400d8",
   "metadata": {},
   "outputs": [],
   "source": [
    "def load_modify_results(path, filename):\n",
    "    filename_list = [filename + \"_\" + str(i) + \".csv\" for i in [1, 2, 3]]\n",
    "    column_list = ['fileName', 'Max Dep Ref', 'GraphModifyTime']\n",
    "    df1 = pd.read_csv(path + \"/\" + filename_list[0])\n",
    "    df2 = pd.read_csv(path + \"/\" + filename_list[1])\n",
    "    df3 = pd.read_csv(path + \"/\" + filename_list[2])\n",
    "    df = pd.merge(df1, df2, on=column_list[:2], how=\"inner\")\n",
    "    df = pd.merge(df, df3, on=column_list[:2], how=\"inner\")\n",
    "    \n",
    "    time_ls = []\n",
    "    cand_col = [x for x in list(df.columns) if \"GraphModifyTime\" in x]\n",
    "    for i in range(len(df)):\n",
    "        ls = []\n",
    "        for col in cand_col:\n",
    "            ls.append(df.loc[i, col])\n",
    "        time_ls.append(np.mean(ls))\n",
    "    df['GraphModifyTime'] = time_ls\n",
    "    return df[column_list]"
   ]
  },
  {
   "cell_type": "code",
   "execution_count": 76,
   "id": "2f67411a",
   "metadata": {},
   "outputs": [],
   "source": [
    "enron_nocomp_modify = load_modify_results(enron_modify, \"enron_nocomp_modify\")\n",
    "enron_taco_modify = load_modify_results(enron_modify, \"enron_taco_modify\")\n",
    "github_nocomp_modify = load_modify_results(github_modify, \"github_nocomp_modify\")\n",
    "github_taco_modify = load_modify_results(github_modify, \"github_taco_modify\")"
   ]
  },
  {
   "cell_type": "code",
   "execution_count": 77,
   "id": "2f03ef81-fdf3-41cd-a1ec-dc745c11f5fb",
   "metadata": {},
   "outputs": [
    {
     "data": {
      "text/plain": [
       "(3.4025900900900887, 2.5146396396396384)"
      ]
     },
     "execution_count": 77,
     "metadata": {},
     "output_type": "execute_result"
    }
   ],
   "source": [
    "enron_taco_modify['GraphModifyTime'].mean(), enron_nocomp_modify['GraphModifyTime'].mean()"
   ]
  },
  {
   "cell_type": "code",
   "execution_count": 78,
   "id": "ca812385-a565-42dc-98d7-c6c2ac8d7fc7",
   "metadata": {},
   "outputs": [
    {
     "data": {
      "text/plain": [
       "(2.821268990169796, 4.049448912719683)"
      ]
     },
     "execution_count": 78,
     "metadata": {},
     "output_type": "execute_result"
    }
   ],
   "source": [
    "github_taco_modify['GraphModifyTime'].mean(), github_nocomp_modify['GraphModifyTime'].mean()"
   ]
  },
  {
   "cell_type": "code",
   "execution_count": 79,
   "id": "fb452d89-0edb-41c5-a5dd-8739d29e6624",
   "metadata": {},
   "outputs": [
    {
     "data": {
      "text/plain": [
       "(173.0, 215.66666666666666)"
      ]
     },
     "execution_count": 79,
     "metadata": {},
     "output_type": "execute_result"
    }
   ],
   "source": [
    "enron_taco_modify['GraphModifyTime'].max(), enron_nocomp_modify['GraphModifyTime'].max()"
   ]
  },
  {
   "cell_type": "code",
   "execution_count": 80,
   "id": "95569a0b-4f13-416c-b2ed-eb509ca06173",
   "metadata": {},
   "outputs": [
    {
     "data": {
      "text/plain": [
       "(260.0, 2943.3333333333335)"
      ]
     },
     "execution_count": 80,
     "metadata": {},
     "output_type": "execute_result"
    }
   ],
   "source": [
    "github_taco_modify['GraphModifyTime'].max(), github_nocomp_modify['GraphModifyTime'].max()"
   ]
  },
  {
   "cell_type": "code",
   "execution_count": 81,
   "id": "48e22667",
   "metadata": {},
   "outputs": [],
   "source": [
    "freq_enron_taco_modify = get_pdf_df(enron_taco_modify, 'GraphModifyTime', True)\n",
    "freq_enron_nocomp_modify = get_pdf_df(enron_nocomp_modify, 'GraphModifyTime', True)"
   ]
  },
  {
   "cell_type": "code",
   "execution_count": 82,
   "id": "6d4c2d53-57b9-45bb-918f-6005a462e0ef",
   "metadata": {},
   "outputs": [
    {
     "data": {
      "image/png": "[encoded data removed]",
      "text/plain": [
       "<Figure size 576x360 with 1 Axes>"
      ]
     },
     "metadata": {
      "needs_background": "light"
     },
     "output_type": "display_data"
    }
   ],
   "source": [
    "plot_percentile_transpose([freq_enron_taco_modify, freq_enron_nocomp_modify], \n",
    "                [\"TACO\", \"NoComp\"],\n",
    "                ylabel=\"GraphModifyTime\",\n",
    "                xlabel=\"Percentile\",\n",
    "                y_tick_min=1,\n",
    "                y_tick_max=3,\n",
    "                y_tick_num=2\n",
    "               )"
   ]
  },
  {
   "cell_type": "code",
   "execution_count": 83,
   "id": "919d27ed-3fb6-452e-b964-2bdc98c3f399",
   "metadata": {},
   "outputs": [
    {
     "data": {
      "image/png": "[encoded data removed]",
      "text/plain": [
       "<Figure size 576x360 with 1 Axes>"
      ]
     },
     "metadata": {
      "needs_background": "light"
     },
     "output_type": "display_data"
    }
   ],
   "source": [
    "plot_percentile([freq_enron_taco_modify, freq_enron_nocomp_modify], \n",
    "                [\"TACO\", \"NoComp\"],\n",
    "                xlabel=\"GraphModifyTime\",\n",
    "                ylabel=\"Percentile\",\n",
    "                x_tick_min=1,\n",
    "                x_tick_max=3,\n",
    "                x_tick_num=2\n",
    "               )"
   ]
  },
  {
   "cell_type": "code",
   "execution_count": 84,
   "id": "cbaf9810",
   "metadata": {},
   "outputs": [],
   "source": [
    "freq_github_taco_modify = get_pdf_df(github_taco_modify, 'GraphModifyTime', True)\n",
    "freq_github_nocomp_modify = get_pdf_df(github_nocomp_modify, 'GraphModifyTime', True)"
   ]
  },
  {
   "cell_type": "code",
   "execution_count": 85,
   "id": "92efbc03-5001-4bd6-ab05-d59fa27692d5",
   "metadata": {},
   "outputs": [
    {
     "data": {
      "image/png": "[encoded data removed]",
      "text/plain": [
       "<Figure size 576x360 with 1 Axes>"
      ]
     },
     "metadata": {
      "needs_background": "light"
     },
     "output_type": "display_data"
    }
   ],
   "source": [
    "plot_percentile_transpose([freq_github_taco_modify, freq_github_nocomp_modify], \n",
    "                [\"TACO\", \"NoComp\"],\n",
    "                ylabel=\"GraphModifyTime\",\n",
    "                xlabel=\"Percentile\",\n",
    "                y_tick_min=1,\n",
    "                y_tick_max=4,\n",
    "                y_tick_num=3\n",
    "               )"
   ]
  },
  {
   "cell_type": "code",
   "execution_count": 86,
   "id": "77e4d5f2-3936-4d65-a765-ad5efa793e5e",
   "metadata": {},
   "outputs": [
    {
     "data": {
      "image/png": "[encoded data removed]",
      "text/plain": [
       "<Figure size 576x360 with 1 Axes>"
      ]
     },
     "metadata": {
      "needs_background": "light"
     },
     "output_type": "display_data"
    }
   ],
   "source": [
    "plot_percentile([freq_github_taco_modify, freq_github_nocomp_modify], \n",
    "                [\"TACO\", \"NoComp\"],\n",
    "                xlabel=\"GraphModifyTime\",\n",
    "                ylabel=\"Percentile\",\n",
    "                x_tick_min=1,\n",
    "                x_tick_max=4,\n",
    "                x_tick_num=3\n",
    "               )"
   ]
  },
  {
   "cell_type": "code",
   "execution_count": null,
   "id": "31a1403c",
   "metadata": {},
   "outputs": [],
   "source": []
  }
 ],
 "metadata": {
  "kernelspec": {
   "display_name": "Python 3",
   "language": "python",
   "name": "python3"
  },
  "language_info": {
   "codemirror_mode": {
    "name": "ipython",
    "version": 3
   },
   "file_extension": ".py",
   "mimetype": "text/x-python",
   "name": "python",
   "nbconvert_exporter": "python",
   "pygments_lexer": "ipython3",
   "version": "3.8.8"
  }
 },
 "nbformat": 4,
 "nbformat_minor": 5
}
