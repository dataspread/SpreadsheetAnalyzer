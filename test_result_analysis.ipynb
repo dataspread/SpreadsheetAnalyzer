{
 "cells": [
  {
   "cell_type": "code",
   "execution_count": 1,
   "id": "d476ad8e",
   "metadata": {},
   "outputs": [],
   "source": [
    "import pandas as pd\n",
    "import numpy as np\n",
    "import os\n",
    "notebook_home = os.path.abspath('')\n",
    "lookup_results = notebook_home + \"/lookup_results\"\n",
    "test_results = notebook_home + \"/test_results\"\n",
    "modify_results = notebook_home + \"/modify_results\"\n",
    "enron_stat = test_results + \"/enron\"\n",
    "github_stat = test_results + \"/github\"\n",
    "enron_output = lookup_results + \"/enron/output\"\n",
    "enron_input = lookup_results + \"/enron/input\"\n",
    "github_input = lookup_results + \"/github/input\"\n",
    "github_output = lookup_results + \"/github/output\"\n",
    "enron_modify_output = modify_results + \"/enron\"\n",
    "github_modify_output = modify_results + \"/github\""
   ]
  },
  {
   "cell_type": "code",
   "execution_count": 2,
   "id": "aca93ce8",
   "metadata": {},
   "outputs": [],
   "source": [
    "import seaborn as sns \n",
    "import matplotlib.pyplot as plt\n",
    "plt.style.use(\"seaborn\")\n",
    "from matplotlib.pyplot import MultipleLocator\n",
    "x_log_locator = MultipleLocator(1)\n",
    "x_locator = MultipleLocator(10)\n",
    "y_locator = MultipleLocator(0.2)"
   ]
  },
  {
   "cell_type": "code",
   "execution_count": 3,
   "id": "c3a8b18d",
   "metadata": {},
   "outputs": [],
   "source": [
    "def get_pdf_df(df, column_name, is_log=True):\n",
    "    ls = [x for x in df[column_name] if x > 10]\n",
    "    length = len(ls)\n",
    "    if is_log:\n",
    "        data = pd.Series(np.log(ls))\n",
    "    else:\n",
    "        data = pd.Series(ls)\n",
    "    freq = data.value_counts().sort_index(axis=0, ascending=True).reset_index() \n",
    "    freq[0] = freq[0] / length\n",
    "    freq['cumsum'] = np.cumsum(freq[0])\n",
    "    return freq"
   ]
  },
  {
   "cell_type": "code",
   "execution_count": 4,
   "id": "b59dc1e9",
   "metadata": {},
   "outputs": [],
   "source": [
    "def plot_pdf(df_taco, df_nocomp, title, xlabel, ylabel, is_log=True, save_path=None):\n",
    "    plt.figure(figsize=(10, 6))\n",
    "    plt.plot(df_taco['index'], df_taco['cumsum'], label=\"TACO\")\n",
    "    plt.plot(df_nocomp['index'], df_nocomp['cumsum'], label=\"NoComp\")\n",
    "    ax = plt.gca()\n",
    "    if is_log:\n",
    "        ax.xaxis.set_major_locator(x_log_locator)\n",
    "    else:\n",
    "        ax.xaxis.set_major_locator(x_locator)\n",
    "    plt.ylim(0, 1.05)\n",
    "    plt.legend()\n",
    "    plt.title(title)\n",
    "    plt.xlabel(xlabel)\n",
    "    plt.ylabel(ylabel)\n",
    "    if save_path is not None:\n",
    "        plt.savefig(save_path)\n",
    "    plt.show()"
   ]
  },
  {
   "cell_type": "markdown",
   "id": "06cf9717",
   "metadata": {},
   "source": [
    "# 1. Compressed Formula Graph Sizes"
   ]
  },
  {
   "cell_type": "code",
   "execution_count": 5,
   "id": "2c8d8fdf",
   "metadata": {},
   "outputs": [],
   "source": [
    "def graph_compare_preprocess(df, is_inrow=False):\n",
    "    df['Edges_Diff'] = df['numEdges'] - df['numCompEdges']\n",
    "    df['Edges_Prec'] = df['numCompEdges'] / df['numEdges']\n",
    "    if not is_inrow:\n",
    "        pattern_type = ['RR', 'RF', 'FR', 'FF', 'RR-Chain', 'RRGap']\n",
    "        for pattern in pattern_type:\n",
    "            if pattern != 'RRGap':\n",
    "                df[pattern + \"_Diff\"] = df[pattern + \"_NoComp\"] - df[pattern + \"_Comp\"]\n",
    "            else:\n",
    "                df[pattern + \"_Diff\"] = 0\n",
    "                gaps = ['One', 'Two', 'Three', 'Four', 'Five', 'Six', 'Seven']\n",
    "                for gap in gaps:\n",
    "                    pattern_name = pattern + gap\n",
    "                    df[pattern + \"_Diff\"] += (df[pattern_name + \"_NoComp\"] - df[pattern_name + \"_Comp\"])\n",
    "    return df"
   ]
  },
  {
   "cell_type": "code",
   "execution_count": 6,
   "id": "389c1e62",
   "metadata": {},
   "outputs": [],
   "source": [
    "df_enron_stat = graph_compare_preprocess(pd.read_csv(enron_stat + \"/\" + \"enron_taco_stat_10k.csv\"))\n",
    "df_github_stat = graph_compare_preprocess(pd.read_csv(github_stat + \"/\" + \"github_taco_stat_10k.csv\"))\n",
    "df_enron_inrow_stat = graph_compare_preprocess(pd.read_csv(enron_stat + \"/\" + \"enron_inrow_taco_stat_10k.csv\"), True)\n",
    "df_github_inrow_stat = graph_compare_preprocess(pd.read_csv(github_stat + \"/\" + \"github_inrow_taco_stat_10k.csv\"), True)"
   ]
  },
  {
   "cell_type": "code",
   "execution_count": 7,
   "id": "3a0197d4",
   "metadata": {},
   "outputs": [
    {
     "data": {
      "text/html": [
       "<div>\n",
       "<style scoped>\n",
       "    .dataframe tbody tr th:only-of-type {\n",
       "        vertical-align: middle;\n",
       "    }\n",
       "\n",
       "    .dataframe tbody tr th {\n",
       "        vertical-align: top;\n",
       "    }\n",
       "\n",
       "    .dataframe thead th {\n",
       "        text-align: right;\n",
       "    }\n",
       "</style>\n",
       "<table border=\"1\" class=\"dataframe\">\n",
       "  <thead>\n",
       "    <tr style=\"text-align: right;\">\n",
       "      <th></th>\n",
       "      <th>fileName</th>\n",
       "      <th>numFormulae</th>\n",
       "      <th>numVertices</th>\n",
       "      <th>numEdges</th>\n",
       "      <th>numCompVertices</th>\n",
       "      <th>numCompEdges</th>\n",
       "      <th>RR-Chain_Comp</th>\n",
       "      <th>RR-Chain_NoComp</th>\n",
       "      <th>RR_Comp</th>\n",
       "      <th>RR_NoComp</th>\n",
       "      <th>...</th>\n",
       "      <th>NoComp_Comp</th>\n",
       "      <th>NoComp_NoComp</th>\n",
       "      <th>Edges_Diff</th>\n",
       "      <th>Edges_Prec</th>\n",
       "      <th>RR_Diff</th>\n",
       "      <th>RF_Diff</th>\n",
       "      <th>FR_Diff</th>\n",
       "      <th>FF_Diff</th>\n",
       "      <th>RR-Chain_Diff</th>\n",
       "      <th>RRGap_Diff</th>\n",
       "    </tr>\n",
       "  </thead>\n",
       "  <tbody>\n",
       "    <tr>\n",
       "      <th>0</th>\n",
       "      <td>chris_germany_000_1_2.pst.1111.xls</td>\n",
       "      <td>8270</td>\n",
       "      <td>27200</td>\n",
       "      <td>26350</td>\n",
       "      <td>11520</td>\n",
       "      <td>11160</td>\n",
       "      <td>0</td>\n",
       "      <td>0</td>\n",
       "      <td>10230</td>\n",
       "      <td>24180</td>\n",
       "      <td>...</td>\n",
       "      <td>0</td>\n",
       "      <td>0</td>\n",
       "      <td>15190</td>\n",
       "      <td>0.423529</td>\n",
       "      <td>13950</td>\n",
       "      <td>0</td>\n",
       "      <td>0</td>\n",
       "      <td>0</td>\n",
       "      <td>0</td>\n",
       "      <td>1240</td>\n",
       "    </tr>\n",
       "    <tr>\n",
       "      <th>1</th>\n",
       "      <td>chris_germany_000_1_2.pst.1136.xls</td>\n",
       "      <td>1707</td>\n",
       "      <td>54464</td>\n",
       "      <td>52762</td>\n",
       "      <td>23059</td>\n",
       "      <td>22322</td>\n",
       "      <td>0</td>\n",
       "      <td>0</td>\n",
       "      <td>20446</td>\n",
       "      <td>48393</td>\n",
       "      <td>...</td>\n",
       "      <td>3</td>\n",
       "      <td>3</td>\n",
       "      <td>30440</td>\n",
       "      <td>0.423070</td>\n",
       "      <td>27947</td>\n",
       "      <td>0</td>\n",
       "      <td>0</td>\n",
       "      <td>0</td>\n",
       "      <td>0</td>\n",
       "      <td>2493</td>\n",
       "    </tr>\n",
       "    <tr>\n",
       "      <th>2</th>\n",
       "      <td>kevin_ruscitti_000_1_1.pst.100.xls</td>\n",
       "      <td>8268</td>\n",
       "      <td>27200</td>\n",
       "      <td>26350</td>\n",
       "      <td>11520</td>\n",
       "      <td>11160</td>\n",
       "      <td>0</td>\n",
       "      <td>0</td>\n",
       "      <td>10230</td>\n",
       "      <td>24180</td>\n",
       "      <td>...</td>\n",
       "      <td>0</td>\n",
       "      <td>0</td>\n",
       "      <td>15190</td>\n",
       "      <td>0.423529</td>\n",
       "      <td>13950</td>\n",
       "      <td>0</td>\n",
       "      <td>0</td>\n",
       "      <td>0</td>\n",
       "      <td>0</td>\n",
       "      <td>1240</td>\n",
       "    </tr>\n",
       "    <tr>\n",
       "      <th>3</th>\n",
       "      <td>kevin_ruscitti_000_1_1.pst.101.xls</td>\n",
       "      <td>8268</td>\n",
       "      <td>27200</td>\n",
       "      <td>26350</td>\n",
       "      <td>11520</td>\n",
       "      <td>11160</td>\n",
       "      <td>0</td>\n",
       "      <td>0</td>\n",
       "      <td>10230</td>\n",
       "      <td>24180</td>\n",
       "      <td>...</td>\n",
       "      <td>0</td>\n",
       "      <td>0</td>\n",
       "      <td>15190</td>\n",
       "      <td>0.423529</td>\n",
       "      <td>13950</td>\n",
       "      <td>0</td>\n",
       "      <td>0</td>\n",
       "      <td>0</td>\n",
       "      <td>0</td>\n",
       "      <td>1240</td>\n",
       "    </tr>\n",
       "    <tr>\n",
       "      <th>4</th>\n",
       "      <td>kevin_ruscitti_000_1_1.pst.152.xls</td>\n",
       "      <td>12398</td>\n",
       "      <td>27200</td>\n",
       "      <td>26350</td>\n",
       "      <td>11520</td>\n",
       "      <td>11160</td>\n",
       "      <td>0</td>\n",
       "      <td>0</td>\n",
       "      <td>10230</td>\n",
       "      <td>24180</td>\n",
       "      <td>...</td>\n",
       "      <td>0</td>\n",
       "      <td>0</td>\n",
       "      <td>15190</td>\n",
       "      <td>0.423529</td>\n",
       "      <td>13950</td>\n",
       "      <td>0</td>\n",
       "      <td>0</td>\n",
       "      <td>0</td>\n",
       "      <td>0</td>\n",
       "      <td>1240</td>\n",
       "    </tr>\n",
       "  </tbody>\n",
       "</table>\n",
       "<p>5 rows × 40 columns</p>\n",
       "</div>"
      ],
      "text/plain": [
       "                             fileName  numFormulae  numVertices  numEdges  \\\n",
       "0  chris_germany_000_1_2.pst.1111.xls         8270        27200     26350   \n",
       "1  chris_germany_000_1_2.pst.1136.xls         1707        54464     52762   \n",
       "2  kevin_ruscitti_000_1_1.pst.100.xls         8268        27200     26350   \n",
       "3  kevin_ruscitti_000_1_1.pst.101.xls         8268        27200     26350   \n",
       "4  kevin_ruscitti_000_1_1.pst.152.xls        12398        27200     26350   \n",
       "\n",
       "   numCompVertices  numCompEdges  RR-Chain_Comp  RR-Chain_NoComp  RR_Comp  \\\n",
       "0            11520         11160              0                0    10230   \n",
       "1            23059         22322              0                0    20446   \n",
       "2            11520         11160              0                0    10230   \n",
       "3            11520         11160              0                0    10230   \n",
       "4            11520         11160              0                0    10230   \n",
       "\n",
       "   RR_NoComp  ...  NoComp_Comp  NoComp_NoComp  Edges_Diff  Edges_Prec  \\\n",
       "0      24180  ...            0              0       15190    0.423529   \n",
       "1      48393  ...            3              3       30440    0.423070   \n",
       "2      24180  ...            0              0       15190    0.423529   \n",
       "3      24180  ...            0              0       15190    0.423529   \n",
       "4      24180  ...            0              0       15190    0.423529   \n",
       "\n",
       "   RR_Diff  RF_Diff  FR_Diff  FF_Diff  RR-Chain_Diff  RRGap_Diff  \n",
       "0    13950        0        0        0              0        1240  \n",
       "1    27947        0        0        0              0        2493  \n",
       "2    13950        0        0        0              0        1240  \n",
       "3    13950        0        0        0              0        1240  \n",
       "4    13950        0        0        0              0        1240  \n",
       "\n",
       "[5 rows x 40 columns]"
      ]
     },
     "execution_count": 7,
     "metadata": {},
     "output_type": "execute_result"
    }
   ],
   "source": [
    "df_enron_stat.head()"
   ]
  },
  {
   "cell_type": "markdown",
   "id": "fa576052",
   "metadata": {},
   "source": [
    "## 1.1 Formula graph sizes after TACO compression (low is better)"
   ]
  },
  {
   "cell_type": "code",
   "execution_count": 8,
   "id": "d3ea39db",
   "metadata": {},
   "outputs": [
    {
     "data": {
      "text/html": [
       "<div>\n",
       "<style scoped>\n",
       "    .dataframe tbody tr th:only-of-type {\n",
       "        vertical-align: middle;\n",
       "    }\n",
       "\n",
       "    .dataframe tbody tr th {\n",
       "        vertical-align: top;\n",
       "    }\n",
       "\n",
       "    .dataframe thead th {\n",
       "        text-align: right;\n",
       "    }\n",
       "</style>\n",
       "<table border=\"1\" class=\"dataframe\">\n",
       "  <thead>\n",
       "    <tr style=\"text-align: right;\">\n",
       "      <th></th>\n",
       "      <th>Vertices</th>\n",
       "      <th>Edges</th>\n",
       "      <th>Vertices_Percentage</th>\n",
       "      <th>Edges_Percentage</th>\n",
       "    </tr>\n",
       "  </thead>\n",
       "  <tbody>\n",
       "    <tr>\n",
       "      <th>NoComp</th>\n",
       "      <td>18467065</td>\n",
       "      <td>27083750</td>\n",
       "      <td>1.000000</td>\n",
       "      <td>1.000000</td>\n",
       "    </tr>\n",
       "    <tr>\n",
       "      <th>TACO-Inrow</th>\n",
       "      <td>7501502</td>\n",
       "      <td>14077044</td>\n",
       "      <td>0.406210</td>\n",
       "      <td>0.519760</td>\n",
       "    </tr>\n",
       "    <tr>\n",
       "      <th>TACO</th>\n",
       "      <td>1315183</td>\n",
       "      <td>1210209</td>\n",
       "      <td>0.071218</td>\n",
       "      <td>0.044684</td>\n",
       "    </tr>\n",
       "  </tbody>\n",
       "</table>\n",
       "</div>"
      ],
      "text/plain": [
       "            Vertices     Edges  Vertices_Percentage  Edges_Percentage\n",
       "NoComp      18467065  27083750             1.000000          1.000000\n",
       "TACO-Inrow   7501502  14077044             0.406210          0.519760\n",
       "TACO         1315183   1210209             0.071218          0.044684"
      ]
     },
     "execution_count": 8,
     "metadata": {},
     "output_type": "execute_result"
    }
   ],
   "source": [
    "df_graph_enron_compare = pd.DataFrame()\n",
    "df_graph_enron_compare.index = ['NoComp', 'TACO-Inrow', 'TACO']\n",
    "df_graph_enron_compare['Vertices'] = [df_enron_stat['numVertices'].sum(), df_enron_inrow_stat['numCompVertices'].sum(), df_enron_stat['numCompVertices'].sum()]\n",
    "df_graph_enron_compare['Edges'] = [df_enron_stat['numEdges'].sum(), df_enron_inrow_stat['numCompEdges'].sum(), df_enron_stat['numCompEdges'].sum()]\n",
    "df_graph_enron_compare['Vertices_Percentage'] = df_graph_enron_compare['Vertices'] / df_graph_enron_compare['Vertices'].max()\n",
    "df_graph_enron_compare['Edges_Percentage'] = df_graph_enron_compare['Edges'] / df_graph_enron_compare['Edges'].max()\n",
    "df_graph_enron_compare"
   ]
  },
  {
   "cell_type": "code",
   "execution_count": 9,
   "id": "69e297a4",
   "metadata": {},
   "outputs": [
    {
     "data": {
      "text/html": [
       "<div>\n",
       "<style scoped>\n",
       "    .dataframe tbody tr th:only-of-type {\n",
       "        vertical-align: middle;\n",
       "    }\n",
       "\n",
       "    .dataframe tbody tr th {\n",
       "        vertical-align: top;\n",
       "    }\n",
       "\n",
       "    .dataframe thead th {\n",
       "        text-align: right;\n",
       "    }\n",
       "</style>\n",
       "<table border=\"1\" class=\"dataframe\">\n",
       "  <thead>\n",
       "    <tr style=\"text-align: right;\">\n",
       "      <th></th>\n",
       "      <th>Vertices</th>\n",
       "      <th>Edges</th>\n",
       "      <th>Vertices_Percentage</th>\n",
       "      <th>Edges_Percentage</th>\n",
       "    </tr>\n",
       "  </thead>\n",
       "  <tbody>\n",
       "    <tr>\n",
       "      <th>NoComp</th>\n",
       "      <td>160240056</td>\n",
       "      <td>216050038</td>\n",
       "      <td>1.000000</td>\n",
       "      <td>1.000000</td>\n",
       "    </tr>\n",
       "    <tr>\n",
       "      <th>TACO-Inrow</th>\n",
       "      <td>45453962</td>\n",
       "      <td>45453962</td>\n",
       "      <td>0.283662</td>\n",
       "      <td>0.210386</td>\n",
       "    </tr>\n",
       "    <tr>\n",
       "      <th>TACO</th>\n",
       "      <td>3524109</td>\n",
       "      <td>2884193</td>\n",
       "      <td>0.021993</td>\n",
       "      <td>0.013350</td>\n",
       "    </tr>\n",
       "  </tbody>\n",
       "</table>\n",
       "</div>"
      ],
      "text/plain": [
       "             Vertices      Edges  Vertices_Percentage  Edges_Percentage\n",
       "NoComp      160240056  216050038             1.000000          1.000000\n",
       "TACO-Inrow   45453962   45453962             0.283662          0.210386\n",
       "TACO          3524109    2884193             0.021993          0.013350"
      ]
     },
     "execution_count": 9,
     "metadata": {},
     "output_type": "execute_result"
    }
   ],
   "source": [
    "df_graph_github_compare = pd.DataFrame()\n",
    "df_graph_github_compare.index = ['NoComp', 'TACO-Inrow', 'TACO']\n",
    "df_graph_github_compare['Vertices'] = [df_github_stat['numVertices'].sum(), df_github_inrow_stat['numCompVertices'].sum(), df_github_stat['numCompVertices'].sum()]\n",
    "df_graph_github_compare['Edges'] = [df_github_stat['numEdges'].sum(), df_github_inrow_stat['numCompVertices'].sum(), df_github_stat['numCompEdges'].sum()]\n",
    "df_graph_github_compare['Vertices_Percentage'] = df_graph_github_compare['Vertices'] / df_graph_github_compare['Vertices'].max()\n",
    "df_graph_github_compare['Edges_Percentage'] = df_graph_github_compare['Edges'] / df_graph_github_compare['Edges'].max()\n",
    "df_graph_github_compare"
   ]
  },
  {
   "cell_type": "markdown",
   "id": "21b08414",
   "metadata": {},
   "source": [
    "## 1.2 The number of edges reduced by TACO (high is better)"
   ]
  },
  {
   "cell_type": "code",
   "execution_count": 10,
   "id": "ea040611",
   "metadata": {},
   "outputs": [
    {
     "data": {
      "text/html": [
       "<div>\n",
       "<style scoped>\n",
       "    .dataframe tbody tr th:only-of-type {\n",
       "        vertical-align: middle;\n",
       "    }\n",
       "\n",
       "    .dataframe tbody tr th {\n",
       "        vertical-align: top;\n",
       "    }\n",
       "\n",
       "    .dataframe thead th {\n",
       "        text-align: right;\n",
       "    }\n",
       "</style>\n",
       "<table border=\"1\" class=\"dataframe\">\n",
       "  <thead>\n",
       "    <tr style=\"text-align: right;\">\n",
       "      <th></th>\n",
       "      <th>max</th>\n",
       "      <th>75%</th>\n",
       "      <th>50%</th>\n",
       "      <th>mean</th>\n",
       "    </tr>\n",
       "  </thead>\n",
       "  <tbody>\n",
       "    <tr>\n",
       "      <th>TACO-Inrow</th>\n",
       "      <td>383012.0</td>\n",
       "      <td>22108.0</td>\n",
       "      <td>15003.0</td>\n",
       "      <td>21933.736931</td>\n",
       "    </tr>\n",
       "    <tr>\n",
       "      <th>TACO</th>\n",
       "      <td>573599.0</td>\n",
       "      <td>43203.0</td>\n",
       "      <td>20417.0</td>\n",
       "      <td>43631.603710</td>\n",
       "    </tr>\n",
       "  </tbody>\n",
       "</table>\n",
       "</div>"
      ],
      "text/plain": [
       "                 max      75%      50%          mean\n",
       "TACO-Inrow  383012.0  22108.0  15003.0  21933.736931\n",
       "TACO        573599.0  43203.0  20417.0  43631.603710"
      ]
     },
     "execution_count": 10,
     "metadata": {},
     "output_type": "execute_result"
    }
   ],
   "source": [
    "df_enron_edge_reduce = pd.DataFrame()\n",
    "df_enron_edge_reduce['TACO-Inrow'] = df_enron_inrow_stat['Edges_Diff']\n",
    "df_enron_edge_reduce['TACO'] = df_enron_stat['Edges_Diff']\n",
    "df_enron_edge_reduce.describe().T[['max', '75%', '50%', 'mean']]"
   ]
  },
  {
   "cell_type": "code",
   "execution_count": 11,
   "id": "b27f7397",
   "metadata": {},
   "outputs": [
    {
     "data": {
      "text/html": [
       "<div>\n",
       "<style scoped>\n",
       "    .dataframe tbody tr th:only-of-type {\n",
       "        vertical-align: middle;\n",
       "    }\n",
       "\n",
       "    .dataframe tbody tr th {\n",
       "        vertical-align: top;\n",
       "    }\n",
       "\n",
       "    .dataframe thead th {\n",
       "        text-align: right;\n",
       "    }\n",
       "</style>\n",
       "<table border=\"1\" class=\"dataframe\">\n",
       "  <thead>\n",
       "    <tr style=\"text-align: right;\">\n",
       "      <th></th>\n",
       "      <th>max</th>\n",
       "      <th>75%</th>\n",
       "      <th>50%</th>\n",
       "      <th>mean</th>\n",
       "    </tr>\n",
       "  </thead>\n",
       "  <tbody>\n",
       "    <tr>\n",
       "      <th>TACO-Inrow</th>\n",
       "      <td>2193476.0</td>\n",
       "      <td>53279.5</td>\n",
       "      <td>22758.0</td>\n",
       "      <td>58334.711002</td>\n",
       "    </tr>\n",
       "    <tr>\n",
       "      <th>TACO</th>\n",
       "      <td>2455807.0</td>\n",
       "      <td>91166.5</td>\n",
       "      <td>42150.0</td>\n",
       "      <td>105404.228243</td>\n",
       "    </tr>\n",
       "  </tbody>\n",
       "</table>\n",
       "</div>"
      ],
      "text/plain": [
       "                  max      75%      50%           mean\n",
       "TACO-Inrow  2193476.0  53279.5  22758.0   58334.711002\n",
       "TACO        2455807.0  91166.5  42150.0  105404.228243"
      ]
     },
     "execution_count": 11,
     "metadata": {},
     "output_type": "execute_result"
    }
   ],
   "source": [
    "df_github_edge_reduce = pd.DataFrame()\n",
    "df_github_edge_reduce['TACO-Inrow'] = df_github_inrow_stat['Edges_Diff']\n",
    "df_github_edge_reduce['TACO'] = df_github_stat['Edges_Diff']\n",
    "df_github_edge_reduce.describe().T[['max', '75%', '50%', 'mean']]"
   ]
  },
  {
   "cell_type": "markdown",
   "id": "19d66c1a",
   "metadata": {},
   "source": [
    "## 1.3 Remaining edge fractions after compression (low is better)"
   ]
  },
  {
   "cell_type": "code",
   "execution_count": 12,
   "id": "560e81dd",
   "metadata": {},
   "outputs": [
    {
     "data": {
      "text/html": [
       "<div>\n",
       "<style scoped>\n",
       "    .dataframe tbody tr th:only-of-type {\n",
       "        vertical-align: middle;\n",
       "    }\n",
       "\n",
       "    .dataframe tbody tr th {\n",
       "        vertical-align: top;\n",
       "    }\n",
       "\n",
       "    .dataframe thead th {\n",
       "        text-align: right;\n",
       "    }\n",
       "</style>\n",
       "<table border=\"1\" class=\"dataframe\">\n",
       "  <thead>\n",
       "    <tr style=\"text-align: right;\">\n",
       "      <th></th>\n",
       "      <th>min</th>\n",
       "      <th>25%</th>\n",
       "      <th>50%</th>\n",
       "      <th>mean</th>\n",
       "    </tr>\n",
       "  </thead>\n",
       "  <tbody>\n",
       "    <tr>\n",
       "      <th>TACO-Inrow</th>\n",
       "      <td>0.00001</td>\n",
       "      <td>0.050397</td>\n",
       "      <td>0.377372</td>\n",
       "      <td>0.420695</td>\n",
       "    </tr>\n",
       "    <tr>\n",
       "      <th>TACO</th>\n",
       "      <td>0.00001</td>\n",
       "      <td>0.003395</td>\n",
       "      <td>0.013835</td>\n",
       "      <td>0.069730</td>\n",
       "    </tr>\n",
       "  </tbody>\n",
       "</table>\n",
       "</div>"
      ],
      "text/plain": [
       "                min       25%       50%      mean\n",
       "TACO-Inrow  0.00001  0.050397  0.377372  0.420695\n",
       "TACO        0.00001  0.003395  0.013835  0.069730"
      ]
     },
     "execution_count": 12,
     "metadata": {},
     "output_type": "execute_result"
    }
   ],
   "source": [
    "df_enron_edge_prec = pd.DataFrame()\n",
    "df_enron_edge_prec['TACO-Inrow'] = df_enron_inrow_stat['Edges_Prec']\n",
    "df_enron_edge_prec['TACO'] = df_enron_stat['Edges_Prec']\n",
    "df_enron_edge_prec.describe().T[['min', '25%', '50%', 'mean']]"
   ]
  },
  {
   "cell_type": "code",
   "execution_count": 13,
   "id": "23a5e3b7",
   "metadata": {},
   "outputs": [
    {
     "data": {
      "text/html": [
       "<div>\n",
       "<style scoped>\n",
       "    .dataframe tbody tr th:only-of-type {\n",
       "        vertical-align: middle;\n",
       "    }\n",
       "\n",
       "    .dataframe tbody tr th {\n",
       "        vertical-align: top;\n",
       "    }\n",
       "\n",
       "    .dataframe thead th {\n",
       "        text-align: right;\n",
       "    }\n",
       "</style>\n",
       "<table border=\"1\" class=\"dataframe\">\n",
       "  <thead>\n",
       "    <tr style=\"text-align: right;\">\n",
       "      <th></th>\n",
       "      <th>min</th>\n",
       "      <th>25%</th>\n",
       "      <th>50%</th>\n",
       "      <th>mean</th>\n",
       "    </tr>\n",
       "  </thead>\n",
       "  <tbody>\n",
       "    <tr>\n",
       "      <th>TACO-Inrow</th>\n",
       "      <td>0.000005</td>\n",
       "      <td>0.000911</td>\n",
       "      <td>0.135342</td>\n",
       "      <td>0.358910</td>\n",
       "    </tr>\n",
       "    <tr>\n",
       "      <th>TACO</th>\n",
       "      <td>0.000002</td>\n",
       "      <td>0.000388</td>\n",
       "      <td>0.002020</td>\n",
       "      <td>0.025021</td>\n",
       "    </tr>\n",
       "  </tbody>\n",
       "</table>\n",
       "</div>"
      ],
      "text/plain": [
       "                 min       25%       50%      mean\n",
       "TACO-Inrow  0.000005  0.000911  0.135342  0.358910\n",
       "TACO        0.000002  0.000388  0.002020  0.025021"
      ]
     },
     "execution_count": 13,
     "metadata": {},
     "output_type": "execute_result"
    }
   ],
   "source": [
    "df_github_edge_prec = pd.DataFrame()\n",
    "df_github_edge_prec['TACO-Inrow'] = df_github_inrow_stat['Edges_Prec']\n",
    "df_github_edge_prec['TACO'] = df_github_stat['Edges_Prec']\n",
    "df_github_edge_prec.describe().T[['min', '25%', '50%', 'mean']]"
   ]
  },
  {
   "cell_type": "markdown",
   "id": "857dd3df",
   "metadata": {},
   "source": [
    "## 1.4 Number of edges reduced by each pattern (high is better)"
   ]
  },
  {
   "cell_type": "code",
   "execution_count": 14,
   "id": "8b5dad39",
   "metadata": {},
   "outputs": [
    {
     "data": {
      "text/html": [
       "<div>\n",
       "<style scoped>\n",
       "    .dataframe tbody tr th:only-of-type {\n",
       "        vertical-align: middle;\n",
       "    }\n",
       "\n",
       "    .dataframe tbody tr th {\n",
       "        vertical-align: top;\n",
       "    }\n",
       "\n",
       "    .dataframe thead th {\n",
       "        text-align: right;\n",
       "    }\n",
       "</style>\n",
       "<table border=\"1\" class=\"dataframe\">\n",
       "  <thead>\n",
       "    <tr style=\"text-align: right;\">\n",
       "      <th></th>\n",
       "      <th>Sum</th>\n",
       "      <th>Max</th>\n",
       "    </tr>\n",
       "  </thead>\n",
       "  <tbody>\n",
       "    <tr>\n",
       "      <th>RR</th>\n",
       "      <td>16316157</td>\n",
       "      <td>258333</td>\n",
       "    </tr>\n",
       "    <tr>\n",
       "      <th>RF</th>\n",
       "      <td>1879</td>\n",
       "      <td>1413</td>\n",
       "    </tr>\n",
       "    <tr>\n",
       "      <th>FR</th>\n",
       "      <td>149775</td>\n",
       "      <td>13815</td>\n",
       "    </tr>\n",
       "    <tr>\n",
       "      <th>FF</th>\n",
       "      <td>3657207</td>\n",
       "      <td>170510</td>\n",
       "    </tr>\n",
       "    <tr>\n",
       "      <th>RR-Chain</th>\n",
       "      <td>450504</td>\n",
       "      <td>24596</td>\n",
       "    </tr>\n",
       "    <tr>\n",
       "      <th>RRGap</th>\n",
       "      <td>689711</td>\n",
       "      <td>48670</td>\n",
       "    </tr>\n",
       "  </tbody>\n",
       "</table>\n",
       "</div>"
      ],
      "text/plain": [
       "               Sum     Max\n",
       "RR        16316157  258333\n",
       "RF            1879    1413\n",
       "FR          149775   13815\n",
       "FF         3657207  170510\n",
       "RR-Chain    450504   24596\n",
       "RRGap       689711   48670"
      ]
     },
     "execution_count": 14,
     "metadata": {},
     "output_type": "execute_result"
    }
   ],
   "source": [
    "df_enron_pattern_reduce = pd.DataFrame()\n",
    "pattern_type = ['RR', 'RF', 'FR', 'FF', 'RR-Chain', 'RRGap']\n",
    "for pattern in pattern_type:\n",
    "    df_enron_pattern_reduce[pattern] = df_enron_stat[pattern + \"_Diff\"]\n",
    "df_enron_pattern_stat = pd.DataFrame()\n",
    "df_enron_pattern_stat.index = df_enron_pattern_reduce.T.index\n",
    "df_enron_pattern_stat['Sum'] = df_enron_pattern_reduce.sum()\n",
    "df_enron_pattern_stat['Max'] = df_enron_pattern_reduce.max()\n",
    "df_enron_pattern_stat"
   ]
  },
  {
   "cell_type": "code",
   "execution_count": 15,
   "id": "f3cd52c9",
   "metadata": {},
   "outputs": [
    {
     "data": {
      "text/html": [
       "<div>\n",
       "<style scoped>\n",
       "    .dataframe tbody tr th:only-of-type {\n",
       "        vertical-align: middle;\n",
       "    }\n",
       "\n",
       "    .dataframe tbody tr th {\n",
       "        vertical-align: top;\n",
       "    }\n",
       "\n",
       "    .dataframe thead th {\n",
       "        text-align: right;\n",
       "    }\n",
       "</style>\n",
       "<table border=\"1\" class=\"dataframe\">\n",
       "  <thead>\n",
       "    <tr style=\"text-align: right;\">\n",
       "      <th></th>\n",
       "      <th>Sum</th>\n",
       "      <th>Max</th>\n",
       "    </tr>\n",
       "  </thead>\n",
       "  <tbody>\n",
       "    <tr>\n",
       "      <th>RR</th>\n",
       "      <td>135900672</td>\n",
       "      <td>1754081</td>\n",
       "    </tr>\n",
       "    <tr>\n",
       "      <th>RF</th>\n",
       "      <td>13357</td>\n",
       "      <td>9999</td>\n",
       "    </tr>\n",
       "    <tr>\n",
       "      <th>FR</th>\n",
       "      <td>178259</td>\n",
       "      <td>39008</td>\n",
       "    </tr>\n",
       "    <tr>\n",
       "      <th>FF</th>\n",
       "      <td>22244085</td>\n",
       "      <td>736581</td>\n",
       "    </tr>\n",
       "    <tr>\n",
       "      <th>RR-Chain</th>\n",
       "      <td>5777668</td>\n",
       "      <td>399996</td>\n",
       "    </tr>\n",
       "    <tr>\n",
       "      <th>RRGap</th>\n",
       "      <td>1424659</td>\n",
       "      <td>572425</td>\n",
       "    </tr>\n",
       "  </tbody>\n",
       "</table>\n",
       "</div>"
      ],
      "text/plain": [
       "                Sum      Max\n",
       "RR        135900672  1754081\n",
       "RF            13357     9999\n",
       "FR           178259    39008\n",
       "FF         22244085   736581\n",
       "RR-Chain    5777668   399996\n",
       "RRGap       1424659   572425"
      ]
     },
     "execution_count": 15,
     "metadata": {},
     "output_type": "execute_result"
    }
   ],
   "source": [
    "df_github_pattern_reduce = pd.DataFrame()\n",
    "pattern_type = ['RR', 'RF', 'FR', 'FF', 'RR-Chain', 'RRGap']\n",
    "for pattern in pattern_type:\n",
    "    df_github_pattern_reduce[pattern] = df_github_stat[pattern + \"_Diff\"]\n",
    "df_github_pattern_stat = pd.DataFrame()\n",
    "df_github_pattern_stat.index = df_github_pattern_reduce.T.index\n",
    "df_github_pattern_stat['Sum'] = df_github_pattern_reduce.sum()\n",
    "df_github_pattern_stat['Max'] = df_github_pattern_reduce.max()\n",
    "df_github_pattern_stat"
   ]
  },
  {
   "cell_type": "markdown",
   "id": "26dad6a0",
   "metadata": {},
   "source": [
    "# 2. Building Graphs"
   ]
  },
  {
   "cell_type": "code",
   "execution_count": 16,
   "id": "82ce0683",
   "metadata": {},
   "outputs": [],
   "source": [
    "column_list = ['fileName', 'GraphBuildTime']\n",
    "df_enron_taco_max = pd.read_csv(f\"{enron_output}/enron_max_taco_10k.csv\")[column_list]\n",
    "df_enron_taco_long = pd.read_csv(f\"{enron_output}/enron_long_taco_10k.csv\")[column_list]\n",
    "df_enron_nocomp_max = pd.read_csv(f\"{enron_output}/enron_max_nocomp_10k.csv\")[column_list]\n",
    "df_enron_nocomp_long = pd.read_csv(f\"{enron_output}/enron_long_nocomp_10k.csv\")[column_list]\n",
    "df_github_taco_max =  pd.read_csv(f\"{github_output}/github_max_taco_10k.csv\")[column_list]\n",
    "df_github_taco_long = pd.read_csv(f\"{github_output}/github_long_taco_10k.csv\")[column_list]\n",
    "df_github_nocomp_max = pd.read_csv(f\"{github_output}/github_max_nocomp_10k.csv\")[column_list]\n",
    "df_github_nocomp_long = pd.read_csv(f\"{github_output}/github_long_nocomp_10k.csv\")[column_list]"
   ]
  },
  {
   "cell_type": "code",
   "execution_count": 17,
   "id": "ee4cf761",
   "metadata": {},
   "outputs": [],
   "source": [
    "df_enron_taco = pd.merge(df_enron_taco_max, df_enron_taco_long, how=\"inner\", on=[\"fileName\"])\n",
    "df_enron_nocomp = pd.merge(df_enron_nocomp_max, df_enron_nocomp_long, how=\"inner\", on=[\"fileName\"])\n",
    "df_enron_taco['TACO_GraphBuildTime'] = (df_enron_taco['GraphBuildTime_x'] + df_enron_taco['GraphBuildTime_y']) / 2.\n",
    "df_enron_nocomp['NoComp_GraphBuildTime'] = (df_enron_nocomp['GraphBuildTime_x'] + df_enron_nocomp['GraphBuildTime_y']) / 2."
   ]
  },
  {
   "cell_type": "code",
   "execution_count": 18,
   "id": "76229e85",
   "metadata": {},
   "outputs": [],
   "source": [
    "enron_graph_result = pd.merge(df_enron_taco, df_enron_nocomp, how=\"inner\", on=['fileName'])[['fileName', 'TACO_GraphBuildTime', 'NoComp_GraphBuildTime']]"
   ]
  },
  {
   "cell_type": "code",
   "execution_count": 19,
   "id": "4715f59c",
   "metadata": {},
   "outputs": [
    {
     "data": {
      "text/html": [
       "<div>\n",
       "<style scoped>\n",
       "    .dataframe tbody tr th:only-of-type {\n",
       "        vertical-align: middle;\n",
       "    }\n",
       "\n",
       "    .dataframe tbody tr th {\n",
       "        vertical-align: top;\n",
       "    }\n",
       "\n",
       "    .dataframe thead th {\n",
       "        text-align: right;\n",
       "    }\n",
       "</style>\n",
       "<table border=\"1\" class=\"dataframe\">\n",
       "  <thead>\n",
       "    <tr style=\"text-align: right;\">\n",
       "      <th></th>\n",
       "      <th>fileName</th>\n",
       "      <th>TACO_GraphBuildTime</th>\n",
       "      <th>NoComp_GraphBuildTime</th>\n",
       "    </tr>\n",
       "  </thead>\n",
       "  <tbody>\n",
       "    <tr>\n",
       "      <th>0</th>\n",
       "      <td>stacey_white_000_1_1.pst.254.xls</td>\n",
       "      <td>1681.0</td>\n",
       "      <td>1078.0</td>\n",
       "    </tr>\n",
       "    <tr>\n",
       "      <th>1</th>\n",
       "      <td>darron_c_giron_002_1_1_1.pst.177.xls</td>\n",
       "      <td>864.5</td>\n",
       "      <td>261.5</td>\n",
       "    </tr>\n",
       "    <tr>\n",
       "      <th>2</th>\n",
       "      <td>stacey_white_000_1_1.pst.262.xls</td>\n",
       "      <td>2751.5</td>\n",
       "      <td>1505.0</td>\n",
       "    </tr>\n",
       "    <tr>\n",
       "      <th>3</th>\n",
       "      <td>mike_grigsby_000_1_1_1.pst.248.xls</td>\n",
       "      <td>128.0</td>\n",
       "      <td>131.5</td>\n",
       "    </tr>\n",
       "    <tr>\n",
       "      <th>4</th>\n",
       "      <td>kevin_ruscitti_000_1_1.pst.156.xls</td>\n",
       "      <td>4269.0</td>\n",
       "      <td>170.5</td>\n",
       "    </tr>\n",
       "  </tbody>\n",
       "</table>\n",
       "</div>"
      ],
      "text/plain": [
       "                               fileName  TACO_GraphBuildTime  \\\n",
       "0      stacey_white_000_1_1.pst.254.xls               1681.0   \n",
       "1  darron_c_giron_002_1_1_1.pst.177.xls                864.5   \n",
       "2      stacey_white_000_1_1.pst.262.xls               2751.5   \n",
       "3    mike_grigsby_000_1_1_1.pst.248.xls                128.0   \n",
       "4    kevin_ruscitti_000_1_1.pst.156.xls               4269.0   \n",
       "\n",
       "   NoComp_GraphBuildTime  \n",
       "0                 1078.0  \n",
       "1                  261.5  \n",
       "2                 1505.0  \n",
       "3                  131.5  \n",
       "4                  170.5  "
      ]
     },
     "execution_count": 19,
     "metadata": {},
     "output_type": "execute_result"
    }
   ],
   "source": [
    "enron_graph_result.head()"
   ]
  },
  {
   "cell_type": "code",
   "execution_count": 20,
   "id": "6e799c17",
   "metadata": {},
   "outputs": [
    {
     "data": {
      "text/plain": [
       "(1011.316722972973, 322.6418918918919)"
      ]
     },
     "execution_count": 20,
     "metadata": {},
     "output_type": "execute_result"
    }
   ],
   "source": [
    "enron_graph_result['TACO_GraphBuildTime'].mean(), enron_graph_result['NoComp_GraphBuildTime'].mean()"
   ]
  },
  {
   "cell_type": "code",
   "execution_count": 21,
   "id": "be8d3127",
   "metadata": {},
   "outputs": [
    {
     "data": {
      "text/html": [
       "<div>\n",
       "<style scoped>\n",
       "    .dataframe tbody tr th:only-of-type {\n",
       "        vertical-align: middle;\n",
       "    }\n",
       "\n",
       "    .dataframe tbody tr th {\n",
       "        vertical-align: top;\n",
       "    }\n",
       "\n",
       "    .dataframe thead th {\n",
       "        text-align: right;\n",
       "    }\n",
       "</style>\n",
       "<table border=\"1\" class=\"dataframe\">\n",
       "  <thead>\n",
       "    <tr style=\"text-align: right;\">\n",
       "      <th></th>\n",
       "      <th>fileName</th>\n",
       "      <th>TACO_GraphBuildTime</th>\n",
       "      <th>NoComp_GraphBuildTime</th>\n",
       "    </tr>\n",
       "  </thead>\n",
       "  <tbody>\n",
       "    <tr>\n",
       "      <th>503</th>\n",
       "      <td>jim_schwieger_000_1_1.pst.111.xls</td>\n",
       "      <td>9413.5</td>\n",
       "      <td>931.0</td>\n",
       "    </tr>\n",
       "    <tr>\n",
       "      <th>579</th>\n",
       "      <td>chris_germany_000_1_2.pst.1136.xls</td>\n",
       "      <td>7691.0</td>\n",
       "      <td>367.0</td>\n",
       "    </tr>\n",
       "    <tr>\n",
       "      <th>572</th>\n",
       "      <td>jim_schwieger_000_1_1.pst.112.xls</td>\n",
       "      <td>7387.5</td>\n",
       "      <td>315.5</td>\n",
       "    </tr>\n",
       "    <tr>\n",
       "      <th>486</th>\n",
       "      <td>mary_fischer_000_1_1.pst.116.xls</td>\n",
       "      <td>6574.5</td>\n",
       "      <td>145.0</td>\n",
       "    </tr>\n",
       "    <tr>\n",
       "      <th>34</th>\n",
       "      <td>jim_schwieger_000_1_1.pst.113.xls</td>\n",
       "      <td>6253.0</td>\n",
       "      <td>335.5</td>\n",
       "    </tr>\n",
       "    <tr>\n",
       "      <th>...</th>\n",
       "      <td>...</td>\n",
       "      <td>...</td>\n",
       "      <td>...</td>\n",
       "    </tr>\n",
       "    <tr>\n",
       "      <th>387</th>\n",
       "      <td>john_arnold_000_1_2.pst.135.xls</td>\n",
       "      <td>61.5</td>\n",
       "      <td>65.5</td>\n",
       "    </tr>\n",
       "    <tr>\n",
       "      <th>516</th>\n",
       "      <td>vkaminski_000_1_1_1.pst.182.xls</td>\n",
       "      <td>60.0</td>\n",
       "      <td>78.0</td>\n",
       "    </tr>\n",
       "    <tr>\n",
       "      <th>131</th>\n",
       "      <td>richard_shapiro_001_1_2.pst.124.xls</td>\n",
       "      <td>56.0</td>\n",
       "      <td>67.0</td>\n",
       "    </tr>\n",
       "    <tr>\n",
       "      <th>334</th>\n",
       "      <td>joe_quenet_000_1_1.pst.17.xls</td>\n",
       "      <td>49.0</td>\n",
       "      <td>70.0</td>\n",
       "    </tr>\n",
       "    <tr>\n",
       "      <th>249</th>\n",
       "      <td>joe_stepenovitch_000_1_1.pst.15.xls</td>\n",
       "      <td>45.5</td>\n",
       "      <td>62.5</td>\n",
       "    </tr>\n",
       "  </tbody>\n",
       "</table>\n",
       "<p>592 rows × 3 columns</p>\n",
       "</div>"
      ],
      "text/plain": [
       "                                fileName  TACO_GraphBuildTime  \\\n",
       "503    jim_schwieger_000_1_1.pst.111.xls               9413.5   \n",
       "579   chris_germany_000_1_2.pst.1136.xls               7691.0   \n",
       "572    jim_schwieger_000_1_1.pst.112.xls               7387.5   \n",
       "486     mary_fischer_000_1_1.pst.116.xls               6574.5   \n",
       "34     jim_schwieger_000_1_1.pst.113.xls               6253.0   \n",
       "..                                   ...                  ...   \n",
       "387      john_arnold_000_1_2.pst.135.xls                 61.5   \n",
       "516      vkaminski_000_1_1_1.pst.182.xls                 60.0   \n",
       "131  richard_shapiro_001_1_2.pst.124.xls                 56.0   \n",
       "334        joe_quenet_000_1_1.pst.17.xls                 49.0   \n",
       "249  joe_stepenovitch_000_1_1.pst.15.xls                 45.5   \n",
       "\n",
       "     NoComp_GraphBuildTime  \n",
       "503                  931.0  \n",
       "579                  367.0  \n",
       "572                  315.5  \n",
       "486                  145.0  \n",
       "34                   335.5  \n",
       "..                     ...  \n",
       "387                   65.5  \n",
       "516                   78.0  \n",
       "131                   67.0  \n",
       "334                   70.0  \n",
       "249                   62.5  \n",
       "\n",
       "[592 rows x 3 columns]"
      ]
     },
     "execution_count": 21,
     "metadata": {},
     "output_type": "execute_result"
    }
   ],
   "source": [
    "enron_graph_result.sort_values(by=\"TACO_GraphBuildTime\", ascending=False)"
   ]
  },
  {
   "cell_type": "code",
   "execution_count": 74,
   "id": "a2d58aac",
   "metadata": {},
   "outputs": [
    {
     "data": {
      "text/html": [
       "<div>\n",
       "<style scoped>\n",
       "    .dataframe tbody tr th:only-of-type {\n",
       "        vertical-align: middle;\n",
       "    }\n",
       "\n",
       "    .dataframe tbody tr th {\n",
       "        vertical-align: top;\n",
       "    }\n",
       "\n",
       "    .dataframe thead th {\n",
       "        text-align: right;\n",
       "    }\n",
       "</style>\n",
       "<table border=\"1\" class=\"dataframe\">\n",
       "  <thead>\n",
       "    <tr style=\"text-align: right;\">\n",
       "      <th></th>\n",
       "      <th>fileName</th>\n",
       "      <th>TACO_GraphBuildTime</th>\n",
       "      <th>NoComp_GraphBuildTime</th>\n",
       "    </tr>\n",
       "  </thead>\n",
       "  <tbody>\n",
       "    <tr>\n",
       "      <th>12</th>\n",
       "      <td>phillip_allen_000_1_1.pst.212.xls</td>\n",
       "      <td>1991.0</td>\n",
       "      <td>2591.0</td>\n",
       "    </tr>\n",
       "  </tbody>\n",
       "</table>\n",
       "</div>"
      ],
      "text/plain": [
       "                             fileName  TACO_GraphBuildTime  \\\n",
       "12  phillip_allen_000_1_1.pst.212.xls               1991.0   \n",
       "\n",
       "    NoComp_GraphBuildTime  \n",
       "12                 2591.0  "
      ]
     },
     "execution_count": 74,
     "metadata": {},
     "output_type": "execute_result"
    }
   ],
   "source": [
    "enron_graph_result[enron_graph_result[\"NoComp_GraphBuildTime\"] - enron_graph_result[\"TACO_GraphBuildTime\"] > 500]"
   ]
  },
  {
   "cell_type": "code",
   "execution_count": 22,
   "id": "ecade5e2",
   "metadata": {},
   "outputs": [],
   "source": [
    "freq_enron_taco = get_pdf_df(enron_graph_result, 'TACO_GraphBuildTime')\n",
    "freq_enron_nocomp = get_pdf_df(enron_graph_result, 'NoComp_GraphBuildTime')"
   ]
  },
  {
   "cell_type": "code",
   "execution_count": 23,
   "id": "b6f1d1c5",
   "metadata": {},
   "outputs": [
    {
     "data": {
      "image/png": "[encoded data removed]",
      "text/plain": [
       "<Figure size 720x432 with 1 Axes>"
      ]
     },
     "metadata": {},
     "output_type": "display_data"
    }
   ],
   "source": [
    "plot_pdf(freq_enron_taco, freq_enron_nocomp,\n",
    "         \"Cumulative Distribution of Graph Build Time on Enron Dataset\",\n",
    "         \"Log Time\",\n",
    "         \"Percentage\"\n",
    "        )"
   ]
  },
  {
   "cell_type": "code",
   "execution_count": 24,
   "id": "5daf5a2a",
   "metadata": {},
   "outputs": [],
   "source": [
    "df_github_taco = pd.merge(df_github_taco_max, df_github_taco_long, how=\"inner\", on=[\"fileName\"])\n",
    "df_github_nocomp = pd.merge(df_github_nocomp_max, df_github_nocomp_long, how=\"inner\", on=[\"fileName\"])\n",
    "df_github_taco['TACO_GraphBuildTime'] = (df_github_taco['GraphBuildTime_x'] + df_github_taco['GraphBuildTime_y']) / 2.\n",
    "df_github_nocomp['NoComp_GraphBuildTime'] = (df_github_nocomp['GraphBuildTime_x'] + df_github_nocomp['GraphBuildTime_y']) / 2."
   ]
  },
  {
   "cell_type": "code",
   "execution_count": 25,
   "id": "f7d46d2e",
   "metadata": {},
   "outputs": [],
   "source": [
    "github_graph_result = pd.merge(df_github_taco, df_github_nocomp, how=\"inner\", on=['fileName'])[['fileName', 'TACO_GraphBuildTime', 'NoComp_GraphBuildTime']]"
   ]
  },
  {
   "cell_type": "code",
   "execution_count": 76,
   "id": "85bbc6e6",
   "metadata": {},
   "outputs": [
    {
     "data": {
      "text/html": [
       "<div>\n",
       "<style scoped>\n",
       "    .dataframe tbody tr th:only-of-type {\n",
       "        vertical-align: middle;\n",
       "    }\n",
       "\n",
       "    .dataframe tbody tr th {\n",
       "        vertical-align: top;\n",
       "    }\n",
       "\n",
       "    .dataframe thead th {\n",
       "        text-align: right;\n",
       "    }\n",
       "</style>\n",
       "<table border=\"1\" class=\"dataframe\">\n",
       "  <thead>\n",
       "    <tr style=\"text-align: right;\">\n",
       "      <th></th>\n",
       "      <th>fileName</th>\n",
       "      <th>TACO_GraphBuildTime</th>\n",
       "      <th>NoComp_GraphBuildTime</th>\n",
       "    </tr>\n",
       "  </thead>\n",
       "  <tbody>\n",
       "    <tr>\n",
       "      <th>758</th>\n",
       "      <td>PendaHealthdata__Analysis.xlsx</td>\n",
       "      <td>12475.5</td>\n",
       "      <td>21280.0</td>\n",
       "    </tr>\n",
       "    <tr>\n",
       "      <th>2168</th>\n",
       "      <td>trace_ros2_10.xlsx</td>\n",
       "      <td>5597.0</td>\n",
       "      <td>13851.5</td>\n",
       "    </tr>\n",
       "  </tbody>\n",
       "</table>\n",
       "</div>"
      ],
      "text/plain": [
       "                            fileName  TACO_GraphBuildTime  \\\n",
       "758   PendaHealthdata__Analysis.xlsx              12475.5   \n",
       "2168              trace_ros2_10.xlsx               5597.0   \n",
       "\n",
       "      NoComp_GraphBuildTime  \n",
       "758                 21280.0  \n",
       "2168                13851.5  "
      ]
     },
     "execution_count": 76,
     "metadata": {},
     "output_type": "execute_result"
    }
   ],
   "source": [
    "github_graph_result[github_graph_result[\"NoComp_GraphBuildTime\"] - github_graph_result[\"TACO_GraphBuildTime\"] > 5000]"
   ]
  },
  {
   "cell_type": "code",
   "execution_count": 79,
   "id": "29fc1f63",
   "metadata": {},
   "outputs": [
    {
     "data": {
      "text/html": [
       "<div>\n",
       "<style scoped>\n",
       "    .dataframe tbody tr th:only-of-type {\n",
       "        vertical-align: middle;\n",
       "    }\n",
       "\n",
       "    .dataframe tbody tr th {\n",
       "        vertical-align: top;\n",
       "    }\n",
       "\n",
       "    .dataframe thead th {\n",
       "        text-align: right;\n",
       "    }\n",
       "</style>\n",
       "<table border=\"1\" class=\"dataframe\">\n",
       "  <thead>\n",
       "    <tr style=\"text-align: right;\">\n",
       "      <th></th>\n",
       "      <th>fileName</th>\n",
       "      <th>TACO_GraphBuildTime</th>\n",
       "      <th>NoComp_GraphBuildTime</th>\n",
       "    </tr>\n",
       "  </thead>\n",
       "  <tbody>\n",
       "    <tr>\n",
       "      <th>994</th>\n",
       "      <td>teeeest.xlsx</td>\n",
       "      <td>163226.5</td>\n",
       "      <td>7715.5</td>\n",
       "    </tr>\n",
       "    <tr>\n",
       "      <th>308</th>\n",
       "      <td>Gastos.xlsx</td>\n",
       "      <td>88683.5</td>\n",
       "      <td>1403.0</td>\n",
       "    </tr>\n",
       "    <tr>\n",
       "      <th>638</th>\n",
       "      <td>2015하수도통계(최종).xlsx</td>\n",
       "      <td>38741.0</td>\n",
       "      <td>5720.0</td>\n",
       "    </tr>\n",
       "    <tr>\n",
       "      <th>2031</th>\n",
       "      <td>correc_precorte_13-05_000.xlsx</td>\n",
       "      <td>37999.5</td>\n",
       "      <td>3111.0</td>\n",
       "    </tr>\n",
       "    <tr>\n",
       "      <th>1367</th>\n",
       "      <td>zasco_baseline.xlsx</td>\n",
       "      <td>34331.0</td>\n",
       "      <td>8590.5</td>\n",
       "    </tr>\n",
       "    <tr>\n",
       "      <th>...</th>\n",
       "      <td>...</td>\n",
       "      <td>...</td>\n",
       "      <td>...</td>\n",
       "    </tr>\n",
       "    <tr>\n",
       "      <th>1509</th>\n",
       "      <td>Wykresy.xlsx</td>\n",
       "      <td>50.5</td>\n",
       "      <td>87.5</td>\n",
       "    </tr>\n",
       "    <tr>\n",
       "      <th>242</th>\n",
       "      <td>All London 2012 athletes.xlsx</td>\n",
       "      <td>48.5</td>\n",
       "      <td>103.5</td>\n",
       "    </tr>\n",
       "    <tr>\n",
       "      <th>1774</th>\n",
       "      <td>Test_Data_label.xlsx</td>\n",
       "      <td>48.5</td>\n",
       "      <td>64.0</td>\n",
       "    </tr>\n",
       "    <tr>\n",
       "      <th>1746</th>\n",
       "      <td>VnEmoLex.xlsx</td>\n",
       "      <td>47.5</td>\n",
       "      <td>112.5</td>\n",
       "    </tr>\n",
       "    <tr>\n",
       "      <th>710</th>\n",
       "      <td>925_listener_data.xlsx</td>\n",
       "      <td>44.0</td>\n",
       "      <td>53.0</td>\n",
       "    </tr>\n",
       "  </tbody>\n",
       "</table>\n",
       "<p>2205 rows × 3 columns</p>\n",
       "</div>"
      ],
      "text/plain": [
       "                            fileName  TACO_GraphBuildTime  \\\n",
       "994                     teeeest.xlsx             163226.5   \n",
       "308                      Gastos.xlsx              88683.5   \n",
       "638               2015하수도통계(최종).xlsx              38741.0   \n",
       "2031  correc_precorte_13-05_000.xlsx              37999.5   \n",
       "1367             zasco_baseline.xlsx              34331.0   \n",
       "...                              ...                  ...   \n",
       "1509                    Wykresy.xlsx                 50.5   \n",
       "242    All London 2012 athletes.xlsx                 48.5   \n",
       "1774            Test_Data_label.xlsx                 48.5   \n",
       "1746                   VnEmoLex.xlsx                 47.5   \n",
       "710           925_listener_data.xlsx                 44.0   \n",
       "\n",
       "      NoComp_GraphBuildTime  \n",
       "994                  7715.5  \n",
       "308                  1403.0  \n",
       "638                  5720.0  \n",
       "2031                 3111.0  \n",
       "1367                 8590.5  \n",
       "...                     ...  \n",
       "1509                   87.5  \n",
       "242                   103.5  \n",
       "1774                   64.0  \n",
       "1746                  112.5  \n",
       "710                    53.0  \n",
       "\n",
       "[2205 rows x 3 columns]"
      ]
     },
     "execution_count": 79,
     "metadata": {},
     "output_type": "execute_result"
    }
   ],
   "source": [
    "github_graph_result.sort_values(by=\"TACO_GraphBuildTime\", ascending=False)"
   ]
  },
  {
   "cell_type": "code",
   "execution_count": 26,
   "id": "90058ff3",
   "metadata": {},
   "outputs": [
    {
     "data": {
      "text/plain": [
       "(1480.2192743764172, 745.8630385487528)"
      ]
     },
     "execution_count": 26,
     "metadata": {},
     "output_type": "execute_result"
    }
   ],
   "source": [
    "github_graph_result['TACO_GraphBuildTime'].mean(), github_graph_result['NoComp_GraphBuildTime'].mean()"
   ]
  },
  {
   "cell_type": "code",
   "execution_count": 27,
   "id": "8fd53507",
   "metadata": {},
   "outputs": [],
   "source": [
    "freq_github_taco = get_pdf_df(github_graph_result, 'TACO_GraphBuildTime')\n",
    "freq_github_nocomp = get_pdf_df(github_graph_result, 'NoComp_GraphBuildTime')"
   ]
  },
  {
   "cell_type": "code",
   "execution_count": 28,
   "id": "d00710c2",
   "metadata": {},
   "outputs": [
    {
     "data": {
      "image/png": "[encoded data removed]",
      "text/plain": [
       "<Figure size 720x432 with 1 Axes>"
      ]
     },
     "metadata": {},
     "output_type": "display_data"
    }
   ],
   "source": [
    "plot_pdf(freq_github_taco, freq_github_nocomp,\n",
    "         \"Cumulative Distribution of Graph Build Time on Github Dataset\",\n",
    "         \"Log Time\",\n",
    "         \"Percentage\"\n",
    "        )"
   ]
  },
  {
   "cell_type": "markdown",
   "id": "065ddaa9",
   "metadata": {},
   "source": [
    "# 3. Returning Control to Users"
   ]
  },
  {
   "cell_type": "code",
   "execution_count": 29,
   "id": "d67b46b1",
   "metadata": {},
   "outputs": [],
   "source": [
    "def rename_columns(df, is_long=False):\n",
    "    rename_map = {\n",
    "        \"TACOLookupSize\": \"taco_size\",\n",
    "        \"TACOLookupTime\": \"taco_time\",\n",
    "        \"TACOPostProcessedLookupSize\": \"taco_post_size\",\n",
    "        \"TACOPostProcessedLookupTime\": \"taco_post_time\",\n",
    "        \"NoCompLookupSize\": \"nocomp_size\",\n",
    "        \"NoCompLookupTime\": \"nocomp_time\",\n",
    "        \"NoCompPostProcessedLookupSize\": \"nocomp_post_size\",\n",
    "        \"NoCompPostProcessedLookupTime\": \"nocomp_post_time\",\n",
    "    }\n",
    "    \n",
    "    if is_long:\n",
    "        for key in rename_map:\n",
    "            rename_map[key] = \"long_\" + rename_map[key]\n",
    "    else:\n",
    "        for key in rename_map:\n",
    "            rename_map[key] = \"max_\" + rename_map[key]\n",
    "            \n",
    "    df = df.rename(columns=rename_map)\n",
    "    if \"GraphBuildTime\" in list(df.columns):\n",
    "        df = df.drop(['GraphBuildTime'], axis=1)\n",
    "    \n",
    "    remain_cols = [x for x in list(df.columns) if \"post\" not in x]\n",
    "    return df[remain_cols]"
   ]
  },
  {
   "cell_type": "code",
   "execution_count": 30,
   "id": "d568d511",
   "metadata": {},
   "outputs": [],
   "source": [
    "def read_and_average_files(dir_path, fileName, is_long=False):\n",
    "    df = rename_columns(pd.read_csv(dir_path + \"/\" + fileName + \".csv\"), is_long)\n",
    "    df2 = rename_columns(pd.read_csv(dir_path + \"/\" + fileName + \"_2.csv\"), is_long)\n",
    "    df3 = rename_columns(pd.read_csv(dir_path + \"/\" + fileName + \"_3.csv\"), is_long)\n",
    "    column_list = list(df.columns)\n",
    "    df_merged = pd.merge(df, df2, how=\"inner\", on=[column_list[0], column_list[1]])\n",
    "    df_merged = pd.merge(df_merged, df3, how=\"inner\", on=[column_list[0], column_list[1]])\n",
    "    list1, list2 = [], []\n",
    "    for i in range(len(df_merged)):\n",
    "        ls = [df_merged.loc[i, col_name] for col_name in list(df_merged.columns) if column_list[2] in col_name]\n",
    "        ls2 = [df_merged.loc[i, col_name] for col_name in list(df_merged.columns) if column_list[3] in col_name]\n",
    "        list1.append(np.mean(ls))\n",
    "        list2.append(np.mean(ls2))\n",
    "    df_merged[column_list[2]] = list1\n",
    "    df_merged[column_list[3]] = list2\n",
    "    return df_merged[column_list]"
   ]
  },
  {
   "cell_type": "code",
   "execution_count": 31,
   "id": "8a1d9853",
   "metadata": {},
   "outputs": [],
   "source": [
    "df_enron_taco_max = read_and_average_files(enron_output, \"enron_max_taco_10k\", False)\n",
    "df_enron_taco_long = read_and_average_files(enron_output, \"enron_long_taco_10k\", True)\n",
    "df_enron_nocomp_max = read_and_average_files(enron_output, \"enron_max_nocomp_10k\", False)\n",
    "df_enron_nocomp_long = read_and_average_files(enron_output, \"enron_long_nocomp_10k\", True)\n",
    "df_github_taco_max = read_and_average_files(github_output, \"github_max_taco_10k\", False)\n",
    "df_github_taco_long = read_and_average_files(github_output, \"github_long_taco_10k\", True)\n",
    "df_github_nocomp_max = read_and_average_files(github_output, \"github_max_nocomp_10k\", False)\n",
    "df_github_nocomp_long = read_and_average_files(github_output, \"github_long_nocomp_10k\", True)"
   ]
  },
  {
   "cell_type": "code",
   "execution_count": 32,
   "id": "7751898a",
   "metadata": {},
   "outputs": [
    {
     "data": {
      "text/html": [
       "<div>\n",
       "<style scoped>\n",
       "    .dataframe tbody tr th:only-of-type {\n",
       "        vertical-align: middle;\n",
       "    }\n",
       "\n",
       "    .dataframe tbody tr th {\n",
       "        vertical-align: top;\n",
       "    }\n",
       "\n",
       "    .dataframe thead th {\n",
       "        text-align: right;\n",
       "    }\n",
       "</style>\n",
       "<table border=\"1\" class=\"dataframe\">\n",
       "  <thead>\n",
       "    <tr style=\"text-align: right;\">\n",
       "      <th></th>\n",
       "      <th>fileName</th>\n",
       "      <th>Longest Dep Ref</th>\n",
       "      <th>long_nocomp_size</th>\n",
       "      <th>long_nocomp_time</th>\n",
       "    </tr>\n",
       "  </thead>\n",
       "  <tbody>\n",
       "    <tr>\n",
       "      <th>0</th>\n",
       "      <td>1. Excel Homework.xlsx</td>\n",
       "      <td>Sheet1:J3248</td>\n",
       "      <td>1.0</td>\n",
       "      <td>32.0</td>\n",
       "    </tr>\n",
       "    <tr>\n",
       "      <th>1</th>\n",
       "      <td>2019-05-23-0936_empty_racir.xlsx</td>\n",
       "      <td>Measurements:C11</td>\n",
       "      <td>5610.0</td>\n",
       "      <td>318.0</td>\n",
       "    </tr>\n",
       "    <tr>\n",
       "      <th>2</th>\n",
       "      <td>NIRISS_SIAF.xlsx</td>\n",
       "      <td>DDC:C20</td>\n",
       "      <td>22.0</td>\n",
       "      <td>0.0</td>\n",
       "    </tr>\n",
       "    <tr>\n",
       "      <th>3</th>\n",
       "      <td>工作簿1-20181122170204822.xlsx</td>\n",
       "      <td>不良明细:CEA5</td>\n",
       "      <td>2.0</td>\n",
       "      <td>0.0</td>\n",
       "    </tr>\n",
       "    <tr>\n",
       "      <th>4</th>\n",
       "      <td>W22704-181.xlsx</td>\n",
       "      <td>Sheet1:D2</td>\n",
       "      <td>14196.0</td>\n",
       "      <td>151.0</td>\n",
       "    </tr>\n",
       "  </tbody>\n",
       "</table>\n",
       "</div>"
      ],
      "text/plain": [
       "                           fileName   Longest Dep Ref  long_nocomp_size  \\\n",
       "0            1. Excel Homework.xlsx      Sheet1:J3248               1.0   \n",
       "1  2019-05-23-0936_empty_racir.xlsx  Measurements:C11            5610.0   \n",
       "2                  NIRISS_SIAF.xlsx           DDC:C20              22.0   \n",
       "3       工作簿1-20181122170204822.xlsx         不良明细:CEA5               2.0   \n",
       "4                   W22704-181.xlsx         Sheet1:D2           14196.0   \n",
       "\n",
       "   long_nocomp_time  \n",
       "0              32.0  \n",
       "1             318.0  \n",
       "2               0.0  \n",
       "3               0.0  \n",
       "4             151.0  "
      ]
     },
     "execution_count": 32,
     "metadata": {},
     "output_type": "execute_result"
    }
   ],
   "source": [
    "df_github_nocomp_long.head()"
   ]
  },
  {
   "cell_type": "code",
   "execution_count": 33,
   "id": "3953a56f",
   "metadata": {},
   "outputs": [],
   "source": [
    "df_enron_max = pd.merge(df_enron_taco_max, df_enron_nocomp_max, how=\"inner\", on=[\"fileName\", \"Max Dep Ref\"])\n",
    "df_enron_long = pd.merge(df_enron_taco_long, df_enron_nocomp_long, how=\"inner\", on=[\"fileName\", \"Longest Dep Ref\"])"
   ]
  },
  {
   "cell_type": "code",
   "execution_count": 34,
   "id": "03e19233",
   "metadata": {},
   "outputs": [],
   "source": [
    "df_enron_merged = pd.merge(df_enron_max, df_enron_long, how=\"inner\", on=[\"fileName\"])\n",
    "# df_enron_merged.to_csv(\"./enron_result_merged.csv\", index=False)"
   ]
  },
  {
   "cell_type": "code",
   "execution_count": 35,
   "id": "10b8d80c",
   "metadata": {},
   "outputs": [
    {
     "data": {
      "text/html": [
       "<div>\n",
       "<style scoped>\n",
       "    .dataframe tbody tr th:only-of-type {\n",
       "        vertical-align: middle;\n",
       "    }\n",
       "\n",
       "    .dataframe tbody tr th {\n",
       "        vertical-align: top;\n",
       "    }\n",
       "\n",
       "    .dataframe thead th {\n",
       "        text-align: right;\n",
       "    }\n",
       "</style>\n",
       "<table border=\"1\" class=\"dataframe\">\n",
       "  <thead>\n",
       "    <tr style=\"text-align: right;\">\n",
       "      <th></th>\n",
       "      <th>fileName</th>\n",
       "      <th>Max Dep Ref</th>\n",
       "      <th>max_taco_size</th>\n",
       "      <th>max_taco_time</th>\n",
       "      <th>max_nocomp_size</th>\n",
       "      <th>max_nocomp_time</th>\n",
       "      <th>Longest Dep Ref</th>\n",
       "      <th>long_taco_size</th>\n",
       "      <th>long_taco_time</th>\n",
       "      <th>long_nocomp_size</th>\n",
       "      <th>long_nocomp_time</th>\n",
       "    </tr>\n",
       "  </thead>\n",
       "  <tbody>\n",
       "    <tr>\n",
       "      <th>0</th>\n",
       "      <td>stacey_white_000_1_1.pst.254.xls</td>\n",
       "      <td>AlphaSort:F6836</td>\n",
       "      <td>3.0</td>\n",
       "      <td>9.333333</td>\n",
       "      <td>3.0</td>\n",
       "      <td>29.0</td>\n",
       "      <td>AlphaSort:F4400</td>\n",
       "      <td>3.0</td>\n",
       "      <td>16.000000</td>\n",
       "      <td>3.0</td>\n",
       "      <td>30.000000</td>\n",
       "    </tr>\n",
       "    <tr>\n",
       "      <th>1</th>\n",
       "      <td>darron_c_giron_002_1_1_1.pst.177.xls</td>\n",
       "      <td>Darron:E5</td>\n",
       "      <td>205.0</td>\n",
       "      <td>8.333333</td>\n",
       "      <td>2978.0</td>\n",
       "      <td>78.0</td>\n",
       "      <td>Darron:J4</td>\n",
       "      <td>205.0</td>\n",
       "      <td>6.000000</td>\n",
       "      <td>2978.0</td>\n",
       "      <td>90.000000</td>\n",
       "    </tr>\n",
       "    <tr>\n",
       "      <th>2</th>\n",
       "      <td>stacey_white_000_1_1.pst.262.xls</td>\n",
       "      <td>BRA Power:A6</td>\n",
       "      <td>28.0</td>\n",
       "      <td>0.666667</td>\n",
       "      <td>4385.0</td>\n",
       "      <td>463.0</td>\n",
       "      <td>BRA Power:A6</td>\n",
       "      <td>28.0</td>\n",
       "      <td>0.666667</td>\n",
       "      <td>4385.0</td>\n",
       "      <td>495.333333</td>\n",
       "    </tr>\n",
       "    <tr>\n",
       "      <th>3</th>\n",
       "      <td>mike_grigsby_000_1_1_1.pst.248.xls</td>\n",
       "      <td>Months:F4</td>\n",
       "      <td>4.0</td>\n",
       "      <td>0.000000</td>\n",
       "      <td>306.0</td>\n",
       "      <td>3.0</td>\n",
       "      <td>Months:F4</td>\n",
       "      <td>4.0</td>\n",
       "      <td>0.333333</td>\n",
       "      <td>306.0</td>\n",
       "      <td>2.000000</td>\n",
       "    </tr>\n",
       "    <tr>\n",
       "      <th>4</th>\n",
       "      <td>kevin_ruscitti_000_1_1.pst.156.xls</td>\n",
       "      <td>03-21-00AM:BT499</td>\n",
       "      <td>0.0</td>\n",
       "      <td>0.000000</td>\n",
       "      <td>0.0</td>\n",
       "      <td>0.0</td>\n",
       "      <td>03-21-00AM:X531</td>\n",
       "      <td>1.0</td>\n",
       "      <td>0.000000</td>\n",
       "      <td>1.0</td>\n",
       "      <td>0.000000</td>\n",
       "    </tr>\n",
       "  </tbody>\n",
       "</table>\n",
       "</div>"
      ],
      "text/plain": [
       "                               fileName       Max Dep Ref  max_taco_size  \\\n",
       "0      stacey_white_000_1_1.pst.254.xls   AlphaSort:F6836            3.0   \n",
       "1  darron_c_giron_002_1_1_1.pst.177.xls         Darron:E5          205.0   \n",
       "2      stacey_white_000_1_1.pst.262.xls      BRA Power:A6           28.0   \n",
       "3    mike_grigsby_000_1_1_1.pst.248.xls         Months:F4            4.0   \n",
       "4    kevin_ruscitti_000_1_1.pst.156.xls  03-21-00AM:BT499            0.0   \n",
       "\n",
       "   max_taco_time  max_nocomp_size  max_nocomp_time  Longest Dep Ref  \\\n",
       "0       9.333333              3.0             29.0  AlphaSort:F4400   \n",
       "1       8.333333           2978.0             78.0        Darron:J4   \n",
       "2       0.666667           4385.0            463.0     BRA Power:A6   \n",
       "3       0.000000            306.0              3.0        Months:F4   \n",
       "4       0.000000              0.0              0.0  03-21-00AM:X531   \n",
       "\n",
       "   long_taco_size  long_taco_time  long_nocomp_size  long_nocomp_time  \n",
       "0             3.0       16.000000               3.0         30.000000  \n",
       "1           205.0        6.000000            2978.0         90.000000  \n",
       "2            28.0        0.666667            4385.0        495.333333  \n",
       "3             4.0        0.333333             306.0          2.000000  \n",
       "4             1.0        0.000000               1.0          0.000000  "
      ]
     },
     "execution_count": 35,
     "metadata": {},
     "output_type": "execute_result"
    }
   ],
   "source": [
    "df_enron_merged.head()"
   ]
  },
  {
   "cell_type": "code",
   "execution_count": 36,
   "id": "3c17d6c6",
   "metadata": {},
   "outputs": [],
   "source": [
    "df_github_max = pd.merge(df_github_taco_max, df_github_nocomp_max, how=\"inner\", on=[\"fileName\", \"Max Dep Ref\"])\n",
    "df_github_long = pd.merge(df_github_taco_long, df_github_nocomp_long, how=\"inner\", on=[\"fileName\", \"Longest Dep Ref\"])"
   ]
  },
  {
   "cell_type": "code",
   "execution_count": 37,
   "id": "1f4ac7f0",
   "metadata": {},
   "outputs": [],
   "source": [
    "df_github_merged = pd.merge(df_github_max, df_github_long, how=\"inner\", on=[\"fileName\"])\n",
    "# df_github_merged.to_csv(\"./github_result_merged.csv\", index=False)"
   ]
  },
  {
   "cell_type": "code",
   "execution_count": 38,
   "id": "d8cf53bd",
   "metadata": {},
   "outputs": [
    {
     "data": {
      "text/html": [
       "<div>\n",
       "<style scoped>\n",
       "    .dataframe tbody tr th:only-of-type {\n",
       "        vertical-align: middle;\n",
       "    }\n",
       "\n",
       "    .dataframe tbody tr th {\n",
       "        vertical-align: top;\n",
       "    }\n",
       "\n",
       "    .dataframe thead th {\n",
       "        text-align: right;\n",
       "    }\n",
       "</style>\n",
       "<table border=\"1\" class=\"dataframe\">\n",
       "  <thead>\n",
       "    <tr style=\"text-align: right;\">\n",
       "      <th></th>\n",
       "      <th>fileName</th>\n",
       "      <th>Max Dep Ref</th>\n",
       "      <th>max_taco_size</th>\n",
       "      <th>max_taco_time</th>\n",
       "      <th>max_nocomp_size</th>\n",
       "      <th>max_nocomp_time</th>\n",
       "      <th>Longest Dep Ref</th>\n",
       "      <th>long_taco_size</th>\n",
       "      <th>long_taco_time</th>\n",
       "      <th>long_nocomp_size</th>\n",
       "      <th>long_nocomp_time</th>\n",
       "    </tr>\n",
       "  </thead>\n",
       "  <tbody>\n",
       "    <tr>\n",
       "      <th>0</th>\n",
       "      <td>1. Excel Homework.xlsx</td>\n",
       "      <td>Sheet1:E4030</td>\n",
       "      <td>2.0</td>\n",
       "      <td>8.666667</td>\n",
       "      <td>2.0</td>\n",
       "      <td>28.333333</td>\n",
       "      <td>Sheet1:J3248</td>\n",
       "      <td>1.0</td>\n",
       "      <td>9.000000</td>\n",
       "      <td>1.0</td>\n",
       "      <td>32.0</td>\n",
       "    </tr>\n",
       "    <tr>\n",
       "      <th>1</th>\n",
       "      <td>2019-05-23-0936_empty_racir.xlsx</td>\n",
       "      <td>Measurements:E13</td>\n",
       "      <td>20.0</td>\n",
       "      <td>1.333333</td>\n",
       "      <td>6600.0</td>\n",
       "      <td>238.000000</td>\n",
       "      <td>Measurements:C11</td>\n",
       "      <td>17.0</td>\n",
       "      <td>1.000000</td>\n",
       "      <td>5610.0</td>\n",
       "      <td>318.0</td>\n",
       "    </tr>\n",
       "    <tr>\n",
       "      <th>2</th>\n",
       "      <td>NIRISS_SIAF.xlsx</td>\n",
       "      <td>Calc:AE3</td>\n",
       "      <td>23.0</td>\n",
       "      <td>0.333333</td>\n",
       "      <td>690.0</td>\n",
       "      <td>17.333333</td>\n",
       "      <td>DDC:C20</td>\n",
       "      <td>6.0</td>\n",
       "      <td>0.333333</td>\n",
       "      <td>22.0</td>\n",
       "      <td>0.0</td>\n",
       "    </tr>\n",
       "    <tr>\n",
       "      <th>3</th>\n",
       "      <td>工作簿1-20181122170204822.xlsx</td>\n",
       "      <td>不良明细:CBJ5</td>\n",
       "      <td>1.0</td>\n",
       "      <td>0.000000</td>\n",
       "      <td>2.0</td>\n",
       "      <td>0.333333</td>\n",
       "      <td>不良明细:CEA5</td>\n",
       "      <td>1.0</td>\n",
       "      <td>0.333333</td>\n",
       "      <td>2.0</td>\n",
       "      <td>0.0</td>\n",
       "    </tr>\n",
       "    <tr>\n",
       "      <th>4</th>\n",
       "      <td>W22704-181.xlsx</td>\n",
       "      <td>Sheet1:E2</td>\n",
       "      <td>4.0</td>\n",
       "      <td>0.000000</td>\n",
       "      <td>14196.0</td>\n",
       "      <td>172.000000</td>\n",
       "      <td>Sheet1:D2</td>\n",
       "      <td>4.0</td>\n",
       "      <td>0.333333</td>\n",
       "      <td>14196.0</td>\n",
       "      <td>151.0</td>\n",
       "    </tr>\n",
       "  </tbody>\n",
       "</table>\n",
       "</div>"
      ],
      "text/plain": [
       "                           fileName       Max Dep Ref  max_taco_size  \\\n",
       "0            1. Excel Homework.xlsx      Sheet1:E4030            2.0   \n",
       "1  2019-05-23-0936_empty_racir.xlsx  Measurements:E13           20.0   \n",
       "2                  NIRISS_SIAF.xlsx          Calc:AE3           23.0   \n",
       "3       工作簿1-20181122170204822.xlsx         不良明细:CBJ5            1.0   \n",
       "4                   W22704-181.xlsx         Sheet1:E2            4.0   \n",
       "\n",
       "   max_taco_time  max_nocomp_size  max_nocomp_time   Longest Dep Ref  \\\n",
       "0       8.666667              2.0        28.333333      Sheet1:J3248   \n",
       "1       1.333333           6600.0       238.000000  Measurements:C11   \n",
       "2       0.333333            690.0        17.333333           DDC:C20   \n",
       "3       0.000000              2.0         0.333333         不良明细:CEA5   \n",
       "4       0.000000          14196.0       172.000000         Sheet1:D2   \n",
       "\n",
       "   long_taco_size  long_taco_time  long_nocomp_size  long_nocomp_time  \n",
       "0             1.0        9.000000               1.0              32.0  \n",
       "1            17.0        1.000000            5610.0             318.0  \n",
       "2             6.0        0.333333              22.0               0.0  \n",
       "3             1.0        0.333333               2.0               0.0  \n",
       "4             4.0        0.333333           14196.0             151.0  "
      ]
     },
     "execution_count": 38,
     "metadata": {},
     "output_type": "execute_result"
    }
   ],
   "source": [
    "df_github_merged.head()"
   ]
  },
  {
   "cell_type": "markdown",
   "id": "f6d92b61",
   "metadata": {},
   "source": [
    "### CDF Plot"
   ]
  },
  {
   "cell_type": "code",
   "execution_count": 39,
   "id": "7f987de7",
   "metadata": {},
   "outputs": [],
   "source": [
    "freq_enron_max_taco_size = get_pdf_df(df_enron_merged, 'max_taco_size', True)\n",
    "freq_enron_max_nocomp_size = get_pdf_df(df_enron_merged, 'max_nocomp_size', True)\n",
    "freq_enron_max_taco_time = get_pdf_df(df_enron_merged, 'max_taco_time', True)\n",
    "freq_enron_max_nocomp_time = get_pdf_df(df_enron_merged, 'max_nocomp_time', True)\n",
    "freq_enron_long_taco_size = get_pdf_df(df_enron_merged, 'long_taco_size', True)\n",
    "freq_enron_long_nocomp_size = get_pdf_df(df_enron_merged, 'long_nocomp_size', True)\n",
    "freq_enron_long_taco_time = get_pdf_df(df_enron_merged, 'long_taco_time', True)\n",
    "freq_enron_long_nocomp_time = get_pdf_df(df_enron_merged, 'long_nocomp_time', True)"
   ]
  },
  {
   "cell_type": "code",
   "execution_count": 40,
   "id": "9680b387",
   "metadata": {},
   "outputs": [
    {
     "data": {
      "image/png": "[encoded data removed]",
      "text/plain": [
       "<Figure size 720x432 with 1 Axes>"
      ]
     },
     "metadata": {},
     "output_type": "display_data"
    }
   ],
   "source": [
    "plot_pdf(freq_enron_max_taco_size, freq_enron_max_nocomp_size, \n",
    "         \"Cumulative Distribution of Max Dep Ref's Dependent Size on Enron Dataset\",\n",
    "         \"Log Size\",\n",
    "         \"Percentage\",\n",
    "        )"
   ]
  },
  {
   "cell_type": "code",
   "execution_count": 41,
   "id": "699a50d5",
   "metadata": {},
   "outputs": [
    {
     "data": {
      "image/png": "[encoded data removed]",
      "text/plain": [
       "<Figure size 720x432 with 1 Axes>"
      ]
     },
     "metadata": {},
     "output_type": "display_data"
    }
   ],
   "source": [
    "plot_pdf(freq_enron_max_taco_time, freq_enron_max_nocomp_time, \n",
    "         \"Cumulative Distribution of Max Dep Ref's Lookup Time on Enron Dataset\",\n",
    "         \"Log Time\",\n",
    "         \"Percentage\",\n",
    "        )"
   ]
  },
  {
   "cell_type": "code",
   "execution_count": 42,
   "id": "a5f45987",
   "metadata": {},
   "outputs": [
    {
     "data": {
      "image/png": "[encoded data removed]",
      "text/plain": [
       "<Figure size 720x432 with 1 Axes>"
      ]
     },
     "metadata": {},
     "output_type": "display_data"
    }
   ],
   "source": [
    "plot_pdf(freq_enron_long_taco_size, freq_enron_long_nocomp_size, \n",
    "         \"Cumulative Distribution of Longest Dep Ref's Dependent Size on Enron Dataset\",\n",
    "         \"Log Size\",\n",
    "         \"Percentage\",\n",
    "        )"
   ]
  },
  {
   "cell_type": "code",
   "execution_count": 43,
   "id": "1cab2bca",
   "metadata": {},
   "outputs": [
    {
     "data": {
      "image/png": "[encoded data removed]",
      "text/plain": [
       "<Figure size 720x432 with 1 Axes>"
      ]
     },
     "metadata": {},
     "output_type": "display_data"
    }
   ],
   "source": [
    "plot_pdf(freq_enron_long_taco_time, freq_enron_long_nocomp_time, \n",
    "         \"Cumulative Distribution of Longest Dep Ref's Lookup Time on Enron Dataset\",\n",
    "         \"Log Time\",\n",
    "         \"Percentage\",\n",
    "        )"
   ]
  },
  {
   "cell_type": "code",
   "execution_count": 44,
   "id": "1b51d0aa",
   "metadata": {},
   "outputs": [],
   "source": [
    "freq_github_max_taco_size = get_pdf_df(df_github_merged, 'max_taco_size', True)\n",
    "freq_github_max_nocomp_size = get_pdf_df(df_github_merged, 'max_nocomp_size', True)\n",
    "freq_github_max_taco_time = get_pdf_df(df_github_merged, 'max_taco_time', True)\n",
    "freq_github_max_nocomp_time = get_pdf_df(df_github_merged, 'max_nocomp_time', True)\n",
    "freq_github_long_taco_size = get_pdf_df(df_github_merged, 'long_taco_size', True)\n",
    "freq_github_long_nocomp_size = get_pdf_df(df_github_merged, 'long_nocomp_size', True)\n",
    "freq_github_long_taco_time = get_pdf_df(df_github_merged, 'long_taco_time', True)\n",
    "freq_github_long_nocomp_time = get_pdf_df(df_github_merged, 'long_nocomp_time', True)"
   ]
  },
  {
   "cell_type": "code",
   "execution_count": 45,
   "id": "e7ab27a0",
   "metadata": {},
   "outputs": [
    {
     "data": {
      "image/png": "[encoded data removed]",
      "text/plain": [
       "<Figure size 720x432 with 1 Axes>"
      ]
     },
     "metadata": {},
     "output_type": "display_data"
    }
   ],
   "source": [
    "plot_pdf(freq_github_max_taco_size, freq_github_max_nocomp_size, \n",
    "         \"Cumulative Distribution of Max Dep Ref's Dependent Size on Github Dataset\",\n",
    "         \"Log Size\",\n",
    "         \"Percentage\",\n",
    "        )"
   ]
  },
  {
   "cell_type": "code",
   "execution_count": 46,
   "id": "03ce08c9",
   "metadata": {},
   "outputs": [
    {
     "data": {
      "image/png": "[encoded data removed]",
      "text/plain": [
       "<Figure size 720x432 with 1 Axes>"
      ]
     },
     "metadata": {},
     "output_type": "display_data"
    }
   ],
   "source": [
    "plot_pdf(freq_github_max_taco_time, freq_github_max_nocomp_time, \n",
    "         \"Cumulative Distribution of Max Dep Ref's Lookup Time on Github Dataset\",\n",
    "         \"Log Time\",\n",
    "         \"Percentage\",\n",
    "        )"
   ]
  },
  {
   "cell_type": "code",
   "execution_count": 47,
   "id": "d04ee51c",
   "metadata": {},
   "outputs": [
    {
     "data": {
      "image/png": "[encoded data removed]",
      "text/plain": [
       "<Figure size 720x432 with 1 Axes>"
      ]
     },
     "metadata": {},
     "output_type": "display_data"
    }
   ],
   "source": [
    "plot_pdf(freq_github_long_taco_size, freq_github_long_nocomp_size, \n",
    "         \"Cumulative Distribution of Longest Dep Ref's Dependent Size on Github Dataset\",\n",
    "         \"Log Size\",\n",
    "         \"Percentage\",\n",
    "        )"
   ]
  },
  {
   "cell_type": "code",
   "execution_count": 48,
   "id": "d91bac11",
   "metadata": {},
   "outputs": [
    {
     "data": {
      "image/png": "[encoded data removed]",
      "text/plain": [
       "<Figure size 720x432 with 1 Axes>"
      ]
     },
     "metadata": {},
     "output_type": "display_data"
    }
   ],
   "source": [
    "plot_pdf(freq_github_long_taco_time, freq_github_long_nocomp_time, \n",
    "         \"Cumulative Distribution of Longest Dep Ref's Lookup Time on Github Dataset\",\n",
    "         \"Log Time\",\n",
    "         \"Percentage\",\n",
    "        )"
   ]
  },
  {
   "cell_type": "markdown",
   "id": "f4978ed9",
   "metadata": {},
   "source": [
    "### Analyze Enron results"
   ]
  },
  {
   "cell_type": "code",
   "execution_count": 49,
   "id": "a5e305c2",
   "metadata": {},
   "outputs": [
    {
     "data": {
      "text/html": [
       "<div>\n",
       "<style scoped>\n",
       "    .dataframe tbody tr th:only-of-type {\n",
       "        vertical-align: middle;\n",
       "    }\n",
       "\n",
       "    .dataframe tbody tr th {\n",
       "        vertical-align: top;\n",
       "    }\n",
       "\n",
       "    .dataframe thead th {\n",
       "        text-align: right;\n",
       "    }\n",
       "</style>\n",
       "<table border=\"1\" class=\"dataframe\">\n",
       "  <thead>\n",
       "    <tr style=\"text-align: right;\">\n",
       "      <th></th>\n",
       "      <th>fileName</th>\n",
       "      <th>Max Dep Ref</th>\n",
       "      <th>max_taco_size</th>\n",
       "      <th>max_taco_time</th>\n",
       "      <th>max_nocomp_size</th>\n",
       "      <th>max_nocomp_time</th>\n",
       "      <th>Longest Dep Ref</th>\n",
       "      <th>long_taco_size</th>\n",
       "      <th>long_taco_time</th>\n",
       "      <th>long_nocomp_size</th>\n",
       "      <th>long_nocomp_time</th>\n",
       "    </tr>\n",
       "  </thead>\n",
       "  <tbody>\n",
       "    <tr>\n",
       "      <th>0</th>\n",
       "      <td>stacey_white_000_1_1.pst.254.xls</td>\n",
       "      <td>AlphaSort:F6836</td>\n",
       "      <td>3.0</td>\n",
       "      <td>9.333333</td>\n",
       "      <td>3.0</td>\n",
       "      <td>29.0</td>\n",
       "      <td>AlphaSort:F4400</td>\n",
       "      <td>3.0</td>\n",
       "      <td>16.000000</td>\n",
       "      <td>3.0</td>\n",
       "      <td>30.000000</td>\n",
       "    </tr>\n",
       "    <tr>\n",
       "      <th>1</th>\n",
       "      <td>darron_c_giron_002_1_1_1.pst.177.xls</td>\n",
       "      <td>Darron:E5</td>\n",
       "      <td>205.0</td>\n",
       "      <td>8.333333</td>\n",
       "      <td>2978.0</td>\n",
       "      <td>78.0</td>\n",
       "      <td>Darron:J4</td>\n",
       "      <td>205.0</td>\n",
       "      <td>6.000000</td>\n",
       "      <td>2978.0</td>\n",
       "      <td>90.000000</td>\n",
       "    </tr>\n",
       "    <tr>\n",
       "      <th>2</th>\n",
       "      <td>stacey_white_000_1_1.pst.262.xls</td>\n",
       "      <td>BRA Power:A6</td>\n",
       "      <td>28.0</td>\n",
       "      <td>0.666667</td>\n",
       "      <td>4385.0</td>\n",
       "      <td>463.0</td>\n",
       "      <td>BRA Power:A6</td>\n",
       "      <td>28.0</td>\n",
       "      <td>0.666667</td>\n",
       "      <td>4385.0</td>\n",
       "      <td>495.333333</td>\n",
       "    </tr>\n",
       "    <tr>\n",
       "      <th>3</th>\n",
       "      <td>mike_grigsby_000_1_1_1.pst.248.xls</td>\n",
       "      <td>Months:F4</td>\n",
       "      <td>4.0</td>\n",
       "      <td>0.000000</td>\n",
       "      <td>306.0</td>\n",
       "      <td>3.0</td>\n",
       "      <td>Months:F4</td>\n",
       "      <td>4.0</td>\n",
       "      <td>0.333333</td>\n",
       "      <td>306.0</td>\n",
       "      <td>2.000000</td>\n",
       "    </tr>\n",
       "    <tr>\n",
       "      <th>4</th>\n",
       "      <td>kevin_ruscitti_000_1_1.pst.156.xls</td>\n",
       "      <td>03-21-00AM:BT499</td>\n",
       "      <td>0.0</td>\n",
       "      <td>0.000000</td>\n",
       "      <td>0.0</td>\n",
       "      <td>0.0</td>\n",
       "      <td>03-21-00AM:X531</td>\n",
       "      <td>1.0</td>\n",
       "      <td>0.000000</td>\n",
       "      <td>1.0</td>\n",
       "      <td>0.000000</td>\n",
       "    </tr>\n",
       "    <tr>\n",
       "      <th>...</th>\n",
       "      <td>...</td>\n",
       "      <td>...</td>\n",
       "      <td>...</td>\n",
       "      <td>...</td>\n",
       "      <td>...</td>\n",
       "      <td>...</td>\n",
       "      <td>...</td>\n",
       "      <td>...</td>\n",
       "      <td>...</td>\n",
       "      <td>...</td>\n",
       "      <td>...</td>\n",
       "    </tr>\n",
       "    <tr>\n",
       "      <th>587</th>\n",
       "      <td>don_baughman_000_1_1.pst.127.xls</td>\n",
       "      <td>Sheet1:C47</td>\n",
       "      <td>37.0</td>\n",
       "      <td>0.333333</td>\n",
       "      <td>37.0</td>\n",
       "      <td>0.0</td>\n",
       "      <td>Sheet1:C38</td>\n",
       "      <td>37.0</td>\n",
       "      <td>0.333333</td>\n",
       "      <td>37.0</td>\n",
       "      <td>0.000000</td>\n",
       "    </tr>\n",
       "    <tr>\n",
       "      <th>588</th>\n",
       "      <td>kevin_ruscitti_000_1_1.pst.4.xls</td>\n",
       "      <td>Swap:A8</td>\n",
       "      <td>29.0</td>\n",
       "      <td>0.333333</td>\n",
       "      <td>1159.0</td>\n",
       "      <td>13.0</td>\n",
       "      <td>Swap:A8</td>\n",
       "      <td>29.0</td>\n",
       "      <td>0.000000</td>\n",
       "      <td>1159.0</td>\n",
       "      <td>17.000000</td>\n",
       "    </tr>\n",
       "    <tr>\n",
       "      <th>589</th>\n",
       "      <td>jane_tholt_000_1_1.pst.198.xls</td>\n",
       "      <td>Summary:B185</td>\n",
       "      <td>57.0</td>\n",
       "      <td>0.333333</td>\n",
       "      <td>1485.0</td>\n",
       "      <td>121.0</td>\n",
       "      <td>Study 4a:A9</td>\n",
       "      <td>12.0</td>\n",
       "      <td>0.333333</td>\n",
       "      <td>82.0</td>\n",
       "      <td>0.666667</td>\n",
       "    </tr>\n",
       "    <tr>\n",
       "      <th>590</th>\n",
       "      <td>andy_zipper_000_1_1.pst.67.xls</td>\n",
       "      <td>DD-ENA:F500</td>\n",
       "      <td>4.0</td>\n",
       "      <td>0.000000</td>\n",
       "      <td>8.0</td>\n",
       "      <td>0.0</td>\n",
       "      <td>DD-EGL:P29</td>\n",
       "      <td>3.0</td>\n",
       "      <td>0.000000</td>\n",
       "      <td>3.0</td>\n",
       "      <td>0.000000</td>\n",
       "    </tr>\n",
       "    <tr>\n",
       "      <th>591</th>\n",
       "      <td>joe_parks_000_1_1.pst.211.xls</td>\n",
       "      <td>Jan 01 trial:AW14</td>\n",
       "      <td>13.0</td>\n",
       "      <td>0.333333</td>\n",
       "      <td>13.0</td>\n",
       "      <td>0.0</td>\n",
       "      <td>Jan 01 trial:AB14</td>\n",
       "      <td>0.0</td>\n",
       "      <td>0.000000</td>\n",
       "      <td>0.0</td>\n",
       "      <td>0.000000</td>\n",
       "    </tr>\n",
       "  </tbody>\n",
       "</table>\n",
       "<p>592 rows × 11 columns</p>\n",
       "</div>"
      ],
      "text/plain": [
       "                                 fileName        Max Dep Ref  max_taco_size  \\\n",
       "0        stacey_white_000_1_1.pst.254.xls    AlphaSort:F6836            3.0   \n",
       "1    darron_c_giron_002_1_1_1.pst.177.xls          Darron:E5          205.0   \n",
       "2        stacey_white_000_1_1.pst.262.xls       BRA Power:A6           28.0   \n",
       "3      mike_grigsby_000_1_1_1.pst.248.xls          Months:F4            4.0   \n",
       "4      kevin_ruscitti_000_1_1.pst.156.xls   03-21-00AM:BT499            0.0   \n",
       "..                                    ...                ...            ...   \n",
       "587      don_baughman_000_1_1.pst.127.xls         Sheet1:C47           37.0   \n",
       "588      kevin_ruscitti_000_1_1.pst.4.xls            Swap:A8           29.0   \n",
       "589        jane_tholt_000_1_1.pst.198.xls       Summary:B185           57.0   \n",
       "590        andy_zipper_000_1_1.pst.67.xls        DD-ENA:F500            4.0   \n",
       "591         joe_parks_000_1_1.pst.211.xls  Jan 01 trial:AW14           13.0   \n",
       "\n",
       "     max_taco_time  max_nocomp_size  max_nocomp_time    Longest Dep Ref  \\\n",
       "0         9.333333              3.0             29.0    AlphaSort:F4400   \n",
       "1         8.333333           2978.0             78.0          Darron:J4   \n",
       "2         0.666667           4385.0            463.0       BRA Power:A6   \n",
       "3         0.000000            306.0              3.0          Months:F4   \n",
       "4         0.000000              0.0              0.0    03-21-00AM:X531   \n",
       "..             ...              ...              ...                ...   \n",
       "587       0.333333             37.0              0.0         Sheet1:C38   \n",
       "588       0.333333           1159.0             13.0            Swap:A8   \n",
       "589       0.333333           1485.0            121.0        Study 4a:A9   \n",
       "590       0.000000              8.0              0.0         DD-EGL:P29   \n",
       "591       0.333333             13.0              0.0  Jan 01 trial:AB14   \n",
       "\n",
       "     long_taco_size  long_taco_time  long_nocomp_size  long_nocomp_time  \n",
       "0               3.0       16.000000               3.0         30.000000  \n",
       "1             205.0        6.000000            2978.0         90.000000  \n",
       "2              28.0        0.666667            4385.0        495.333333  \n",
       "3               4.0        0.333333             306.0          2.000000  \n",
       "4               1.0        0.000000               1.0          0.000000  \n",
       "..              ...             ...               ...               ...  \n",
       "587            37.0        0.333333              37.0          0.000000  \n",
       "588            29.0        0.000000            1159.0         17.000000  \n",
       "589            12.0        0.333333              82.0          0.666667  \n",
       "590             3.0        0.000000               3.0          0.000000  \n",
       "591             0.0        0.000000               0.0          0.000000  \n",
       "\n",
       "[592 rows x 11 columns]"
      ]
     },
     "execution_count": 49,
     "metadata": {},
     "output_type": "execute_result"
    }
   ],
   "source": [
    "df_enron_merged"
   ]
  },
  {
   "cell_type": "code",
   "execution_count": 50,
   "id": "63d75e08",
   "metadata": {},
   "outputs": [
    {
     "data": {
      "text/html": [
       "<div>\n",
       "<style scoped>\n",
       "    .dataframe tbody tr th:only-of-type {\n",
       "        vertical-align: middle;\n",
       "    }\n",
       "\n",
       "    .dataframe tbody tr th {\n",
       "        vertical-align: top;\n",
       "    }\n",
       "\n",
       "    .dataframe thead th {\n",
       "        text-align: right;\n",
       "    }\n",
       "</style>\n",
       "<table border=\"1\" class=\"dataframe\">\n",
       "  <thead>\n",
       "    <tr style=\"text-align: right;\">\n",
       "      <th></th>\n",
       "      <th>fileName</th>\n",
       "      <th>max_taco_time</th>\n",
       "      <th>max_nocomp_time</th>\n",
       "    </tr>\n",
       "  </thead>\n",
       "  <tbody>\n",
       "    <tr>\n",
       "      <th>19</th>\n",
       "      <td>kevin_ruscitti_000_1_1.pst.125.xls</td>\n",
       "      <td>53.0</td>\n",
       "      <td>52.0</td>\n",
       "    </tr>\n",
       "  </tbody>\n",
       "</table>\n",
       "</div>"
      ],
      "text/plain": [
       "                              fileName  max_taco_time  max_nocomp_time\n",
       "19  kevin_ruscitti_000_1_1.pst.125.xls           53.0             52.0"
      ]
     },
     "execution_count": 50,
     "metadata": {},
     "output_type": "execute_result"
    }
   ],
   "source": [
    "df_larger_than = df_enron_merged[(df_enron_merged[\"max_taco_time\"] > df_enron_merged[\"max_nocomp_time\"]) & (df_enron_merged[\"max_nocomp_time\"] > 10)]\n",
    "df_larger_than[[\"fileName\", \"max_taco_time\", \"max_nocomp_time\"]]"
   ]
  },
  {
   "cell_type": "code",
   "execution_count": 51,
   "id": "4428efc1",
   "metadata": {},
   "outputs": [
    {
     "data": {
      "text/html": [
       "<div>\n",
       "<style scoped>\n",
       "    .dataframe tbody tr th:only-of-type {\n",
       "        vertical-align: middle;\n",
       "    }\n",
       "\n",
       "    .dataframe tbody tr th {\n",
       "        vertical-align: top;\n",
       "    }\n",
       "\n",
       "    .dataframe thead th {\n",
       "        text-align: right;\n",
       "    }\n",
       "</style>\n",
       "<table border=\"1\" class=\"dataframe\">\n",
       "  <thead>\n",
       "    <tr style=\"text-align: right;\">\n",
       "      <th></th>\n",
       "      <th>fileName</th>\n",
       "      <th>max_nocomp_time</th>\n",
       "    </tr>\n",
       "  </thead>\n",
       "  <tbody>\n",
       "    <tr>\n",
       "      <th>87</th>\n",
       "      <td>dutch_quigley_000_1_1.pst.51.xls</td>\n",
       "      <td>10006.0</td>\n",
       "    </tr>\n",
       "    <tr>\n",
       "      <th>127</th>\n",
       "      <td>mike_grigsby_000_1_1_1.pst.106.xls</td>\n",
       "      <td>1116.0</td>\n",
       "    </tr>\n",
       "    <tr>\n",
       "      <th>144</th>\n",
       "      <td>matthew_lenhart_000_1_1.pst.23.xls</td>\n",
       "      <td>1639.0</td>\n",
       "    </tr>\n",
       "    <tr>\n",
       "      <th>173</th>\n",
       "      <td>stacey_white_000_1_1.pst.287.xls</td>\n",
       "      <td>513.0</td>\n",
       "    </tr>\n",
       "    <tr>\n",
       "      <th>197</th>\n",
       "      <td>matthew_lenhart_000_1_1.pst.20.xls</td>\n",
       "      <td>1498.0</td>\n",
       "    </tr>\n",
       "    <tr>\n",
       "      <th>220</th>\n",
       "      <td>mark_haedicke_000_1_2.pst.31.xls</td>\n",
       "      <td>966.0</td>\n",
       "    </tr>\n",
       "    <tr>\n",
       "      <th>267</th>\n",
       "      <td>harry_arora_000_1_1.pst.130.xls</td>\n",
       "      <td>10214.0</td>\n",
       "    </tr>\n",
       "    <tr>\n",
       "      <th>269</th>\n",
       "      <td>matthew_lenhart_000_1_1.pst.1.xls</td>\n",
       "      <td>538.0</td>\n",
       "    </tr>\n",
       "    <tr>\n",
       "      <th>280</th>\n",
       "      <td>vkaminski_001_1_2_1.pst.62.xls</td>\n",
       "      <td>550.0</td>\n",
       "    </tr>\n",
       "    <tr>\n",
       "      <th>301</th>\n",
       "      <td>mike_grigsby_000_1_1_1.pst.108.xls</td>\n",
       "      <td>1378.0</td>\n",
       "    </tr>\n",
       "    <tr>\n",
       "      <th>344</th>\n",
       "      <td>vkaminski_000_1_1_1.pst.26.xls</td>\n",
       "      <td>1361.0</td>\n",
       "    </tr>\n",
       "    <tr>\n",
       "      <th>375</th>\n",
       "      <td>jim_schwieger_000_1_1.pst.100.xls</td>\n",
       "      <td>9640.0</td>\n",
       "    </tr>\n",
       "    <tr>\n",
       "      <th>407</th>\n",
       "      <td>phillip_allen_000_1_1.pst.102.xls</td>\n",
       "      <td>1016.0</td>\n",
       "    </tr>\n",
       "    <tr>\n",
       "      <th>469</th>\n",
       "      <td>rick_buy_000_1_1_1_1.pst.186.xls</td>\n",
       "      <td>828.0</td>\n",
       "    </tr>\n",
       "    <tr>\n",
       "      <th>522</th>\n",
       "      <td>phillip_allen_000_1_1.pst.253.xls</td>\n",
       "      <td>1062.0</td>\n",
       "    </tr>\n",
       "    <tr>\n",
       "      <th>561</th>\n",
       "      <td>matthew_lenhart_000_1_1.pst.19.xls</td>\n",
       "      <td>1067.0</td>\n",
       "    </tr>\n",
       "    <tr>\n",
       "      <th>563</th>\n",
       "      <td>jim_schwieger_000_1_1.pst.71.xls</td>\n",
       "      <td>9953.0</td>\n",
       "    </tr>\n",
       "    <tr>\n",
       "      <th>576</th>\n",
       "      <td>kevin_presto_000_1_1.pst.16.xls</td>\n",
       "      <td>4742.0</td>\n",
       "    </tr>\n",
       "    <tr>\n",
       "      <th>585</th>\n",
       "      <td>jim_schwieger_000_1_1.pst.106.xls</td>\n",
       "      <td>9249.0</td>\n",
       "    </tr>\n",
       "  </tbody>\n",
       "</table>\n",
       "</div>"
      ],
      "text/plain": [
       "                               fileName  max_nocomp_time\n",
       "87     dutch_quigley_000_1_1.pst.51.xls          10006.0\n",
       "127  mike_grigsby_000_1_1_1.pst.106.xls           1116.0\n",
       "144  matthew_lenhart_000_1_1.pst.23.xls           1639.0\n",
       "173    stacey_white_000_1_1.pst.287.xls            513.0\n",
       "197  matthew_lenhart_000_1_1.pst.20.xls           1498.0\n",
       "220    mark_haedicke_000_1_2.pst.31.xls            966.0\n",
       "267     harry_arora_000_1_1.pst.130.xls          10214.0\n",
       "269   matthew_lenhart_000_1_1.pst.1.xls            538.0\n",
       "280      vkaminski_001_1_2_1.pst.62.xls            550.0\n",
       "301  mike_grigsby_000_1_1_1.pst.108.xls           1378.0\n",
       "344      vkaminski_000_1_1_1.pst.26.xls           1361.0\n",
       "375   jim_schwieger_000_1_1.pst.100.xls           9640.0\n",
       "407   phillip_allen_000_1_1.pst.102.xls           1016.0\n",
       "469    rick_buy_000_1_1_1_1.pst.186.xls            828.0\n",
       "522   phillip_allen_000_1_1.pst.253.xls           1062.0\n",
       "561  matthew_lenhart_000_1_1.pst.19.xls           1067.0\n",
       "563    jim_schwieger_000_1_1.pst.71.xls           9953.0\n",
       "576     kevin_presto_000_1_1.pst.16.xls           4742.0\n",
       "585   jim_schwieger_000_1_1.pst.106.xls           9249.0"
      ]
     },
     "execution_count": 51,
     "metadata": {},
     "output_type": "execute_result"
    }
   ],
   "source": [
    "threshold=500\n",
    "df_enron_merged[df_enron_merged[\"max_nocomp_time\"] > threshold][[\"fileName\", \"max_nocomp_time\"]]"
   ]
  },
  {
   "cell_type": "code",
   "execution_count": 52,
   "id": "6fb30e88",
   "metadata": {},
   "outputs": [
    {
     "data": {
      "text/html": [
       "<div>\n",
       "<style scoped>\n",
       "    .dataframe tbody tr th:only-of-type {\n",
       "        vertical-align: middle;\n",
       "    }\n",
       "\n",
       "    .dataframe tbody tr th {\n",
       "        vertical-align: top;\n",
       "    }\n",
       "\n",
       "    .dataframe thead th {\n",
       "        text-align: right;\n",
       "    }\n",
       "</style>\n",
       "<table border=\"1\" class=\"dataframe\">\n",
       "  <thead>\n",
       "    <tr style=\"text-align: right;\">\n",
       "      <th></th>\n",
       "      <th>fileName</th>\n",
       "      <th>long_nocomp_time</th>\n",
       "    </tr>\n",
       "  </thead>\n",
       "  <tbody>\n",
       "    <tr>\n",
       "      <th>87</th>\n",
       "      <td>dutch_quigley_000_1_1.pst.51.xls</td>\n",
       "      <td>9307.666667</td>\n",
       "    </tr>\n",
       "    <tr>\n",
       "      <th>220</th>\n",
       "      <td>mark_haedicke_000_1_2.pst.31.xls</td>\n",
       "      <td>934.333333</td>\n",
       "    </tr>\n",
       "    <tr>\n",
       "      <th>267</th>\n",
       "      <td>harry_arora_000_1_1.pst.130.xls</td>\n",
       "      <td>12022.333333</td>\n",
       "    </tr>\n",
       "    <tr>\n",
       "      <th>280</th>\n",
       "      <td>vkaminski_001_1_2_1.pst.62.xls</td>\n",
       "      <td>546.666667</td>\n",
       "    </tr>\n",
       "    <tr>\n",
       "      <th>375</th>\n",
       "      <td>jim_schwieger_000_1_1.pst.100.xls</td>\n",
       "      <td>9857.333333</td>\n",
       "    </tr>\n",
       "    <tr>\n",
       "      <th>526</th>\n",
       "      <td>john_griffith_000_1_1.pst.185.xls</td>\n",
       "      <td>6268.000000</td>\n",
       "    </tr>\n",
       "    <tr>\n",
       "      <th>563</th>\n",
       "      <td>jim_schwieger_000_1_1.pst.71.xls</td>\n",
       "      <td>9573.666667</td>\n",
       "    </tr>\n",
       "    <tr>\n",
       "      <th>576</th>\n",
       "      <td>kevin_presto_000_1_1.pst.16.xls</td>\n",
       "      <td>4728.666667</td>\n",
       "    </tr>\n",
       "    <tr>\n",
       "      <th>585</th>\n",
       "      <td>jim_schwieger_000_1_1.pst.106.xls</td>\n",
       "      <td>9209.000000</td>\n",
       "    </tr>\n",
       "  </tbody>\n",
       "</table>\n",
       "</div>"
      ],
      "text/plain": [
       "                              fileName  long_nocomp_time\n",
       "87    dutch_quigley_000_1_1.pst.51.xls       9307.666667\n",
       "220   mark_haedicke_000_1_2.pst.31.xls        934.333333\n",
       "267    harry_arora_000_1_1.pst.130.xls      12022.333333\n",
       "280     vkaminski_001_1_2_1.pst.62.xls        546.666667\n",
       "375  jim_schwieger_000_1_1.pst.100.xls       9857.333333\n",
       "526  john_griffith_000_1_1.pst.185.xls       6268.000000\n",
       "563   jim_schwieger_000_1_1.pst.71.xls       9573.666667\n",
       "576    kevin_presto_000_1_1.pst.16.xls       4728.666667\n",
       "585  jim_schwieger_000_1_1.pst.106.xls       9209.000000"
      ]
     },
     "execution_count": 52,
     "metadata": {},
     "output_type": "execute_result"
    }
   ],
   "source": [
    "df_enron_merged[df_enron_merged[\"long_nocomp_time\"] > threshold][[\"fileName\", \"long_nocomp_time\"]]"
   ]
  },
  {
   "cell_type": "code",
   "execution_count": 53,
   "id": "6d660bdb",
   "metadata": {
    "scrolled": true
   },
   "outputs": [
    {
     "data": {
      "text/html": [
       "<div>\n",
       "<style scoped>\n",
       "    .dataframe tbody tr th:only-of-type {\n",
       "        vertical-align: middle;\n",
       "    }\n",
       "\n",
       "    .dataframe tbody tr th {\n",
       "        vertical-align: top;\n",
       "    }\n",
       "\n",
       "    .dataframe thead th {\n",
       "        text-align: right;\n",
       "    }\n",
       "</style>\n",
       "<table border=\"1\" class=\"dataframe\">\n",
       "  <thead>\n",
       "    <tr style=\"text-align: right;\">\n",
       "      <th></th>\n",
       "      <th>fileName</th>\n",
       "      <th>max_taco_time</th>\n",
       "    </tr>\n",
       "  </thead>\n",
       "  <tbody>\n",
       "  </tbody>\n",
       "</table>\n",
       "</div>"
      ],
      "text/plain": [
       "Empty DataFrame\n",
       "Columns: [fileName, max_taco_time]\n",
       "Index: []"
      ]
     },
     "execution_count": 53,
     "metadata": {},
     "output_type": "execute_result"
    }
   ],
   "source": [
    "df_enron_merged[df_enron_merged[\"max_taco_time\"] > threshold][[\"fileName\", \"max_taco_time\"]]"
   ]
  },
  {
   "cell_type": "code",
   "execution_count": 54,
   "id": "302df1b0",
   "metadata": {
    "scrolled": true
   },
   "outputs": [
    {
     "data": {
      "text/html": [
       "<div>\n",
       "<style scoped>\n",
       "    .dataframe tbody tr th:only-of-type {\n",
       "        vertical-align: middle;\n",
       "    }\n",
       "\n",
       "    .dataframe tbody tr th {\n",
       "        vertical-align: top;\n",
       "    }\n",
       "\n",
       "    .dataframe thead th {\n",
       "        text-align: right;\n",
       "    }\n",
       "</style>\n",
       "<table border=\"1\" class=\"dataframe\">\n",
       "  <thead>\n",
       "    <tr style=\"text-align: right;\">\n",
       "      <th></th>\n",
       "      <th>fileName</th>\n",
       "      <th>long_taco_time</th>\n",
       "    </tr>\n",
       "  </thead>\n",
       "  <tbody>\n",
       "  </tbody>\n",
       "</table>\n",
       "</div>"
      ],
      "text/plain": [
       "Empty DataFrame\n",
       "Columns: [fileName, long_taco_time]\n",
       "Index: []"
      ]
     },
     "execution_count": 54,
     "metadata": {},
     "output_type": "execute_result"
    }
   ],
   "source": [
    "df_enron_merged[df_enron_merged[\"long_taco_time\"] > threshold][[\"fileName\", \"long_taco_time\"]]"
   ]
  },
  {
   "cell_type": "markdown",
   "id": "4c67066c",
   "metadata": {},
   "source": [
    "### Analyze github dataset"
   ]
  },
  {
   "cell_type": "code",
   "execution_count": 55,
   "id": "e328516d",
   "metadata": {},
   "outputs": [
    {
     "data": {
      "text/html": [
       "<div>\n",
       "<style scoped>\n",
       "    .dataframe tbody tr th:only-of-type {\n",
       "        vertical-align: middle;\n",
       "    }\n",
       "\n",
       "    .dataframe tbody tr th {\n",
       "        vertical-align: top;\n",
       "    }\n",
       "\n",
       "    .dataframe thead th {\n",
       "        text-align: right;\n",
       "    }\n",
       "</style>\n",
       "<table border=\"1\" class=\"dataframe\">\n",
       "  <thead>\n",
       "    <tr style=\"text-align: right;\">\n",
       "      <th></th>\n",
       "      <th>fileName</th>\n",
       "      <th>max_taco_time</th>\n",
       "      <th>max_nocomp_time</th>\n",
       "    </tr>\n",
       "  </thead>\n",
       "  <tbody>\n",
       "  </tbody>\n",
       "</table>\n",
       "</div>"
      ],
      "text/plain": [
       "Empty DataFrame\n",
       "Columns: [fileName, max_taco_time, max_nocomp_time]\n",
       "Index: []"
      ]
     },
     "execution_count": 55,
     "metadata": {},
     "output_type": "execute_result"
    }
   ],
   "source": [
    "df_larger_than = df_github_merged[(df_github_merged[\"max_taco_time\"] > df_github_merged[\"max_nocomp_time\"]) & (df_github_merged[\"max_nocomp_time\"] > 10)]\n",
    "df_larger_than[[\"fileName\", \"max_taco_time\", \"max_nocomp_time\"]]"
   ]
  },
  {
   "cell_type": "code",
   "execution_count": 56,
   "id": "5fd0960e",
   "metadata": {},
   "outputs": [
    {
     "data": {
      "text/html": [
       "<div>\n",
       "<style scoped>\n",
       "    .dataframe tbody tr th:only-of-type {\n",
       "        vertical-align: middle;\n",
       "    }\n",
       "\n",
       "    .dataframe tbody tr th {\n",
       "        vertical-align: top;\n",
       "    }\n",
       "\n",
       "    .dataframe thead th {\n",
       "        text-align: right;\n",
       "    }\n",
       "</style>\n",
       "<table border=\"1\" class=\"dataframe\">\n",
       "  <thead>\n",
       "    <tr style=\"text-align: right;\">\n",
       "      <th></th>\n",
       "      <th>fileName</th>\n",
       "      <th>max_nocomp_time</th>\n",
       "    </tr>\n",
       "  </thead>\n",
       "  <tbody>\n",
       "    <tr>\n",
       "      <th>10</th>\n",
       "      <td>Fact2Sheet_Corona_20200607.xlsx</td>\n",
       "      <td>4483.666667</td>\n",
       "    </tr>\n",
       "    <tr>\n",
       "      <th>65</th>\n",
       "      <td>Kraken_BTCEUR_1h.xlsx</td>\n",
       "      <td>549.666667</td>\n",
       "    </tr>\n",
       "    <tr>\n",
       "      <th>90</th>\n",
       "      <td>crime_v3.xlsx</td>\n",
       "      <td>714.333333</td>\n",
       "    </tr>\n",
       "    <tr>\n",
       "      <th>152</th>\n",
       "      <td>gaslines_model_public.xlsx</td>\n",
       "      <td>788242.000000</td>\n",
       "    </tr>\n",
       "    <tr>\n",
       "      <th>154</th>\n",
       "      <td>Tio Cash Master 1400 Find Ratio of Star-fam.xlsx</td>\n",
       "      <td>579.000000</td>\n",
       "    </tr>\n",
       "    <tr>\n",
       "      <th>...</th>\n",
       "      <td>...</td>\n",
       "      <td>...</td>\n",
       "    </tr>\n",
       "    <tr>\n",
       "      <th>2151</th>\n",
       "      <td>经济总表.xlsx</td>\n",
       "      <td>41303.333333</td>\n",
       "    </tr>\n",
       "    <tr>\n",
       "      <th>2166</th>\n",
       "      <td>최경묵_퍼셉트론엑셀.xlsx</td>\n",
       "      <td>1304.333333</td>\n",
       "    </tr>\n",
       "    <tr>\n",
       "      <th>2196</th>\n",
       "      <td>aero_test.xlsx</td>\n",
       "      <td>1255.333333</td>\n",
       "    </tr>\n",
       "    <tr>\n",
       "      <th>2199</th>\n",
       "      <td>Ventas 2.0 exceldiario.xlsx</td>\n",
       "      <td>2094.333333</td>\n",
       "    </tr>\n",
       "    <tr>\n",
       "      <th>2202</th>\n",
       "      <td>Outer size Code.xlsx</td>\n",
       "      <td>505.333333</td>\n",
       "    </tr>\n",
       "  </tbody>\n",
       "</table>\n",
       "<p>109 rows × 2 columns</p>\n",
       "</div>"
      ],
      "text/plain": [
       "                                              fileName  max_nocomp_time\n",
       "10                     Fact2Sheet_Corona_20200607.xlsx      4483.666667\n",
       "65                               Kraken_BTCEUR_1h.xlsx       549.666667\n",
       "90                                       crime_v3.xlsx       714.333333\n",
       "152                         gaslines_model_public.xlsx    788242.000000\n",
       "154   Tio Cash Master 1400 Find Ratio of Star-fam.xlsx       579.000000\n",
       "...                                                ...              ...\n",
       "2151                                         经济总表.xlsx     41303.333333\n",
       "2166                                   최경묵_퍼셉트론엑셀.xlsx      1304.333333\n",
       "2196                                    aero_test.xlsx      1255.333333\n",
       "2199                       Ventas 2.0 exceldiario.xlsx      2094.333333\n",
       "2202                              Outer size Code.xlsx       505.333333\n",
       "\n",
       "[109 rows x 2 columns]"
      ]
     },
     "execution_count": 56,
     "metadata": {},
     "output_type": "execute_result"
    }
   ],
   "source": [
    "threshold=500\n",
    "df_github_merged[df_github_merged[\"max_nocomp_time\"] > threshold][[\"fileName\", \"max_nocomp_time\"]]"
   ]
  },
  {
   "cell_type": "code",
   "execution_count": 57,
   "id": "d48d1124",
   "metadata": {},
   "outputs": [
    {
     "data": {
      "text/html": [
       "<div>\n",
       "<style scoped>\n",
       "    .dataframe tbody tr th:only-of-type {\n",
       "        vertical-align: middle;\n",
       "    }\n",
       "\n",
       "    .dataframe tbody tr th {\n",
       "        vertical-align: top;\n",
       "    }\n",
       "\n",
       "    .dataframe thead th {\n",
       "        text-align: right;\n",
       "    }\n",
       "</style>\n",
       "<table border=\"1\" class=\"dataframe\">\n",
       "  <thead>\n",
       "    <tr style=\"text-align: right;\">\n",
       "      <th></th>\n",
       "      <th>fileName</th>\n",
       "      <th>long_nocomp_time</th>\n",
       "    </tr>\n",
       "  </thead>\n",
       "  <tbody>\n",
       "    <tr>\n",
       "      <th>59</th>\n",
       "      <td>地方政府债券整理-hs.xlsx</td>\n",
       "      <td>588.333333</td>\n",
       "    </tr>\n",
       "    <tr>\n",
       "      <th>90</th>\n",
       "      <td>crime_v3.xlsx</td>\n",
       "      <td>797.666667</td>\n",
       "    </tr>\n",
       "    <tr>\n",
       "      <th>131</th>\n",
       "      <td>DMD_PRJ.xlsx</td>\n",
       "      <td>1028.000000</td>\n",
       "    </tr>\n",
       "    <tr>\n",
       "      <th>152</th>\n",
       "      <td>gaslines_model_public.xlsx</td>\n",
       "      <td>701094.666667</td>\n",
       "    </tr>\n",
       "    <tr>\n",
       "      <th>154</th>\n",
       "      <td>Tio Cash Master 1400 Find Ratio of Star-fam.xlsx</td>\n",
       "      <td>547.000000</td>\n",
       "    </tr>\n",
       "    <tr>\n",
       "      <th>...</th>\n",
       "      <td>...</td>\n",
       "      <td>...</td>\n",
       "    </tr>\n",
       "    <tr>\n",
       "      <th>2112</th>\n",
       "      <td>Detroit data (stata &amp; Eviews outputs).xlsx</td>\n",
       "      <td>2334.666667</td>\n",
       "    </tr>\n",
       "    <tr>\n",
       "      <th>2132</th>\n",
       "      <td>homework7_ducharme_h.xlsx</td>\n",
       "      <td>653.333333</td>\n",
       "    </tr>\n",
       "    <tr>\n",
       "      <th>2166</th>\n",
       "      <td>최경묵_퍼셉트론엑셀.xlsx</td>\n",
       "      <td>1409.333333</td>\n",
       "    </tr>\n",
       "    <tr>\n",
       "      <th>2196</th>\n",
       "      <td>aero_test.xlsx</td>\n",
       "      <td>1204.333333</td>\n",
       "    </tr>\n",
       "    <tr>\n",
       "      <th>2202</th>\n",
       "      <td>Outer size Code.xlsx</td>\n",
       "      <td>622.000000</td>\n",
       "    </tr>\n",
       "  </tbody>\n",
       "</table>\n",
       "<p>75 rows × 2 columns</p>\n",
       "</div>"
      ],
      "text/plain": [
       "                                              fileName  long_nocomp_time\n",
       "59                                    地方政府债券整理-hs.xlsx        588.333333\n",
       "90                                       crime_v3.xlsx        797.666667\n",
       "131                                       DMD_PRJ.xlsx       1028.000000\n",
       "152                         gaslines_model_public.xlsx     701094.666667\n",
       "154   Tio Cash Master 1400 Find Ratio of Star-fam.xlsx        547.000000\n",
       "...                                                ...               ...\n",
       "2112        Detroit data (stata & Eviews outputs).xlsx       2334.666667\n",
       "2132                         homework7_ducharme_h.xlsx        653.333333\n",
       "2166                                   최경묵_퍼셉트론엑셀.xlsx       1409.333333\n",
       "2196                                    aero_test.xlsx       1204.333333\n",
       "2202                              Outer size Code.xlsx        622.000000\n",
       "\n",
       "[75 rows x 2 columns]"
      ]
     },
     "execution_count": 57,
     "metadata": {},
     "output_type": "execute_result"
    }
   ],
   "source": [
    "df_github_merged[df_github_merged[\"long_nocomp_time\"] > threshold][[\"fileName\", \"long_nocomp_time\"]]"
   ]
  },
  {
   "cell_type": "code",
   "execution_count": 58,
   "id": "760ee5ae",
   "metadata": {},
   "outputs": [
    {
     "data": {
      "text/html": [
       "<div>\n",
       "<style scoped>\n",
       "    .dataframe tbody tr th:only-of-type {\n",
       "        vertical-align: middle;\n",
       "    }\n",
       "\n",
       "    .dataframe tbody tr th {\n",
       "        vertical-align: top;\n",
       "    }\n",
       "\n",
       "    .dataframe thead th {\n",
       "        text-align: right;\n",
       "    }\n",
       "</style>\n",
       "<table border=\"1\" class=\"dataframe\">\n",
       "  <thead>\n",
       "    <tr style=\"text-align: right;\">\n",
       "      <th></th>\n",
       "      <th>fileName</th>\n",
       "      <th>max_taco_time</th>\n",
       "    </tr>\n",
       "  </thead>\n",
       "  <tbody>\n",
       "  </tbody>\n",
       "</table>\n",
       "</div>"
      ],
      "text/plain": [
       "Empty DataFrame\n",
       "Columns: [fileName, max_taco_time]\n",
       "Index: []"
      ]
     },
     "execution_count": 58,
     "metadata": {},
     "output_type": "execute_result"
    }
   ],
   "source": [
    "df_github_merged[df_github_merged[\"max_taco_time\"] > threshold][[\"fileName\", \"max_taco_time\"]]"
   ]
  },
  {
   "cell_type": "code",
   "execution_count": 59,
   "id": "812365ab",
   "metadata": {},
   "outputs": [
    {
     "data": {
      "text/html": [
       "<div>\n",
       "<style scoped>\n",
       "    .dataframe tbody tr th:only-of-type {\n",
       "        vertical-align: middle;\n",
       "    }\n",
       "\n",
       "    .dataframe tbody tr th {\n",
       "        vertical-align: top;\n",
       "    }\n",
       "\n",
       "    .dataframe thead th {\n",
       "        text-align: right;\n",
       "    }\n",
       "</style>\n",
       "<table border=\"1\" class=\"dataframe\">\n",
       "  <thead>\n",
       "    <tr style=\"text-align: right;\">\n",
       "      <th></th>\n",
       "      <th>fileName</th>\n",
       "      <th>long_taco_time</th>\n",
       "    </tr>\n",
       "  </thead>\n",
       "  <tbody>\n",
       "  </tbody>\n",
       "</table>\n",
       "</div>"
      ],
      "text/plain": [
       "Empty DataFrame\n",
       "Columns: [fileName, long_taco_time]\n",
       "Index: []"
      ]
     },
     "execution_count": 59,
     "metadata": {},
     "output_type": "execute_result"
    }
   ],
   "source": [
    "df_github_merged[df_github_merged[\"long_taco_time\"] > threshold][[\"fileName\", \"long_taco_time\"]]"
   ]
  },
  {
   "cell_type": "markdown",
   "id": "a2aba922",
   "metadata": {},
   "source": [
    "# 4. Modify Formula Graph"
   ]
  },
  {
   "cell_type": "code",
   "execution_count": 60,
   "id": "27f400d8",
   "metadata": {},
   "outputs": [],
   "source": [
    "def load_modify_results(path, filename):\n",
    "    filename_list = [filename + \"_\" + str(i) + \".csv\" for i in [1, 2, 3]]\n",
    "    column_list = ['fileName', 'Max Dep Ref', 'GraphModifySize', 'GraphModifyTime']\n",
    "    df1 = pd.read_csv(path + \"/\" + filename_list[0])\n",
    "    df2 = pd.read_csv(path + \"/\" + filename_list[1])\n",
    "    df3 = pd.read_csv(path + \"/\" + filename_list[2])\n",
    "    df = pd.merge(df1, df2, on=['fileName', 'Max Dep Ref', 'GraphModifySize'], how=\"inner\")\n",
    "    df = pd.merge(df, df3, on=['fileName', 'Max Dep Ref', 'GraphModifySize'], how=\"inner\")\n",
    "    \n",
    "    time_ls = []\n",
    "    cand_col = [x for x in list(df.columns) if \"GraphModifyTime\" in x]\n",
    "    for i in range(len(df)):\n",
    "        ls = []\n",
    "        for col in cand_col:\n",
    "            ls.append(df.loc[i, col])\n",
    "        time_ls.append(np.mean(ls))\n",
    "    df['GraphModifyTime'] = time_ls\n",
    "    return df[column_list]"
   ]
  },
  {
   "cell_type": "code",
   "execution_count": 61,
   "id": "2f67411a",
   "metadata": {},
   "outputs": [],
   "source": [
    "enron_nocomp_modify = load_modify_results(enron_modify_output, \"enron_nocomp_modify\")\n",
    "enron_taco_modify = load_modify_results(enron_modify_output, \"enron_taco_modify\")\n",
    "github_nocomp_modify = load_modify_results(github_modify_output, \"github_nocomp_modify\")\n",
    "github_taco_modify = load_modify_results(github_modify_output, \"github_taco_modify\")\n",
    "enron_nocomp_modify_1k = enron_nocomp_modify[enron_nocomp_modify['GraphModifySize'] == 1000]\n",
    "enron_taco_modify_1k = enron_taco_modify[enron_taco_modify['GraphModifySize'] == 1000]\n",
    "github_nocomp_modify_1k = github_nocomp_modify[github_nocomp_modify['GraphModifySize'] == 1000]\n",
    "github_taco_modify_1k = github_taco_modify[github_taco_modify['GraphModifySize'] == 1000]"
   ]
  },
  {
   "cell_type": "code",
   "execution_count": 62,
   "id": "9f5bcf77",
   "metadata": {},
   "outputs": [],
   "source": [
    "enron_nocomp_modify_1k = enron_nocomp_modify_1k.drop(75)\n",
    "github_nocomp_modify_1k = github_nocomp_modify_1k.drop([17, 21, 193])"
   ]
  },
  {
   "cell_type": "code",
   "execution_count": 63,
   "id": "3995eedb",
   "metadata": {},
   "outputs": [
    {
     "data": {
      "text/plain": [
       "(161, 0.2719594594594595)"
      ]
     },
     "execution_count": 63,
     "metadata": {},
     "output_type": "execute_result"
    }
   ],
   "source": [
    "len(enron_taco_modify), len(enron_taco_modify) / len(df_enron_merged)"
   ]
  },
  {
   "cell_type": "code",
   "execution_count": 64,
   "id": "5450d1b9",
   "metadata": {},
   "outputs": [
    {
     "data": {
      "text/plain": [
       "(165, 0.07482993197278912)"
      ]
     },
     "execution_count": 64,
     "metadata": {},
     "output_type": "execute_result"
    }
   ],
   "source": [
    "len(github_taco_modify), len(github_taco_modify) / len(df_github_merged)"
   ]
  },
  {
   "cell_type": "code",
   "execution_count": 65,
   "id": "740231cf",
   "metadata": {},
   "outputs": [
    {
     "data": {
      "text/plain": [
       "(16, 81)"
      ]
     },
     "execution_count": 65,
     "metadata": {},
     "output_type": "execute_result"
    }
   ],
   "source": [
    "len(enron_taco_modify_1k), len(github_taco_modify_1k) "
   ]
  },
  {
   "cell_type": "code",
   "execution_count": 66,
   "id": "48e22667",
   "metadata": {},
   "outputs": [],
   "source": [
    "freq_enron_taco_modify = get_pdf_df(enron_taco_modify_1k, 'GraphModifyTime', False)\n",
    "freq_enron_nocomp_modify = get_pdf_df(enron_nocomp_modify_1k, 'GraphModifyTime', False)"
   ]
  },
  {
   "cell_type": "code",
   "execution_count": 67,
   "id": "e4e9be31",
   "metadata": {},
   "outputs": [
    {
     "data": {
      "image/png": "[encoded data removed]",
      "text/plain": [
       "<Figure size 720x432 with 1 Axes>"
      ]
     },
     "metadata": {},
     "output_type": "display_data"
    }
   ],
   "source": [
    "plot_pdf(freq_enron_taco_modify, freq_enron_nocomp_modify, \n",
    "         \"Cumulative Distribution of Graph Modify Time on Enron Dataset\",\n",
    "         \"Time\",\n",
    "         \"Percentage\",\n",
    "         is_log=False\n",
    "        )"
   ]
  },
  {
   "cell_type": "code",
   "execution_count": 68,
   "id": "cbaf9810",
   "metadata": {},
   "outputs": [],
   "source": [
    "freq_github_taco_modify = get_pdf_df(github_taco_modify_1k, 'GraphModifyTime', False)\n",
    "freq_github_nocomp_modify = get_pdf_df(github_nocomp_modify_1k, 'GraphModifyTime', False)"
   ]
  },
  {
   "cell_type": "code",
   "execution_count": 69,
   "id": "c113b2c6",
   "metadata": {},
   "outputs": [
    {
     "data": {
      "image/png": "[encoded data removed]",
      "text/plain": [
       "<Figure size 720x432 with 1 Axes>"
      ]
     },
     "metadata": {},
     "output_type": "display_data"
    }
   ],
   "source": [
    "plot_pdf(freq_github_taco_modify, freq_github_nocomp_modify, \n",
    "         \"Cumulative Distribution of Graph Modify Time on Github Dataset\",\n",
    "         \"Time\",\n",
    "         \"Percentage\",\n",
    "         is_log=False\n",
    "        )"
   ]
  },
  {
   "cell_type": "code",
   "execution_count": null,
   "id": "31a1403c",
   "metadata": {},
   "outputs": [],
   "source": []
  }
 ],
 "metadata": {
  "kernelspec": {
   "display_name": "Python 3",
   "language": "python",
   "name": "python3"
  },
  "language_info": {
   "codemirror_mode": {
    "name": "ipython",
    "version": 3
   },
   "file_extension": ".py",
   "mimetype": "text/x-python",
   "name": "python",
   "nbconvert_exporter": "python",
   "pygments_lexer": "ipython3",
   "version": "3.8.10"
  }
 },
 "nbformat": 4,
 "nbformat_minor": 5
}
